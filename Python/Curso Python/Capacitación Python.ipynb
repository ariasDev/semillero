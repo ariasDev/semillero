{
 "cells": [
  {
   "cell_type": "markdown",
   "metadata": {
    "colab_type": "text",
    "id": "nYdsIvIZBNkE"
   },
   "source": [
    "![Python](https://www.python.org/static/community_logos/python-logo-master-v3-TM.png)\n",
    "\n",
    "\n",
    "# PYTHON\n",
    "\n",
    "*Python is a programming language that lets you work quickly and integrate systems more effectively*\n",
    "\n",
    "*Python is powerful... and fast; plays well with others; runs everywhere; is friendly & easy to learn; is Open*\n"
   ]
  },
  {
   "cell_type": "markdown",
   "metadata": {
    "colab_type": "text",
    "id": "YYBpeT3YWOze"
   },
   "source": [
    "# Introducción\n",
    "\n",
    "Python es un lenguaje estructurado, orientado a objetos (OOP), compilado en tiempo de ejecución, ideal para hacer scripting, procesamiento de datos, analítica y machine learning.\n",
    "\n",
    "Es simple de codificar, no es tipado, y requiere poco código para lograr funcionalidades (comparado con Java y C).\n",
    "\n",
    "Como no es compilado, siempre se debe entregar todo el código fuente.\n",
    "\n",
    "Al ser un lenguaje interpretado, es completamente portable a diferentes plataformas. Inclusive existen emuladores Web, por lo cual no es necesario ni siquiera instalarlo.\n",
    "\n",
    "Es un software completamente libre."
   ]
  },
  {
   "cell_type": "markdown",
   "metadata": {
    "colab_type": "text",
    "id": "j9_G-f71WrUl"
   },
   "source": [
    " # Conceptos básicos\n",
    " \n",
    " ## Hola mundo\n",
    " \n",
    " En Python, al ser un lenguaje de scripting, un programa puede ser tan simple como una instrucción. Así, el tradicional \"Hola mundo\" se logra con una línea de código:\n",
    " \n",
    " ```\n",
    " print(\"Hola mundo\")\n",
    " ```"
   ]
  },
  {
   "cell_type": "code",
   "execution_count": null,
   "metadata": {
    "colab": {
     "base_uri": "https://localhost:8080/",
     "height": 34
    },
    "colab_type": "code",
    "executionInfo": {
     "elapsed": 500,
     "status": "ok",
     "timestamp": 1566339473361,
     "user": {
      "displayName": "Ricardo José Ramírez Blauvelt",
      "photoUrl": "https://lh5.googleusercontent.com/-4Bjnu_NlnGg/AAAAAAAAAAI/AAAAAAAArTg/o0MMA_CT8vw/s64/photo.jpg",
      "userId": "15259993531050943844"
     },
     "user_tz": 300
    },
    "id": "oU6jTq8xXQN7",
    "outputId": "81dc617d-90a9-4cab-b49e-76675a9eb511"
   },
   "outputs": [
    {
     "name": "stdout",
     "output_type": "stream",
     "text": [
      "Hola mundo\n"
     ]
    }
   ],
   "source": [
    "# Haz la prueba\n",
    "print(\"Hola mundo\")"
   ]
  },
  {
   "cell_type": "markdown",
   "metadata": {
    "colab_type": "text",
    "id": "PcSyWyqdFXgO"
   },
   "source": [
    "### También se pueden hacer operaciones básicas en la consola\n",
    "\n",
    "Las operaciones matemáticas y de asignación se pueden hacer directamente en la consola:\n"
   ]
  },
  {
   "cell_type": "code",
   "execution_count": null,
   "metadata": {
    "colab": {
     "base_uri": "https://localhost:8080/",
     "height": 34
    },
    "colab_type": "code",
    "executionInfo": {
     "elapsed": 802,
     "status": "ok",
     "timestamp": 1566340043017,
     "user": {
      "displayName": "Ricardo José Ramírez Blauvelt",
      "photoUrl": "https://lh5.googleusercontent.com/-4Bjnu_NlnGg/AAAAAAAAAAI/AAAAAAAArTg/o0MMA_CT8vw/s64/photo.jpg",
      "userId": "15259993531050943844"
     },
     "user_tz": 300
    },
    "id": "DD6ijtbOFjCR",
    "outputId": "ba5a1e57-0dec-41c3-d90f-696c854c86a7"
   },
   "outputs": [
    {
     "data": {
      "text/plain": [
       "False"
      ]
     },
     "execution_count": 82,
     "metadata": {
      "tags": []
     },
     "output_type": "execute_result"
    }
   ],
   "source": [
    "a = 1\n",
    "a > 2"
   ]
  },
  {
   "cell_type": "code",
   "execution_count": null,
   "metadata": {
    "colab": {
     "base_uri": "https://localhost:8080/",
     "height": 34
    },
    "colab_type": "code",
    "executionInfo": {
     "elapsed": 550,
     "status": "ok",
     "timestamp": 1566340044377,
     "user": {
      "displayName": "Ricardo José Ramírez Blauvelt",
      "photoUrl": "https://lh5.googleusercontent.com/-4Bjnu_NlnGg/AAAAAAAAAAI/AAAAAAAArTg/o0MMA_CT8vw/s64/photo.jpg",
      "userId": "15259993531050943844"
     },
     "user_tz": 300
    },
    "id": "a5-bptkHFycB",
    "outputId": "087f1fc9-ccae-4317-e096-9b81fc785c74"
   },
   "outputs": [
    {
     "data": {
      "text/plain": [
       "6"
      ]
     },
     "execution_count": 83,
     "metadata": {
      "tags": []
     },
     "output_type": "execute_result"
    }
   ],
   "source": [
    "2 * 3"
   ]
  },
  {
   "cell_type": "code",
   "execution_count": null,
   "metadata": {
    "colab": {
     "base_uri": "https://localhost:8080/",
     "height": 34
    },
    "colab_type": "code",
    "executionInfo": {
     "elapsed": 564,
     "status": "ok",
     "timestamp": 1566340045653,
     "user": {
      "displayName": "Ricardo José Ramírez Blauvelt",
      "photoUrl": "https://lh5.googleusercontent.com/-4Bjnu_NlnGg/AAAAAAAAAAI/AAAAAAAArTg/o0MMA_CT8vw/s64/photo.jpg",
      "userId": "15259993531050943844"
     },
     "user_tz": 300
    },
    "id": "NVbw6hSLF1Wh",
    "outputId": "bebc37c5-cd1f-43b9-b201-bf6e25efa2d2"
   },
   "outputs": [
    {
     "data": {
      "text/plain": [
       "8"
      ]
     },
     "execution_count": 84,
     "metadata": {
      "tags": []
     },
     "output_type": "execute_result"
    }
   ],
   "source": [
    "2 ** 3"
   ]
  },
  {
   "cell_type": "code",
   "execution_count": null,
   "metadata": {
    "colab": {
     "base_uri": "https://localhost:8080/",
     "height": 34
    },
    "colab_type": "code",
    "executionInfo": {
     "elapsed": 460,
     "status": "ok",
     "timestamp": 1566340047453,
     "user": {
      "displayName": "Ricardo José Ramírez Blauvelt",
      "photoUrl": "https://lh5.googleusercontent.com/-4Bjnu_NlnGg/AAAAAAAAAAI/AAAAAAAArTg/o0MMA_CT8vw/s64/photo.jpg",
      "userId": "15259993531050943844"
     },
     "user_tz": 300
    },
    "id": "wZhWxD-wF3Bo",
    "outputId": "dd614492-4c09-4993-e0ee-cd6f3cbbb77f"
   },
   "outputs": [
    {
     "data": {
      "text/plain": [
       "2.25"
      ]
     },
     "execution_count": 85,
     "metadata": {
      "tags": []
     },
     "output_type": "execute_result"
    }
   ],
   "source": [
    "9 / 4"
   ]
  },
  {
   "cell_type": "code",
   "execution_count": 1,
   "metadata": {
    "colab": {
     "base_uri": "https://localhost:8080/",
     "height": 34
    },
    "colab_type": "code",
    "executionInfo": {
     "elapsed": 562,
     "status": "ok",
     "timestamp": 1568151378194,
     "user": {
      "displayName": "Ricardo José Ramírez Blauvelt",
      "photoUrl": "https://lh3.googleusercontent.com/a-/AAuE7mC7HsFZWgDyVaAB6Wza-nOVo2GcumlXSW3wkY9oVKc=s64",
      "userId": "15259993531050943844"
     },
     "user_tz": 300
    },
    "id": "mC2J_tXXGvkj",
    "outputId": "0dd5a2a8-9da2-42aa-b5ed-1d6c22432e3e"
   },
   "outputs": [
    {
     "data": {
      "text/plain": [
       "2"
      ]
     },
     "execution_count": 1,
     "metadata": {
      "tags": []
     },
     "output_type": "execute_result"
    }
   ],
   "source": [
    "9 // 4"
   ]
  },
  {
   "cell_type": "code",
   "execution_count": null,
   "metadata": {
    "colab": {
     "base_uri": "https://localhost:8080/",
     "height": 34
    },
    "colab_type": "code",
    "executionInfo": {
     "elapsed": 426,
     "status": "ok",
     "timestamp": 1566340048673,
     "user": {
      "displayName": "Ricardo José Ramírez Blauvelt",
      "photoUrl": "https://lh5.googleusercontent.com/-4Bjnu_NlnGg/AAAAAAAAAAI/AAAAAAAArTg/o0MMA_CT8vw/s64/photo.jpg",
      "userId": "15259993531050943844"
     },
     "user_tz": 300
    },
    "id": "-G8eP_w-F5JY",
    "outputId": "3d2a26d7-ddc1-427e-91c6-88f4aa0d46f9"
   },
   "outputs": [
    {
     "data": {
      "text/plain": [
       "9"
      ]
     },
     "execution_count": 86,
     "metadata": {
      "tags": []
     },
     "output_type": "execute_result"
    }
   ],
   "source": [
    "8 + a"
   ]
  },
  {
   "cell_type": "code",
   "execution_count": null,
   "metadata": {
    "colab": {
     "base_uri": "https://localhost:8080/",
     "height": 34
    },
    "colab_type": "code",
    "executionInfo": {
     "elapsed": 449,
     "status": "ok",
     "timestamp": 1566340050153,
     "user": {
      "displayName": "Ricardo José Ramírez Blauvelt",
      "photoUrl": "https://lh5.googleusercontent.com/-4Bjnu_NlnGg/AAAAAAAAAAI/AAAAAAAArTg/o0MMA_CT8vw/s64/photo.jpg",
      "userId": "15259993531050943844"
     },
     "user_tz": 300
    },
    "id": "xpmsSyLSm9Ih",
    "outputId": "56e2904a-0cbc-4435-9a3e-7708dcbf7866"
   },
   "outputs": [
    {
     "data": {
      "text/plain": [
       "'hola mundo'"
      ]
     },
     "execution_count": 87,
     "metadata": {
      "tags": []
     },
     "output_type": "execute_result"
    }
   ],
   "source": [
    "\"hola\" + \" \" + \"mundo\""
   ]
  },
  {
   "cell_type": "markdown",
   "metadata": {
    "colab_type": "text",
    "id": "5f1QfG-eXZv3"
   },
   "source": [
    "## Estructura del código\n",
    "\n",
    "Python es un lenguaje interpretado que no maneja agrupadores como llaves, paréntesis o corchetes para limitar el alcance de un bloque de código. Esto se logra mediante un correcto y estricto manejo de las tabulaciones y los saltos de línea.\n",
    "\n",
    "Así, todos los elementos que tengan la misma \"margen\", pertenecen al mismo bloque, y el inicio de un bloque, se define por dos puntos (\":\").\n",
    "\n",
    "Este concepto de bloques, aplica para funciones, clases, condicionales, ciclos, etc.\n",
    "\n",
    "Adicionalmente, cada instruccion va en un renglón y el final de la misma, va marcado por un salto de línea (ENTER).\n",
    "\n",
    "### Imports\n",
    "\n",
    "Como la mayoría de los lenguajes, las operaciones básicas se cargan por defecto. Sin embargo, cada que se requiera un paquete especial, éste debe ser importado al programa previo a su utilización\n",
    "\n",
    "`import pandas`\n",
    "\n",
    "`import pandas as pd`\n",
    "\n",
    "`from datetime import time`"
   ]
  },
  {
   "cell_type": "markdown",
   "metadata": {
    "colab_type": "text",
    "id": "m9HeOLFNEcPk"
   },
   "source": [
    "## Condicionales\n",
    "\n",
    "Las condiciones en Python se establecen mediante instrucciones `if`, `else` y  `elif`\n",
    "\n",
    "\n",
    "```\n",
    "if <condicion>:\n",
    "  sentencias para condición\n",
    "elif <otra condición>:\n",
    "  sentencias para otra condición \n",
    "else:\n",
    "  sentencias si no cumple la condición\n",
    "\n",
    "```\n",
    "\n"
   ]
  },
  {
   "cell_type": "code",
   "execution_count": null,
   "metadata": {
    "colab": {
     "base_uri": "https://localhost:8080/",
     "height": 34
    },
    "colab_type": "code",
    "executionInfo": {
     "elapsed": 497,
     "status": "ok",
     "timestamp": 1566340465696,
     "user": {
      "displayName": "Ricardo José Ramírez Blauvelt",
      "photoUrl": "https://lh5.googleusercontent.com/-4Bjnu_NlnGg/AAAAAAAAAAI/AAAAAAAArTg/o0MMA_CT8vw/s64/photo.jpg",
      "userId": "15259993531050943844"
     },
     "user_tz": 300
    },
    "id": "qFBfhdj3BX8S",
    "outputId": "581924ba-ab32-4a3d-9d52-a381a8e0708b"
   },
   "outputs": [
    {
     "name": "stdout",
     "output_type": "stream",
     "text": [
      "El dato es igual a 2\n"
     ]
    }
   ],
   "source": [
    "# Haz la prueba\n",
    "dato = 2\n",
    "if dato > 2:\n",
    "  print(\"El dato es mayor que 2\")\n",
    "elif dato == 2:\n",
    "  print(\"El dato es igual a 2\")\n",
    "else:\n",
    "  print(\"El dato no es mayor que 2\")"
   ]
  },
  {
   "cell_type": "code",
   "execution_count": null,
   "metadata": {
    "colab": {
     "base_uri": "https://localhost:8080/",
     "height": 51
    },
    "colab_type": "code",
    "executionInfo": {
     "elapsed": 501,
     "status": "ok",
     "timestamp": 1566340613115,
     "user": {
      "displayName": "Ricardo José Ramírez Blauvelt",
      "photoUrl": "https://lh5.googleusercontent.com/-4Bjnu_NlnGg/AAAAAAAAAAI/AAAAAAAArTg/o0MMA_CT8vw/s64/photo.jpg",
      "userId": "15259993531050943844"
     },
     "user_tz": 300
    },
    "id": "muMONJKBMyJ4",
    "outputId": "34aad7b0-e384-46e9-a63d-42ec293cf164"
   },
   "outputs": [
    {
     "name": "stdout",
     "output_type": "stream",
     "text": [
      "True\n",
      "False\n"
     ]
    }
   ],
   "source": [
    "# IF Inmediato\n",
    "es_par = True if 66 % 2 == 0 else False\n",
    "print(es_par)\n",
    "es_par = True if 45 % 2 == 0 else False\n",
    "print(es_par)"
   ]
  },
  {
   "cell_type": "code",
   "execution_count": null,
   "metadata": {
    "colab": {
     "base_uri": "https://localhost:8080/",
     "height": 34
    },
    "colab_type": "code",
    "executionInfo": {
     "elapsed": 491,
     "status": "ok",
     "timestamp": 1566340768348,
     "user": {
      "displayName": "Ricardo José Ramírez Blauvelt",
      "photoUrl": "https://lh5.googleusercontent.com/-4Bjnu_NlnGg/AAAAAAAAAAI/AAAAAAAArTg/o0MMA_CT8vw/s64/photo.jpg",
      "userId": "15259993531050943844"
     },
     "user_tz": 300
    },
    "id": "JHIiKrt6NrVU",
    "outputId": "619784f4-d6c7-40fe-c92a-6e4a19e84e30"
   },
   "outputs": [
    {
     "name": "stdout",
     "output_type": "stream",
     "text": [
      "2000 ES bisiesto\n"
     ]
    }
   ],
   "source": [
    "# Múltiples condiciones AND y OR\n",
    "year = 2000\n",
    "if (year % 4 == 0 and year % 100 != 0) or year % 400 == 0:\n",
    "  print(\"{} ES bisiesto\".format(year))\n",
    "else:\n",
    "  print(\"{} NO es bisiesto\".format(year))\n",
    "  "
   ]
  },
  {
   "cell_type": "markdown",
   "metadata": {
    "colab_type": "text",
    "id": "5SlnaKIJVbxg"
   },
   "source": [
    "**Ejercicio 1:**\n",
    "\n",
    "A partir de la nota de un estudiante (de 1 a 10), diga si es un\n",
    "insuficiente (menos de 5), suficiente (de 5 a 7), notable (de 7 a 9) o sobresaliente (entre 9 y 10)\n"
   ]
  },
  {
   "cell_type": "code",
   "execution_count": null,
   "metadata": {
    "colab": {},
    "colab_type": "code",
    "id": "nFqCZoP7W5YH"
   },
   "outputs": [],
   "source": [
    "nota = 5\n",
    "# tu código"
   ]
  },
  {
   "cell_type": "markdown",
   "metadata": {
    "colab_type": "text",
    "id": "YSLPrzSJW0uN"
   },
   "source": [
    "**Ejercicio 2:**\n",
    "\n",
    "Valide si exime a un estudiante del examen final, si existen dos opciones para que eso ocurra (son 3 notas en la materia: parcial 1, parcial 2 y final):\n",
    "- Que las notas del parcial 1 y del proyecto sean mayores a 4.5.\n",
    "- Que en alguno de los dos parciales haya sacado 5.0 y el otro no lo haya perdido\n"
   ]
  },
  {
   "cell_type": "code",
   "execution_count": null,
   "metadata": {
    "colab": {},
    "colab_type": "code",
    "id": "pOaV-q1SW57v"
   },
   "outputs": [],
   "source": [
    "parcial1 = 0\n",
    "parcial2 = 0\n",
    "# tu código\n",
    "\n"
   ]
  },
  {
   "cell_type": "markdown",
   "metadata": {
    "colab_type": "text",
    "id": "-VnGsl5mGN34"
   },
   "source": [
    "## Ciclos\n",
    "\n",
    "Como cualquier lenguaje, soporta ciclos `for` y `while`. También soporta las estructuras de control típicas `break` y `continue`.\n",
    "\n",
    "### Ciclo `for`\n",
    "\n",
    "```\n",
    "for <variable> in <iterable>:\n",
    "  <sentencias>\n",
    "```\n",
    "\n",
    "### Ciclo `while`\n",
    "```\n",
    "while <condición verdadera>:\n",
    "  <sentencias (incluida la que asegura el criterio de salida)>\n",
    "```\n"
   ]
  },
  {
   "cell_type": "code",
   "execution_count": null,
   "metadata": {
    "colab": {
     "base_uri": "https://localhost:8080/",
     "height": 34
    },
    "colab_type": "code",
    "executionInfo": {
     "elapsed": 519,
     "status": "ok",
     "timestamp": 1566341007539,
     "user": {
      "displayName": "Ricardo José Ramírez Blauvelt",
      "photoUrl": "https://lh5.googleusercontent.com/-4Bjnu_NlnGg/AAAAAAAAAAI/AAAAAAAArTg/o0MMA_CT8vw/s64/photo.jpg",
      "userId": "15259993531050943844"
     },
     "user_tz": 300
    },
    "id": "tYJ4ldy2HSBY",
    "outputId": "3444beb7-dc9d-446f-f399-fedb48c978e5"
   },
   "outputs": [
    {
     "name": "stdout",
     "output_type": "stream",
     "text": [
      "1 2 3 4 "
     ]
    }
   ],
   "source": [
    "# Haz tu prueba\n",
    "for i in range(1, 5):\n",
    "  print(i, end=' ')"
   ]
  },
  {
   "cell_type": "code",
   "execution_count": null,
   "metadata": {
    "colab": {
     "base_uri": "https://localhost:8080/",
     "height": 34
    },
    "colab_type": "code",
    "executionInfo": {
     "elapsed": 483,
     "status": "ok",
     "timestamp": 1566341009666,
     "user": {
      "displayName": "Ricardo José Ramírez Blauvelt",
      "photoUrl": "https://lh5.googleusercontent.com/-4Bjnu_NlnGg/AAAAAAAAAAI/AAAAAAAArTg/o0MMA_CT8vw/s64/photo.jpg",
      "userId": "15259993531050943844"
     },
     "user_tz": 300
    },
    "id": "T-yF_x6oeuOG",
    "outputId": "ef9ecc83-b88c-43df-d7db-ad39d9b17bb5"
   },
   "outputs": [
    {
     "name": "stdout",
     "output_type": "stream",
     "text": [
      "1 2 3 4 "
     ]
    }
   ],
   "source": [
    "# Haz tu prueba\n",
    "i = 1\n",
    "while i < 5:\n",
    "  print(i, end=' ')\n",
    "  i += 1"
   ]
  },
  {
   "cell_type": "code",
   "execution_count": null,
   "metadata": {
    "colab": {
     "base_uri": "https://localhost:8080/",
     "height": 34
    },
    "colab_type": "code",
    "executionInfo": {
     "elapsed": 555,
     "status": "ok",
     "timestamp": 1566341116877,
     "user": {
      "displayName": "Ricardo José Ramírez Blauvelt",
      "photoUrl": "https://lh5.googleusercontent.com/-4Bjnu_NlnGg/AAAAAAAAAAI/AAAAAAAArTg/o0MMA_CT8vw/s64/photo.jpg",
      "userId": "15259993531050943844"
     },
     "user_tz": 300
    },
    "id": "lmYzQYwqfagZ",
    "outputId": "007540cc-34ba-4fc9-c8d4-a5ccb40ae4ca"
   },
   "outputs": [
    {
     "name": "stdout",
     "output_type": "stream",
     "text": [
      "t u   p r p i   n m "
     ]
    }
   ],
   "source": [
    "# Haz tu prueba\n",
    "for x in \"tu propio nomxbre\":\n",
    "  if x == \"o\":\n",
    "    continue\n",
    "  elif x == \"x\":\n",
    "    break\n",
    "  else:\n",
    "    print(x, end=' ')"
   ]
  },
  {
   "cell_type": "code",
   "execution_count": null,
   "metadata": {
    "colab": {
     "base_uri": "https://localhost:8080/",
     "height": 34
    },
    "colab_type": "code",
    "executionInfo": {
     "elapsed": 527,
     "status": "ok",
     "timestamp": 1566341170450,
     "user": {
      "displayName": "Ricardo José Ramírez Blauvelt",
      "photoUrl": "https://lh5.googleusercontent.com/-4Bjnu_NlnGg/AAAAAAAAAAI/AAAAAAAArTg/o0MMA_CT8vw/s64/photo.jpg",
      "userId": "15259993531050943844"
     },
     "user_tz": 300
    },
    "id": "-ul58ds-gBs0",
    "outputId": "3bb0e1d8-8104-4d4e-a52c-b3267b2f7e34"
   },
   "outputs": [
    {
     "name": "stdout",
     "output_type": "stream",
     "text": [
      "0 2 4 6 8 "
     ]
    }
   ],
   "source": [
    "# Haz tu prueba\n",
    "for i in range(10):\n",
    "  if i % 2 == 0:\n",
    "    print(i, end=' ')"
   ]
  },
  {
   "cell_type": "code",
   "execution_count": null,
   "metadata": {
    "colab": {
     "base_uri": "https://localhost:8080/",
     "height": 34
    },
    "colab_type": "code",
    "executionInfo": {
     "elapsed": 514,
     "status": "ok",
     "timestamp": 1566341172409,
     "user": {
      "displayName": "Ricardo José Ramírez Blauvelt",
      "photoUrl": "https://lh5.googleusercontent.com/-4Bjnu_NlnGg/AAAAAAAAAAI/AAAAAAAArTg/o0MMA_CT8vw/s64/photo.jpg",
      "userId": "15259993531050943844"
     },
     "user_tz": 300
    },
    "id": "HMw3gr_xgNy6",
    "outputId": "1f6f5f0b-0e97-4ba3-ff5c-a5b6fbc95383"
   },
   "outputs": [
    {
     "name": "stdout",
     "output_type": "stream",
     "text": [
      "0 2 4 6 8 "
     ]
    }
   ],
   "source": [
    "# Haz tu prueba\n",
    "for i in range(0, 10, 2):\n",
    "  print(i, end=' ')"
   ]
  },
  {
   "cell_type": "markdown",
   "metadata": {
    "colab_type": "text",
    "id": "DB1-JIaVYVkb"
   },
   "source": [
    "**Ejercicio 3**\n",
    "\n",
    "Determine si un número es primo"
   ]
  },
  {
   "cell_type": "code",
   "execution_count": null,
   "metadata": {
    "colab": {},
    "colab_type": "code",
    "id": "FToKayHlYcl8"
   },
   "outputs": [],
   "source": [
    "numero = 17\n",
    "# tu código"
   ]
  },
  {
   "cell_type": "markdown",
   "metadata": {
    "colab_type": "text",
    "id": "uZjGehUy0VVH"
   },
   "source": [
    "## Estructuras de datos básicas\n",
    "\n",
    "Python maneja muchas estructuras de datos. Las básicas serían:\n",
    "1. Listas\n",
    "1. Conjuntos\n",
    "1. Diccionarios\n",
    "1. Tuplas\n",
    "\n",
    "### Listas\n",
    "\n",
    "Se definen mediante corchetes `[]`. Son colecciones de elementos organizados por el orden de adición y que pueden referenciarse por un índice. Pueden combinar diferentes tipos de datos y son completamente flexibles para adicionar, actualizar o eliminar elementos\n"
   ]
  },
  {
   "cell_type": "code",
   "execution_count": 11,
   "metadata": {
    "colab": {
     "base_uri": "https://localhost:8080/",
     "height": 255
    },
    "colab_type": "code",
    "executionInfo": {
     "elapsed": 464,
     "status": "ok",
     "timestamp": 1568154578148,
     "user": {
      "displayName": "Ricardo José Ramírez Blauvelt",
      "photoUrl": "https://lh3.googleusercontent.com/a-/AAuE7mC7HsFZWgDyVaAB6Wza-nOVo2GcumlXSW3wkY9oVKc=s64",
      "userId": "15259993531050943844"
     },
     "user_tz": 300
    },
    "id": "UiVso2uvpt1t",
    "outputId": "92e22e52-5210-4df1-e493-11cd3749222d"
   },
   "outputs": [
    {
     "name": "stdout",
     "output_type": "stream",
     "text": [
      "Lista original [1, 'hola', None, 23.4]\n",
      "Un elemento hola\n",
      "Con nuevo elemento [1, 'hola', None, 23.4, (4, 5)]\n",
      "Existe elemento True\n",
      "Con nuevo elemento [1, 'hola', None, 23.4, (4, 5), 1]\n",
      "Con otro nuevo elemento [1, 'hola', None, 23.4, (4, 5), 1, 50]\n",
      "Luego de eliminar tupla [1, 'hola', None, 23.4, 1, 50]\n",
      "Luego de eliminar índice [1, 'hola', 23.4, 1, 50]\n",
      "Pop hola\n",
      "Lista actual [1, 23.4, 1, 50]\n",
      "Lista ordenada [1, 1, 23.4, 50]\n",
      "Lista inverso [50, 23.4, 1, 1]\n",
      "Último elemento 50\n",
      "Posición (si existe), de un elemento 0\n"
     ]
    }
   ],
   "source": [
    "# Crea la lista\n",
    "lista = [1, \"hola\", None, 23.4]\n",
    "print(\"Lista original\", lista)\n",
    "\n",
    "# Elemento con índice 1 en la lista\n",
    "print(\"Un elemento\", lista[1])\n",
    "\n",
    "# Adiciona una tupla a la lista\n",
    "lista.append((4,5))\n",
    "print(\"Con nuevo elemento\", lista)\n",
    "\n",
    "# Valida si el elemento existe en la lista\n",
    "print(\"Existe elemento\", \"hola\" in lista)\n",
    "\n",
    "# Adiciona otro objeto a la lista\n",
    "lista.append(1)\n",
    "print(\"Con nuevo elemento\", lista)\n",
    "\n",
    "# Otra forma de adicionar otro objeto a la lista\n",
    "lista += [50]\n",
    "print(\"Con otro nuevo elemento\", lista)\n",
    "\n",
    "# Eliminar el objeto de la lista\n",
    "lista.remove((4,5))\n",
    "print(\"Luego de eliminar tupla\", lista)\n",
    "\n",
    "# Eliminar el objeto en la posición 2 de la lista\n",
    "del lista[2]\n",
    "print(\"Luego de eliminar índice\", lista)\n",
    "\n",
    "# Obtener un objeto por posición y eliminarlo (modo stack)\n",
    "print(\"Pop\", lista.pop(1))\n",
    "print(\"Lista actual\", lista)\n",
    "\n",
    "# Ordenar la lista\n",
    "print(\"Lista ordenada\", sorted(lista))\n",
    "\n",
    "# Orden inverso\n",
    "print(\"Lista inverso\", sorted(lista, reverse=True))\n",
    "\n",
    "# Último elemento\n",
    "print(\"Último elemento\", lista[-1])\n",
    "\n",
    "# Posición de un elemento\n",
    "print(\"Posición (si existe), de un elemento\", lista.index(1))\n"
   ]
  },
  {
   "cell_type": "markdown",
   "metadata": {
    "colab_type": "text",
    "id": "xWpu2PK-PlSp"
   },
   "source": [
    "### Conjuntos\n",
    "\n",
    "Se definen mediante llaves `{}`. Son colecciones de elementos sin orden, donde no pueden haber elementos repetidos. No se pueden obtener los elementos por índice"
   ]
  },
  {
   "cell_type": "code",
   "execution_count": null,
   "metadata": {
    "colab": {
     "base_uri": "https://localhost:8080/",
     "height": 153
    },
    "colab_type": "code",
    "executionInfo": {
     "elapsed": 327,
     "status": "ok",
     "timestamp": 1561492874086,
     "user": {
      "displayName": "Ricardo José Ramírez Blauvelt",
      "photoUrl": "https://lh5.googleusercontent.com/-4Bjnu_NlnGg/AAAAAAAAAAI/AAAAAAAArTg/o0MMA_CT8vw/s64/photo.jpg",
      "userId": "15259993531050943844"
     },
     "user_tz": 300
    },
    "id": "F1dN1itwOsu6",
    "outputId": "122794c1-bea8-48c9-8af0-583ff696e947"
   },
   "outputs": [
    {
     "name": "stdout",
     "output_type": "stream",
     "text": [
      "{1, 2, 3}\n",
      "{1, 2, 3}\n",
      "{1, 2, 3, 'hola'}\n",
      "True\n",
      "{1, 2, 3}\n",
      "1\n",
      "{2, 3}\n",
      "{2, 3}\n"
     ]
    }
   ],
   "source": [
    "# Crea el conjunto\n",
    "conjunto = {1, 2, 2, 3, 3, 3}\n",
    "print(conjunto)\n",
    "\n",
    "# Adiciona un elemento existente (no lo añade pues no se admiten repetidos)\n",
    "conjunto.add(2)\n",
    "print(conjunto)\n",
    "\n",
    "# Adiciona otro elemento\n",
    "conjunto.add(\"hola\")\n",
    "print(conjunto)\n",
    "\n",
    "# Valida si un elemento existe\n",
    "print(2 in conjunto)\n",
    "\n",
    "# Eliminar un elemento\n",
    "conjunto.remove('hola')\n",
    "print(conjunto)\n",
    "\n",
    "# Obtener un elemento del conjunto y eliminarlo\n",
    "print(conjunto.pop())\n",
    "print(conjunto)\n",
    "\n",
    "# Ordena los elementos en orden descendente\n",
    "print(set(sorted(conjunto, reverse=True)))"
   ]
  },
  {
   "cell_type": "markdown",
   "metadata": {
    "colab_type": "text",
    "id": "ed1IGWltP436"
   },
   "source": [
    "### Diccionarios\n",
    "\n",
    "Se definen mediante llaves `{}`, pero se trata de elementos `clave-valor`. Se puede hacer la analogía con `Map` en Java, o simplemente con objetos `JSON`. No tienen un ordenamiento y los elementos se referencian por su llave"
   ]
  },
  {
   "cell_type": "code",
   "execution_count": null,
   "metadata": {
    "colab": {
     "base_uri": "https://localhost:8080/",
     "height": 153
    },
    "colab_type": "code",
    "executionInfo": {
     "elapsed": 357,
     "status": "ok",
     "timestamp": 1561494127574,
     "user": {
      "displayName": "Ricardo José Ramírez Blauvelt",
      "photoUrl": "https://lh5.googleusercontent.com/-4Bjnu_NlnGg/AAAAAAAAAAI/AAAAAAAArTg/o0MMA_CT8vw/s64/photo.jpg",
      "userId": "15259993531050943844"
     },
     "user_tz": 300
    },
    "id": "vC-TP8nsP8WR",
    "outputId": "dcdb127b-69cb-434a-e22a-6bbdc11f1b96"
   },
   "outputs": [
    {
     "name": "stdout",
     "output_type": "stream",
     "text": [
      "{'nombre': 'Juan', 'apellido': 'Pérez', 'edad': 25, 'hobbies': ['música', 'deportes']}\n",
      "{'nombre': 'Juan', 'apellido': 'Pérez', 'edad': 25, 'hobbies': ['música', 'deportes'], 'nacionalidad': 'Colombiano'}\n",
      "{'nombre': 'Juan', 'apellido': 'Pérez', 'edad': 25, 'hobbies': ['música', 'deportes'], 'nacionalidad': 'Colombiano', 'equipo': 'Nacional'}\n",
      "{'nombre': 'Juan', 'apellido': 'Pérez', 'edad': 25, 'hobbies': ['música', 'deportes'], 'nacionalidad': 'Colombiano', 'equipo': 'Envigado'}\n",
      "{'nombre': 'Juan', 'apellido': 'Pérez', 'edad': 25, 'hobbies': ['música', 'deportes', 'yoga'], 'nacionalidad': 'Colombiano', 'equipo': 'Envigado'}\n",
      "True\n",
      "True\n",
      "{'nombre': 'Juan', 'apellido': 'Pérez', 'edad': 25, 'nacionalidad': 'Colombiano', 'equipo': 'Envigado'}\n"
     ]
    }
   ],
   "source": [
    "# Crea el diccionario\n",
    "diccionario = {\n",
    "    \"nombre\": \"Juan\", \n",
    "    \"apellido\": \"Pérez\", \n",
    "    \"edad\": 25, \n",
    "    \"hobbies\": [\"música\", \"deportes\"]\n",
    "}\n",
    "print(diccionario)\n",
    "\n",
    "# Adicionar un elemento\n",
    "diccionario.update({\"nacionalidad\": \"Colombiano\"})\n",
    "print(diccionario)\n",
    "\n",
    "# Otra forma de adicionar elemento\n",
    "diccionario[\"equipo\"] = \"Nacional\"\n",
    "print(diccionario)\n",
    "\n",
    "# No se permiten claves repetidas (las llaves son un `set`). Simplemente se actualiza el elemento si ya existe\n",
    "diccionario[\"equipo\"] = \"Envigado\"\n",
    "print(diccionario)\n",
    "\n",
    "# Otra actualización\n",
    "diccionario[\"hobbies\"].append(\"yoga\")\n",
    "print(diccionario)\n",
    "\n",
    "# Validar si un elemento existe\n",
    "print(\"nombre\" in diccionario)\n",
    "print(\"música\" in diccionario[\"hobbies\"])\n",
    "\n",
    "# Eliminar un elemento\n",
    "del diccionario[\"hobbies\"]\n",
    "print(diccionario)\n"
   ]
  },
  {
   "cell_type": "markdown",
   "metadata": {
    "colab_type": "text",
    "id": "9uSq2w6-P9Gr"
   },
   "source": [
    "### Tuplas\n",
    "\n",
    "Se definen mediante paréntesis `()`. Son colecciones ordenadas e inmutables. Luego de creada, no se pueden añadir ni quitar elementos"
   ]
  },
  {
   "cell_type": "code",
   "execution_count": null,
   "metadata": {
    "colab": {
     "base_uri": "https://localhost:8080/",
     "height": 85
    },
    "colab_type": "code",
    "executionInfo": {
     "elapsed": 336,
     "status": "ok",
     "timestamp": 1561495888064,
     "user": {
      "displayName": "Ricardo José Ramírez Blauvelt",
      "photoUrl": "https://lh5.googleusercontent.com/-4Bjnu_NlnGg/AAAAAAAAAAI/AAAAAAAArTg/o0MMA_CT8vw/s64/photo.jpg",
      "userId": "15259993531050943844"
     },
     "user_tz": 300
    },
    "id": "2NMi0eQtP84f",
    "outputId": "4db812d2-bf05-431a-ee73-17b112045834"
   },
   "outputs": [
    {
     "name": "stdout",
     "output_type": "stream",
     "text": [
      "(1, 2, 3)\n",
      "No se puede eliminar un valor de una tupla\n",
      "No se puede adicionar un valor a una tupla\n",
      "True\n"
     ]
    }
   ],
   "source": [
    "# Crear la tupla\n",
    "tupla = (1, 2, 3)\n",
    "print(tupla)\n",
    "\n",
    "# Eliminar\n",
    "try:\n",
    "  del tupla[2]\n",
    "except:\n",
    "  print(\"No se puede eliminar un valor de una tupla\")\n",
    "\n",
    "# Adicionar\n",
    "try:\n",
    "  tupla.add(4)\n",
    "except:\n",
    "  print(\"No se puede adicionar un valor a una tupla\")\n",
    "\n",
    "# Verificar existencia\n",
    "print(2 in tupla)"
   ]
  },
  {
   "cell_type": "code",
   "execution_count": null,
   "metadata": {
    "colab": {},
    "colab_type": "code",
    "id": "Cmz11AX2uF1a"
   },
   "outputs": [],
   "source": [
    "constante = (1,)"
   ]
  },
  {
   "cell_type": "markdown",
   "metadata": {
    "colab_type": "text",
    "id": "pS-2FlITpses"
   },
   "source": [
    "### Iterar sobre estructuras de datos\n",
    "\n",
    "Todas las estructuras de datos mencionadas anteriormente, son `iterables`. Listas, conjuntos y tuplas se pueden recorrer idénticamente. Para los diccionarios, existen casos especiales"
   ]
  },
  {
   "cell_type": "code",
   "execution_count": null,
   "metadata": {
    "colab": {
     "base_uri": "https://localhost:8080/",
     "height": 459
    },
    "colab_type": "code",
    "executionInfo": {
     "elapsed": 484,
     "status": "ok",
     "timestamp": 1566417163172,
     "user": {
      "displayName": "Ricardo José Ramírez Blauvelt",
      "photoUrl": "https://lh3.googleusercontent.com/a-/AAuE7mC7HsFZWgDyVaAB6Wza-nOVo2GcumlXSW3wkY9oVKc=s64",
      "userId": "15259993531050943844"
     },
     "user_tz": 300
    },
    "id": "_0N03DWZp-Jz",
    "outputId": "d14890ce-9892-415e-984d-db0a206b909b"
   },
   "outputs": [
    {
     "name": "stdout",
     "output_type": "stream",
     "text": [
      "Iterar:\n",
      "1 2 3 4 5 6 7 8 9 10 \n",
      "\n",
      "Enumerar:\n",
      "Posición: 0 - Valor: 1\n",
      "Posición: 1 - Valor: 2\n",
      "Posición: 2 - Valor: 3\n",
      "Posición: 3 - Valor: 4\n",
      "Posición: 4 - Valor: 5\n",
      "Posición: 5 - Valor: 6\n",
      "Posición: 6 - Valor: 7\n",
      "Posición: 7 - Valor: 8\n",
      "Posición: 8 - Valor: 9\n",
      "Posición: 9 - Valor: 10\n",
      "\n",
      "Tradicional\n",
      "Posición: 0 - Valor: 1\n",
      "Posición: 1 - Valor: 2\n",
      "Posición: 2 - Valor: 3\n",
      "Posición: 3 - Valor: 4\n",
      "Posición: 4 - Valor: 5\n",
      "Posición: 5 - Valor: 6\n",
      "Posición: 6 - Valor: 7\n",
      "Posición: 7 - Valor: 8\n",
      "Posición: 8 - Valor: 9\n",
      "Posición: 9 - Valor: 10\n"
     ]
    }
   ],
   "source": [
    "# Lista\n",
    "lista = [1,2,3,4,5,6,7,8,9,10]\n",
    "\n",
    "# Recorrer los elementos de una lista\n",
    "print(\"Iterar:\")\n",
    "for i in lista:\n",
    "  print(i, end=' ')\n",
    "\n",
    "# Enumerar los elementos de una lista\n",
    "print()\n",
    "print()\n",
    "print(\"Enumerar:\")\n",
    "for idx, valor in enumerate(lista):\n",
    "  print(\"Posición: {} - Valor: {}\".format(idx, valor))\n",
    "\n",
    "  \n",
    "# Algo más tradicional\n",
    "print()\n",
    "print(\"Tradicional\")\n",
    "for i in range(0, len(lista)):\n",
    "  print(\"Posición: {} - Valor: {}\".format(i, lista[i]))\n"
   ]
  },
  {
   "cell_type": "markdown",
   "metadata": {
    "colab_type": "text",
    "id": "9_D-3RJrg00n"
   },
   "source": [
    "### Iterar sobre diccionarios\n",
    "\n",
    "Los diccionarios son en esencia pares clave-valor, aunque mediante anidación, se pueden crear estructuras muy complejas. La iteración sobre la estructura base se logra así"
   ]
  },
  {
   "cell_type": "code",
   "execution_count": null,
   "metadata": {
    "colab": {
     "base_uri": "https://localhost:8080/",
     "height": 68
    },
    "colab_type": "code",
    "executionInfo": {
     "elapsed": 537,
     "status": "ok",
     "timestamp": 1561565110259,
     "user": {
      "displayName": "Ricardo José Ramírez Blauvelt",
      "photoUrl": "https://lh5.googleusercontent.com/-4Bjnu_NlnGg/AAAAAAAAAAI/AAAAAAAArTg/o0MMA_CT8vw/s64/photo.jpg",
      "userId": "15259993531050943844"
     },
     "user_tz": 300
    },
    "id": "-m6kYN4ghDz0",
    "outputId": "07449914-8cb5-4c69-90f0-333b1e7da463"
   },
   "outputs": [
    {
     "name": "stdout",
     "output_type": "stream",
     "text": [
      "{'nombre': 'Juan', 'apellido': 'Pérez', 'edad': 25, 'hobbies': ['música', 'deportes']}\n",
      "dict_keys(['nombre', 'apellido', 'edad', 'hobbies'])\n",
      "dict_values(['Juan', 'Pérez', 25, ['música', 'deportes']])\n"
     ]
    }
   ],
   "source": [
    "# Diccionario base\n",
    "d = {\n",
    "    \"nombre\": \"Juan\",\n",
    "    \"apellido\": \"Pérez\", \n",
    "    \"edad\": 25, \n",
    "    \"hobbies\": [\n",
    "        \"música\", \n",
    "        \"deportes\"\n",
    "    ]\n",
    "}\n",
    "print(d)\n",
    "\n",
    "# Obtener las claves\n",
    "print(d.keys())\n",
    "\n",
    "# Obtener los valores\n",
    "print(d.values())"
   ]
  },
  {
   "cell_type": "code",
   "execution_count": null,
   "metadata": {
    "colab": {
     "base_uri": "https://localhost:8080/",
     "height": 170
    },
    "colab_type": "code",
    "executionInfo": {
     "elapsed": 471,
     "status": "ok",
     "timestamp": 1561565667228,
     "user": {
      "displayName": "Ricardo José Ramírez Blauvelt",
      "photoUrl": "https://lh5.googleusercontent.com/-4Bjnu_NlnGg/AAAAAAAAAAI/AAAAAAAArTg/o0MMA_CT8vw/s64/photo.jpg",
      "userId": "15259993531050943844"
     },
     "user_tz": 300
    },
    "id": "vKDhyaNmixft",
    "outputId": "f81bc07b-3e9d-4169-df38-64a3f990a111"
   },
   "outputs": [
    {
     "name": "stdout",
     "output_type": "stream",
     "text": [
      "nombre Juan\n",
      "apellido Pérez\n",
      "edad 25\n",
      "hobbies ['música', 'deportes']\n",
      "\n",
      "nombre Juan\n",
      "apellido Pérez\n",
      "edad 25\n",
      "hobbies ['música', 'deportes']\n"
     ]
    }
   ],
   "source": [
    "# Iterar el diccionarios con llaves\n",
    "for k in d:\n",
    "  print(k, d[k])\n",
    "\n",
    "print()\n",
    "\n",
    "# Equivalente a\n",
    "for k in d.keys():\n",
    "  print(k, d[k])"
   ]
  },
  {
   "cell_type": "code",
   "execution_count": null,
   "metadata": {
    "colab": {
     "base_uri": "https://localhost:8080/",
     "height": 85
    },
    "colab_type": "code",
    "executionInfo": {
     "elapsed": 689,
     "status": "ok",
     "timestamp": 1561565334206,
     "user": {
      "displayName": "Ricardo José Ramírez Blauvelt",
      "photoUrl": "https://lh5.googleusercontent.com/-4Bjnu_NlnGg/AAAAAAAAAAI/AAAAAAAArTg/o0MMA_CT8vw/s64/photo.jpg",
      "userId": "15259993531050943844"
     },
     "user_tz": 300
    },
    "id": "_fQ8-q4wi8TH",
    "outputId": "d12076fc-c29c-4665-d768-4ce7d318ab8d"
   },
   "outputs": [
    {
     "name": "stdout",
     "output_type": "stream",
     "text": [
      "nombre Juan\n",
      "apellido Pérez\n",
      "edad 25\n",
      "hobbies ['música', 'deportes']\n"
     ]
    }
   ],
   "source": [
    "# Iterar el diccionarios con ítems\n",
    "for k, v in d.items():\n",
    "  print(k, v)"
   ]
  },
  {
   "cell_type": "code",
   "execution_count": null,
   "metadata": {
    "colab": {
     "base_uri": "https://localhost:8080/",
     "height": 85
    },
    "colab_type": "code",
    "executionInfo": {
     "elapsed": 1256,
     "status": "ok",
     "timestamp": 1561566032573,
     "user": {
      "displayName": "Ricardo José Ramírez Blauvelt",
      "photoUrl": "https://lh5.googleusercontent.com/-4Bjnu_NlnGg/AAAAAAAAAAI/AAAAAAAArTg/o0MMA_CT8vw/s64/photo.jpg",
      "userId": "15259993531050943844"
     },
     "user_tz": 300
    },
    "id": "bGoIIsxflk2g",
    "outputId": "40f38e42-8494-405b-adea-7c34757e7b6d"
   },
   "outputs": [
    {
     "name": "stdout",
     "output_type": "stream",
     "text": [
      "0 nombre Juan\n",
      "1 apellido Pérez\n",
      "2 edad 25\n",
      "3 hobbies ['música', 'deportes']\n"
     ]
    }
   ],
   "source": [
    "# Y si se requiere enumerar los ítems\n",
    "for i, (k, v) in enumerate(d.items()):\n",
    "  print(i, k, v)"
   ]
  },
  {
   "cell_type": "markdown",
   "metadata": {
    "colab_type": "text",
    "id": "7YFk9uWCYrKd"
   },
   "source": [
    "**Ejercicio 4**\n",
    "\n",
    "Imprima los nombres únicos de las dos listas"
   ]
  },
  {
   "cell_type": "code",
   "execution_count": 17,
   "metadata": {
    "colab": {
     "base_uri": "https://localhost:8080/",
     "height": 34
    },
    "colab_type": "code",
    "executionInfo": {
     "elapsed": 465,
     "status": "ok",
     "timestamp": 1568156274749,
     "user": {
      "displayName": "Ricardo José Ramírez Blauvelt",
      "photoUrl": "https://lh3.googleusercontent.com/a-/AAuE7mC7HsFZWgDyVaAB6Wza-nOVo2GcumlXSW3wkY9oVKc=s64",
      "userId": "15259993531050943844"
     },
     "user_tz": 300
    },
    "id": "SMkjzLfKYnNy",
    "outputId": "768dbee0-ba9b-4c1c-d417-bc81a57ec3c0"
   },
   "outputs": [
    {
     "name": "stdout",
     "output_type": "stream",
     "text": [
      "None\n"
     ]
    }
   ],
   "source": [
    "nombres1 = [\"Ava\", \"Emma\", \"Olivia\"]\n",
    "nombres2 = [\"Olivia\", \"Sophia\", \"Emma\"]\n",
    "\n",
    "# tu codigo\n",
    "\n",
    "resultado = None\n",
    "print(resultado) # debe imprimir Ava, Emma, Olivia, Sophia"
   ]
  },
  {
   "cell_type": "markdown",
   "metadata": {
    "colab_type": "text",
    "id": "cz3XBM-YQhJX"
   },
   "source": [
    "### Asignación múltiple\n",
    "\n",
    "Python permite, a través de listas, asignación múltiple de variables\n",
    "\n"
   ]
  },
  {
   "cell_type": "code",
   "execution_count": 7,
   "metadata": {
    "colab": {
     "base_uri": "https://localhost:8080/",
     "height": 34
    },
    "colab_type": "code",
    "executionInfo": {
     "elapsed": 493,
     "status": "ok",
     "timestamp": 1568154327528,
     "user": {
      "displayName": "Ricardo José Ramírez Blauvelt",
      "photoUrl": "https://lh3.googleusercontent.com/a-/AAuE7mC7HsFZWgDyVaAB6Wza-nOVo2GcumlXSW3wkY9oVKc=s64",
      "userId": "15259993531050943844"
     },
     "user_tz": 300
    },
    "id": "BOfrsf0PR-tp",
    "outputId": "ea9bb40d-82ac-4359-87ef-666b034061d6"
   },
   "outputs": [
    {
     "name": "stdout",
     "output_type": "stream",
     "text": [
      "1 1 1\n"
     ]
    }
   ],
   "source": [
    "# Asignar el mismo valor a varias variables\n",
    "a = b = c = 1\n",
    "print(a, b ,c)"
   ]
  },
  {
   "cell_type": "code",
   "execution_count": 6,
   "metadata": {
    "colab": {
     "base_uri": "https://localhost:8080/",
     "height": 34
    },
    "colab_type": "code",
    "executionInfo": {
     "elapsed": 470,
     "status": "ok",
     "timestamp": 1568154293305,
     "user": {
      "displayName": "Ricardo José Ramírez Blauvelt",
      "photoUrl": "https://lh3.googleusercontent.com/a-/AAuE7mC7HsFZWgDyVaAB6Wza-nOVo2GcumlXSW3wkY9oVKc=s64",
      "userId": "15259993531050943844"
     },
     "user_tz": 300
    },
    "id": "GOR65_BLRzX8",
    "outputId": "6640aeb3-8bae-41d6-e974-ca7c3896310d"
   },
   "outputs": [
    {
     "name": "stdout",
     "output_type": "stream",
     "text": [
      "9 8 7 6\n"
     ]
    }
   ],
   "source": [
    "# Asignación simultánea de variables diferentes\n",
    "a, b, c, d = 9, 8, 7, 6\n",
    "print(a, b, c, d)"
   ]
  },
  {
   "cell_type": "code",
   "execution_count": 5,
   "metadata": {
    "colab": {
     "base_uri": "https://localhost:8080/",
     "height": 34
    },
    "colab_type": "code",
    "executionInfo": {
     "elapsed": 451,
     "status": "ok",
     "timestamp": 1568154085949,
     "user": {
      "displayName": "Ricardo José Ramírez Blauvelt",
      "photoUrl": "https://lh3.googleusercontent.com/a-/AAuE7mC7HsFZWgDyVaAB6Wza-nOVo2GcumlXSW3wkY9oVKc=s64",
      "userId": "15259993531050943844"
     },
     "user_tz": 300
    },
    "id": "-vR44rmIQ3j0",
    "outputId": "338f0f19-97e8-45f7-cfe5-d3b14c22741c"
   },
   "outputs": [
    {
     "name": "stdout",
     "output_type": "stream",
     "text": [
      "1 2 3 4 5\n"
     ]
    }
   ],
   "source": [
    "# Asignar los valores de una lista, a variables\n",
    "lista = [1,2,3,4,5]\n",
    "[a, b, c, d, e] = lista\n",
    "\n",
    "print(a,b,c,d,e)"
   ]
  },
  {
   "cell_type": "markdown",
   "metadata": {
    "colab_type": "text",
    "id": "tTPntntkn640"
   },
   "source": [
    "### `Compresión` de iterables\n",
    "\n",
    "Python permite la creación de iterables a partir de otros iterables, en llamadas sencillas de una sola sentencia\n"
   ]
  },
  {
   "cell_type": "code",
   "execution_count": null,
   "metadata": {
    "colab": {
     "base_uri": "https://localhost:8080/",
     "height": 34
    },
    "colab_type": "code",
    "executionInfo": {
     "elapsed": 496,
     "status": "ok",
     "timestamp": 1561562723238,
     "user": {
      "displayName": "Ricardo José Ramírez Blauvelt",
      "photoUrl": "https://lh5.googleusercontent.com/-4Bjnu_NlnGg/AAAAAAAAAAI/AAAAAAAArTg/o0MMA_CT8vw/s64/photo.jpg",
      "userId": "15259993531050943844"
     },
     "user_tz": 300
    },
    "id": "v6K-MIVKYrZ8",
    "outputId": "030b9caa-da5c-4b18-811b-b4ccfd57e1f0"
   },
   "outputs": [
    {
     "name": "stdout",
     "output_type": "stream",
     "text": [
      "['P', 'r', 'o', 'g', 'r', 'a', 'm', 'a', 'r', ' ', 'e', 'n', ' ', 'P', 'y', 't', 'h', 'o', 'n', ' ', 'e', 's', ' ', 'm', 'u', 'y', ' ', 's', 'e', 'n', 'c', 'i', 'l', 'l', 'o']\n"
     ]
    }
   ],
   "source": [
    "# Crear una lista a partir de las letras de una palabra\n",
    "frase = \"Programar en Python es muy sencillo\"\n",
    "\n",
    "# Tradicional\n",
    "letras = []\n",
    "for l in frase:\n",
    "  letras.append(l)\n",
    "print(letras)"
   ]
  },
  {
   "cell_type": "code",
   "execution_count": null,
   "metadata": {
    "colab": {
     "base_uri": "https://localhost:8080/",
     "height": 34
    },
    "colab_type": "code",
    "executionInfo": {
     "elapsed": 525,
     "status": "ok",
     "timestamp": 1561562756500,
     "user": {
      "displayName": "Ricardo José Ramírez Blauvelt",
      "photoUrl": "https://lh5.googleusercontent.com/-4Bjnu_NlnGg/AAAAAAAAAAI/AAAAAAAArTg/o0MMA_CT8vw/s64/photo.jpg",
      "userId": "15259993531050943844"
     },
     "user_tz": 300
    },
    "id": "tMp8yyC1ZEFd",
    "outputId": "24d1192e-b19e-4ff8-f004-664922bbcced"
   },
   "outputs": [
    {
     "name": "stdout",
     "output_type": "stream",
     "text": [
      "['P', 'r', 'o', 'g', 'r', 'a', 'm', 'a', 'r', ' ', 'e', 'n', ' ', 'P', 'y', 't', 'h', 'o', 'n', ' ', 'e', 's', ' ', 'm', 'u', 'y', ' ', 's', 'e', 'n', 'c', 'i', 'l', 'l', 'o']\n"
     ]
    }
   ],
   "source": [
    "# Por compresión\n",
    "letras = [l for l in frase]\n",
    "print(letras)"
   ]
  },
  {
   "cell_type": "code",
   "execution_count": null,
   "metadata": {
    "colab": {
     "base_uri": "https://localhost:8080/",
     "height": 34
    },
    "colab_type": "code",
    "executionInfo": {
     "elapsed": 459,
     "status": "ok",
     "timestamp": 1566417747965,
     "user": {
      "displayName": "Ricardo José Ramírez Blauvelt",
      "photoUrl": "https://lh3.googleusercontent.com/a-/AAuE7mC7HsFZWgDyVaAB6Wza-nOVo2GcumlXSW3wkY9oVKc=s64",
      "userId": "15259993531050943844"
     },
     "user_tz": 300
    },
    "id": "1-5Fgl6EnytE",
    "outputId": "b47cfde4-09ee-43a1-edc0-d08a7e49753c"
   },
   "outputs": [
    {
     "name": "stdout",
     "output_type": "stream",
     "text": [
      "[10, 8, 6, 4, 2]\n"
     ]
    }
   ],
   "source": [
    "# Dejar los elementos pares y ordenar de mayor a menor\n",
    "lista = [1,2,3,4,5,6,7,8,9,10]\n",
    "\n",
    "# Tradicional\n",
    "pares = list()\n",
    "for i in lista:\n",
    "  if i % 2 == 0:\n",
    "    pares.append(i)\n",
    "\n",
    "pares = sorted(pares, reverse=True)\n",
    "print(pares)"
   ]
  },
  {
   "cell_type": "code",
   "execution_count": null,
   "metadata": {
    "colab": {
     "base_uri": "https://localhost:8080/",
     "height": 34
    },
    "colab_type": "code",
    "executionInfo": {
     "elapsed": 454,
     "status": "ok",
     "timestamp": 1566417749093,
     "user": {
      "displayName": "Ricardo José Ramírez Blauvelt",
      "photoUrl": "https://lh3.googleusercontent.com/a-/AAuE7mC7HsFZWgDyVaAB6Wza-nOVo2GcumlXSW3wkY9oVKc=s64",
      "userId": "15259993531050943844"
     },
     "user_tz": 300
    },
    "id": "m2q2tH0Kohw6",
    "outputId": "6665cfbd-c028-4feb-cc08-707f543540c2"
   },
   "outputs": [
    {
     "name": "stdout",
     "output_type": "stream",
     "text": [
      "[10, 8, 6, 4, 2]\n"
     ]
    }
   ],
   "source": [
    "# Por compresión de listas\n",
    "pares = sorted([i for i in lista if i % 2 == 0], reverse=True)\n",
    "print(pares)"
   ]
  },
  {
   "cell_type": "markdown",
   "metadata": {
    "colab_type": "text",
    "id": "HG2QcLsNZQtb"
   },
   "source": [
    "### `Slicing` de iterables\n",
    "\n",
    "Python permite operaciones sobre los índices de listas de forma sencilla mediante la notación `:`, que puede ir al inicio o al final, y significa, `todos hasta` o `todos luego`, según la posición donde se ponga el índice de restricción, después, o antes respectivamente"
   ]
  },
  {
   "cell_type": "code",
   "execution_count": null,
   "metadata": {
    "colab": {
     "base_uri": "https://localhost:8080/",
     "height": 34
    },
    "colab_type": "code",
    "executionInfo": {
     "elapsed": 456,
     "status": "ok",
     "timestamp": 1566417750937,
     "user": {
      "displayName": "Ricardo José Ramírez Blauvelt",
      "photoUrl": "https://lh3.googleusercontent.com/a-/AAuE7mC7HsFZWgDyVaAB6Wza-nOVo2GcumlXSW3wkY9oVKc=s64",
      "userId": "15259993531050943844"
     },
     "user_tz": 300
    },
    "id": "HVv_RsukZcCM",
    "outputId": "203a5567-8818-4444-88dc-85288672a966"
   },
   "outputs": [
    {
     "name": "stdout",
     "output_type": "stream",
     "text": [
      "6 7 8 9 10 \n"
     ]
    }
   ],
   "source": [
    "# Mostrar elementos a partir del índice 5\n",
    "lista = [1,2,3,4,5,6,7,8,9,10]\n",
    "\n",
    "# Tradicional\n",
    "for i in range(5, len(lista)):\n",
    "  print(lista[i], end=' ')\n",
    "print()\n"
   ]
  },
  {
   "cell_type": "code",
   "execution_count": null,
   "metadata": {
    "colab": {
     "base_uri": "https://localhost:8080/",
     "height": 34
    },
    "colab_type": "code",
    "executionInfo": {
     "elapsed": 398,
     "status": "ok",
     "timestamp": 1566417751967,
     "user": {
      "displayName": "Ricardo José Ramírez Blauvelt",
      "photoUrl": "https://lh3.googleusercontent.com/a-/AAuE7mC7HsFZWgDyVaAB6Wza-nOVo2GcumlXSW3wkY9oVKc=s64",
      "userId": "15259993531050943844"
     },
     "user_tz": 300
    },
    "id": "OFnHnvnGcC6W",
    "outputId": "6e326d5f-0893-4ef4-df60-1f3904704422"
   },
   "outputs": [
    {
     "name": "stdout",
     "output_type": "stream",
     "text": [
      "6 7 8 9 10 \n"
     ]
    }
   ],
   "source": [
    "# Con slicing\n",
    "for i in lista[5:]:\n",
    "    print(i, end=' ')\n",
    "print()"
   ]
  },
  {
   "cell_type": "code",
   "execution_count": null,
   "metadata": {
    "colab": {
     "base_uri": "https://localhost:8080/",
     "height": 34
    },
    "colab_type": "code",
    "executionInfo": {
     "elapsed": 269,
     "status": "ok",
     "timestamp": 1566417752815,
     "user": {
      "displayName": "Ricardo José Ramírez Blauvelt",
      "photoUrl": "https://lh3.googleusercontent.com/a-/AAuE7mC7HsFZWgDyVaAB6Wza-nOVo2GcumlXSW3wkY9oVKc=s64",
      "userId": "15259993531050943844"
     },
     "user_tz": 300
    },
    "id": "1gPYFGBsc-ll",
    "outputId": "5ee2cf29-317b-40e1-f984-1658336e49c9"
   },
   "outputs": [
    {
     "name": "stdout",
     "output_type": "stream",
     "text": [
      "1 2 3 4 "
     ]
    }
   ],
   "source": [
    "# Mostrar los primeros 4 elementos de forma tradicional\n",
    "for i in range(0, 4):\n",
    "    print(lista[i], end=' ')\n"
   ]
  },
  {
   "cell_type": "code",
   "execution_count": null,
   "metadata": {
    "colab": {
     "base_uri": "https://localhost:8080/",
     "height": 34
    },
    "colab_type": "code",
    "executionInfo": {
     "elapsed": 443,
     "status": "ok",
     "timestamp": 1566417754050,
     "user": {
      "displayName": "Ricardo José Ramírez Blauvelt",
      "photoUrl": "https://lh3.googleusercontent.com/a-/AAuE7mC7HsFZWgDyVaAB6Wza-nOVo2GcumlXSW3wkY9oVKc=s64",
      "userId": "15259993531050943844"
     },
     "user_tz": 300
    },
    "id": "70WdzCDydXh7",
    "outputId": "feffb307-1f9a-4fdf-ba23-4c35aef4e6ef"
   },
   "outputs": [
    {
     "name": "stdout",
     "output_type": "stream",
     "text": [
      "1 2 3 4 "
     ]
    }
   ],
   "source": [
    "# Con Slicing\n",
    "for v in lista[:4]:\n",
    "  print(v, end=' ')"
   ]
  },
  {
   "cell_type": "code",
   "execution_count": null,
   "metadata": {
    "colab": {
     "base_uri": "https://localhost:8080/",
     "height": 51
    },
    "colab_type": "code",
    "executionInfo": {
     "elapsed": 434,
     "status": "ok",
     "timestamp": 1566417802144,
     "user": {
      "displayName": "Ricardo José Ramírez Blauvelt",
      "photoUrl": "https://lh3.googleusercontent.com/a-/AAuE7mC7HsFZWgDyVaAB6Wza-nOVo2GcumlXSW3wkY9oVKc=s64",
      "userId": "15259993531050943844"
     },
     "user_tz": 300
    },
    "id": "I8BBoSB9e85s",
    "outputId": "780d53df-6547-442b-94be-f334712cdf49"
   },
   "outputs": [
    {
     "name": "stdout",
     "output_type": "stream",
     "text": [
      "[1, 2, 3, 4, 5, 6, 7, 8, 9, 10]\n",
      "[]\n"
     ]
    }
   ],
   "source": [
    "# Vaciar una lista\n",
    "lista = [1,2,3,4,5,6,7,8,9,10]\n",
    "print(lista)\n",
    "lista.clear()\n",
    "print(lista)\n"
   ]
  },
  {
   "cell_type": "code",
   "execution_count": null,
   "metadata": {
    "colab": {
     "base_uri": "https://localhost:8080/",
     "height": 85
    },
    "colab_type": "code",
    "executionInfo": {
     "elapsed": 464,
     "status": "ok",
     "timestamp": 1566417862947,
     "user": {
      "displayName": "Ricardo José Ramírez Blauvelt",
      "photoUrl": "https://lh3.googleusercontent.com/a-/AAuE7mC7HsFZWgDyVaAB6Wza-nOVo2GcumlXSW3wkY9oVKc=s64",
      "userId": "15259993531050943844"
     },
     "user_tz": 300
    },
    "id": "OUQaSVt8fI63",
    "outputId": "29bd8a38-e16a-40fe-9cbf-ca5302f9e110"
   },
   "outputs": [
    {
     "name": "stdout",
     "output_type": "stream",
     "text": [
      "[1, 2, 3, 4, 5, 6, 7, 8, 9, 10]\n",
      "[]\n",
      "[1, 2, 3, 4, 5, 6, 7, 8, 9, 10]\n",
      "[1, 2, 3, 4]\n"
     ]
    }
   ],
   "source": [
    "# Con Slicing\n",
    "lista = [1,2,3,4,5,6,7,8,9,10]\n",
    "print(lista)\n",
    "del lista[:]\n",
    "print(lista)\n",
    "\n",
    "# Pero lo realmente útil, sería borrar N elementos. En este caso, dejar sólo los 4 primeros\n",
    "lista = [1,2,3,4,5,6,7,8,9,10]\n",
    "print(lista)\n",
    "del lista[4:]\n",
    "print(lista)\n"
   ]
  },
  {
   "cell_type": "markdown",
   "metadata": {
    "colab_type": "text",
    "id": "Qvm6QROZZ5N6"
   },
   "source": [
    "**Ejercicio 5**\n",
    "\n",
    "Encuentre *cuántas* palabras tienen 2 o más letras"
   ]
  },
  {
   "cell_type": "code",
   "execution_count": null,
   "metadata": {
    "colab": {},
    "colab_type": "code",
    "id": "Qusb7nh5aec3"
   },
   "outputs": [],
   "source": [
    "palabras = ['abc', 'xyz', 'aba', '1221']\n",
    "# tu código"
   ]
  },
  {
   "cell_type": "markdown",
   "metadata": {
    "colab_type": "text",
    "id": "fuv0KPfyams0"
   },
   "source": [
    "**Ejercicio 6**\n",
    "\n",
    "Multiplique todos los elementos de la lista\n"
   ]
  },
  {
   "cell_type": "code",
   "execution_count": null,
   "metadata": {
    "colab": {},
    "colab_type": "code",
    "id": "Vw1TyWH5dLlw"
   },
   "outputs": [],
   "source": [
    "conjunto_a_multiplicar = {2,4,6,8}\n",
    "# tu código"
   ]
  },
  {
   "cell_type": "markdown",
   "metadata": {
    "colab_type": "text",
    "id": "NVNVdHB6bCRS"
   },
   "source": [
    "**Ejercicio 7**\n",
    "\n",
    "Imprima la lista ordenada de mayor a menor, sin repetidos, luego de eliminar los números impares"
   ]
  },
  {
   "cell_type": "code",
   "execution_count": null,
   "metadata": {
    "colab": {},
    "colab_type": "code",
    "id": "OK4JL6i7bLYK"
   },
   "outputs": [],
   "source": [
    "lista_completa = [3,6,1,8,10,23,54,32,3,1,10]\n",
    "# tu código"
   ]
  },
  {
   "cell_type": "markdown",
   "metadata": {
    "colab_type": "text",
    "id": "zO_WJY2dge8R"
   },
   "source": [
    "## Lectura y escritura de archivos\n",
    "\n",
    "1. Subir un archivo al entorno\n",
    "1. Leer las líneas\n",
    "1. Intercambiar la columna 2 y 3\n",
    "1. Escribir el nuevo archivo"
   ]
  },
  {
   "cell_type": "code",
   "execution_count": null,
   "metadata": {
    "colab": {
     "base_uri": "https://localhost:8080/",
     "height": 74,
     "resources": {
      "http://localhost:8080/nbextensions/google.colab/files.js": {
       "data": "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",
       "headers": [
        [
         "content-type",
         "application/javascript"
        ]
       ],
       "ok": true,
       "status": 200,
       "status_text": ""
      }
     }
    },
    "colab_type": "code",
    "executionInfo": {
     "elapsed": 14743,
     "status": "ok",
     "timestamp": 1566418019054,
     "user": {
      "displayName": "Ricardo José Ramírez Blauvelt",
      "photoUrl": "https://lh3.googleusercontent.com/a-/AAuE7mC7HsFZWgDyVaAB6Wza-nOVo2GcumlXSW3wkY9oVKc=s64",
      "userId": "15259993531050943844"
     },
     "user_tz": 300
    },
    "id": "BJC2O92agd7m",
    "outputId": "f3f2e02a-580c-4224-e99e-fcac0bb9e79e"
   },
   "outputs": [
    {
     "data": {
      "text/html": [
       "\n",
       "     <input type=\"file\" id=\"files-69cff529-ac87-4b8b-9ef9-b8b74fad9160\" name=\"files[]\" multiple disabled />\n",
       "     <output id=\"result-69cff529-ac87-4b8b-9ef9-b8b74fad9160\">\n",
       "      Upload widget is only available when the cell has been executed in the\n",
       "      current browser session. Please rerun this cell to enable.\n",
       "      </output>\n",
       "      <script src=\"/nbextensions/google.colab/files.js\"></script> "
      ],
      "text/plain": [
       "<IPython.core.display.HTML object>"
      ]
     },
     "metadata": {
      "tags": []
     },
     "output_type": "display_data"
    },
    {
     "name": "stdout",
     "output_type": "stream",
     "text": [
      "Saving plano.txt to plano.txt\n"
     ]
    }
   ],
   "source": [
    "# 1. Subir el archivo\n",
    "from google.colab import files\n",
    "uploaded = files.upload()"
   ]
  },
  {
   "cell_type": "code",
   "execution_count": null,
   "metadata": {
    "colab": {},
    "colab_type": "code",
    "id": "iFMURqUng8UT"
   },
   "outputs": [],
   "source": [
    "# 2. Abrir el archivo\n",
    "entrada = open(\"plano.txt\", \"r\")\n"
   ]
  },
  {
   "cell_type": "code",
   "execution_count": null,
   "metadata": {
    "colab": {
     "base_uri": "https://localhost:8080/",
     "height": 187
    },
    "colab_type": "code",
    "executionInfo": {
     "elapsed": 449,
     "status": "ok",
     "timestamp": 1566418415694,
     "user": {
      "displayName": "Ricardo José Ramírez Blauvelt",
      "photoUrl": "https://lh3.googleusercontent.com/a-/AAuE7mC7HsFZWgDyVaAB6Wza-nOVo2GcumlXSW3wkY9oVKc=s64",
      "userId": "15259993531050943844"
     },
     "user_tz": 300
    },
    "id": "jV_vlMN8hi8l",
    "outputId": "36ebc73f-7c3c-4810-b804-46fe81b07592"
   },
   "outputs": [
    {
     "data": {
      "text/plain": [
       "['C1F1\\tC3F1\\tC2F1\\n',\n",
       " 'C1F2\\tC3F2\\tC2F2\\n',\n",
       " 'C1F3\\tC3F3\\tC2F3\\n',\n",
       " 'C1F4\\tC3F4\\tC2F4\\n',\n",
       " 'C1F5\\tC3F5\\tC2F5\\n',\n",
       " 'C1F6\\tC3F6\\tC2F6\\n',\n",
       " 'C1F7\\tC3F7\\tC2F7\\n',\n",
       " 'C1F8\\tC3F8\\tC2F8\\n',\n",
       " 'C1F9\\tC3F9\\tC2F9\\n',\n",
       " 'C1F10\\tC3F10\\tC2F10\\n']"
      ]
     },
     "execution_count": 21,
     "metadata": {
      "tags": []
     },
     "output_type": "execute_result"
    }
   ],
   "source": [
    "# 3. Leer las líneas e intercambiar las columnas\n",
    "nuevas = []\n",
    "for linea in entrada.read().splitlines():\n",
    "  columnas = linea.split(\"\\t\")\n",
    "  reordenado = \"\\t\".join((columnas[0], columnas[2], columnas[1])) + \"\\n\"\n",
    "  nuevas.append(reordenado)\n",
    "\n",
    "entrada.close()\n",
    "\n",
    "nuevas"
   ]
  },
  {
   "cell_type": "code",
   "execution_count": null,
   "metadata": {
    "colab": {},
    "colab_type": "code",
    "id": "y5b-kejijlTg"
   },
   "outputs": [],
   "source": [
    "# 4. Escribe el nuevo archivo\n",
    "salida = open(\"plano_nuevo.txt\", \"w\")\n",
    "salida.writelines(nuevas)\n",
    "salida.close()"
   ]
  },
  {
   "cell_type": "code",
   "execution_count": null,
   "metadata": {
    "colab": {
     "base_uri": "https://localhost:8080/",
     "height": 54
    },
    "colab_type": "code",
    "executionInfo": {
     "elapsed": 427,
     "status": "ok",
     "timestamp": 1566418477193,
     "user": {
      "displayName": "Ricardo José Ramírez Blauvelt",
      "photoUrl": "https://lh3.googleusercontent.com/a-/AAuE7mC7HsFZWgDyVaAB6Wza-nOVo2GcumlXSW3wkY9oVKc=s64",
      "userId": "15259993531050943844"
     },
     "user_tz": 300
    },
    "id": "UlmWjFUot96d",
    "outputId": "ae2262f7-f0ef-4a6e-bb29-bb5af6aa6808"
   },
   "outputs": [
    {
     "data": {
      "text/plain": [
       "'C1F1\\tC3F1\\tC2F1\\nC1F2\\tC3F2\\tC2F2\\nC1F3\\tC3F3\\tC2F3\\nC1F4\\tC3F4\\tC2F4\\nC1F5\\tC3F5\\tC2F5\\nC1F6\\tC3F6\\tC2F6\\nC1F7\\tC3F7\\tC2F7\\nC1F8\\tC3F8\\tC2F8\\nC1F9\\tC3F9\\tC2F9\\nC1F10\\tC3F10\\tC2F10\\n'"
      ]
     },
     "execution_count": 23,
     "metadata": {
      "tags": []
     },
     "output_type": "execute_result"
    }
   ],
   "source": [
    "# Muestra el archivo generado\n",
    "open(\"plano_nuevo.txt\", \"r\").read()"
   ]
  },
  {
   "cell_type": "code",
   "execution_count": null,
   "metadata": {
    "colab": {},
    "colab_type": "code",
    "id": "VjQOE7u0vRsM"
   },
   "outputs": [],
   "source": [
    "# Descarga el archivo generado\n",
    "from google.colab import files\n",
    "files.download('plano_nuevo.txt') "
   ]
  },
  {
   "cell_type": "markdown",
   "metadata": {
    "colab_type": "text",
    "id": "UL5xQjypgtlE"
   },
   "source": [
    "## Funciones\n",
    "\n",
    "Como cualquier lenguaje estructurado, Python permite crear funciones para ordenar el código y reutilizar funcionalidades. \n",
    "\n",
    "Tiene algo interesante y es que permite retornar más de una valor\n",
    "\n",
    "\n",
    "**Importante**\n",
    "\n",
    "Es importante que la función se defina antes del código que la va a utilizar, puesto que como es un lenguaje interpretado, no se puede ejecutar una función que no se ha compilado en tiempo de ejecución previamente.\n",
    "\n",
    "```\n",
    "def <nombre función>(<lista opcional de parámetros>):\n",
    "  <instrucciones>\n",
    "  return <valores>\n",
    "```"
   ]
  },
  {
   "cell_type": "code",
   "execution_count": null,
   "metadata": {
    "colab": {
     "base_uri": "https://localhost:8080/",
     "height": 34
    },
    "colab_type": "code",
    "executionInfo": {
     "elapsed": 543,
     "status": "ok",
     "timestamp": 1566418841546,
     "user": {
      "displayName": "Ricardo José Ramírez Blauvelt",
      "photoUrl": "https://lh3.googleusercontent.com/a-/AAuE7mC7HsFZWgDyVaAB6Wza-nOVo2GcumlXSW3wkY9oVKc=s64",
      "userId": "15259993531050943844"
     },
     "user_tz": 300
    },
    "id": "vRqit50xBdxd",
    "outputId": "70025a07-3a46-4a99-cc05-d07531c8d034"
   },
   "outputs": [
    {
     "name": "stdout",
     "output_type": "stream",
     "text": [
      "0 1 1 2 3 5 8 13 21 34 55 89 144 233 377 610 987 "
     ]
    }
   ],
   "source": [
    "# Ejemplo: hallar los números de la serie fibonacci hasta el número n\n",
    "def fib(n):\n",
    "  a, b = 0, 1\n",
    "  while a < n:\n",
    "    print(a, end=' ')\n",
    "    a, b = b, a + b\n",
    "\n",
    "fib(1000)"
   ]
  },
  {
   "cell_type": "code",
   "execution_count": null,
   "metadata": {
    "colab": {
     "base_uri": "https://localhost:8080/",
     "height": 68
    },
    "colab_type": "code",
    "executionInfo": {
     "elapsed": 454,
     "status": "ok",
     "timestamp": 1566418843347,
     "user": {
      "displayName": "Ricardo José Ramírez Blauvelt",
      "photoUrl": "https://lh3.googleusercontent.com/a-/AAuE7mC7HsFZWgDyVaAB6Wza-nOVo2GcumlXSW3wkY9oVKc=s64",
      "userId": "15259993531050943844"
     },
     "user_tz": 300
    },
    "id": "cyZmxMy5Ez-j",
    "outputId": "da9fa641-6ecb-44ff-e9ac-735c43fef2d0"
   },
   "outputs": [
    {
     "name": "stdout",
     "output_type": "stream",
     "text": [
      "5 es mayor que 2\n",
      "1 no es mayor que 2\n",
      "2 es igual a 2\n"
     ]
    }
   ],
   "source": [
    "# Encontrar si el número es mayor que 2\n",
    "def numero_mayor_que_2(dato):\n",
    "  if dato > 2:\n",
    "    print(\"{} es mayor que 2\".format(dato))\n",
    "  elif dato == 2:\n",
    "    print(\"{} es igual a 2\".format(dato))\n",
    "  else:\n",
    "    print(\"{} no es mayor que 2\".format(dato))\n",
    "\n",
    "numero_mayor_que_2(5)\n",
    "numero_mayor_que_2(1)\n",
    "numero_mayor_que_2(2)\n"
   ]
  },
  {
   "cell_type": "markdown",
   "metadata": {
    "colab_type": "text",
    "id": "aNb2S7BdnrWZ"
   },
   "source": [
    "Inclusive, permite pasar una **función** como **argumento** a otra **función**"
   ]
  },
  {
   "cell_type": "code",
   "execution_count": null,
   "metadata": {
    "colab": {
     "base_uri": "https://localhost:8080/",
     "height": 68
    },
    "colab_type": "code",
    "executionInfo": {
     "elapsed": 479,
     "status": "ok",
     "timestamp": 1566419011525,
     "user": {
      "displayName": "Ricardo José Ramírez Blauvelt",
      "photoUrl": "https://lh3.googleusercontent.com/a-/AAuE7mC7HsFZWgDyVaAB6Wza-nOVo2GcumlXSW3wkY9oVKc=s64",
      "userId": "15259993531050943844"
     },
     "user_tz": 300
    },
    "id": "7rscs7N3nNAw",
    "outputId": "38b7395d-668f-414c-d232-3bd640306f58"
   },
   "outputs": [
    {
     "name": "stdout",
     "output_type": "stream",
     "text": [
      "Operando con el 3\n",
      "Duplicar: 6\n",
      "Elevar al cubo: 27\n"
     ]
    }
   ],
   "source": [
    "def duplicar(n):\n",
    "  return n * 2\n",
    "\n",
    "def elevar_al_cubo(n):\n",
    "  return n ** 3\n",
    "\n",
    "def operar_numero(n, operacion):\n",
    "  return operacion(n)\n",
    "\n",
    "print(\"Operando con el 3\")\n",
    "print(\"Duplicar: {}\".format(operar_numero(3, duplicar)))\n",
    "print(\"Elevar al cubo: {}\".format(operar_numero(3, elevar_al_cubo)))"
   ]
  },
  {
   "cell_type": "markdown",
   "metadata": {
    "colab_type": "text",
    "id": "LZqBDrvDdwVM"
   },
   "source": [
    "Se puede **interactuar** fácilmente con la **consola**"
   ]
  },
  {
   "cell_type": "code",
   "execution_count": null,
   "metadata": {
    "colab": {
     "base_uri": "https://localhost:8080/",
     "height": 119
    },
    "colab_type": "code",
    "executionInfo": {
     "elapsed": 14303,
     "status": "ok",
     "timestamp": 1566419028915,
     "user": {
      "displayName": "Ricardo José Ramírez Blauvelt",
      "photoUrl": "https://lh3.googleusercontent.com/a-/AAuE7mC7HsFZWgDyVaAB6Wza-nOVo2GcumlXSW3wkY9oVKc=s64",
      "userId": "15259993531050943844"
     },
     "user_tz": 300
    },
    "id": "Ah9T4Ax7dvdP",
    "outputId": "bd1d6c01-5d64-4ef5-8423-1e1bf6d647b5"
   },
   "outputs": [
    {
     "name": "stdout",
     "output_type": "stream",
     "text": [
      "Calculadora de intereses:\n",
      "Capital: 1000\n",
      "Tasa de interés: 5\n",
      "Períodos (años): 3\n",
      "Valor futuro = 1,157.63\n",
      "Intereses = 157.63\n"
     ]
    }
   ],
   "source": [
    "print('Calculadora de intereses:')\n",
    "\n",
    "amount = float(input('Capital: '))\n",
    "roi = float(input('Tasa de interés: '))\n",
    "yrs = int(input('Períodos (años): '))\n",
    "\n",
    "total = (amount * pow(1 + (roi / 100), yrs))\n",
    "interest = total - amount\n",
    "\n",
    "print(\"Valor futuro = {:0,.2f}\".format(total))\n",
    "print('Intereses = %.2f' %interest)"
   ]
  },
  {
   "cell_type": "markdown",
   "metadata": {
    "colab_type": "text",
    "id": "vMk_EbfNhZ9L"
   },
   "source": [
    "Retornar **dos** valores"
   ]
  },
  {
   "cell_type": "code",
   "execution_count": null,
   "metadata": {
    "colab": {
     "base_uri": "https://localhost:8080/",
     "height": 51
    },
    "colab_type": "code",
    "executionInfo": {
     "elapsed": 450,
     "status": "ok",
     "timestamp": 1566419176080,
     "user": {
      "displayName": "Ricardo José Ramírez Blauvelt",
      "photoUrl": "https://lh3.googleusercontent.com/a-/AAuE7mC7HsFZWgDyVaAB6Wza-nOVo2GcumlXSW3wkY9oVKc=s64",
      "userId": "15259993531050943844"
     },
     "user_tz": 300
    },
    "id": "1dJEqGfchZld",
    "outputId": "ed84c692-aec8-4ab2-8079-fabbaf347aa7"
   },
   "outputs": [
    {
     "name": "stdout",
     "output_type": "stream",
     "text": [
      "{2, 4, 6, 8, 10}\n",
      "{1, 3, 5, 7, 9}\n"
     ]
    }
   ],
   "source": [
    "# Crea la función\n",
    "def clasificar(lista_enteros):\n",
    "  # Inicializa los conjuntos\n",
    "  _pares = set()\n",
    "  _impares = set()\n",
    "\n",
    "  # Recorre los datos\n",
    "  for i in lista_enteros:\n",
    "    _pares.add(i) if i % 2 == 0 else _impares.add(i)\n",
    "  \n",
    "  # Entrega los resultados\n",
    "  return _pares, _impares\n",
    "\n",
    "\n",
    "\n",
    "# Ejecuta la función\n",
    "pares, impares = clasificar([1,2,3,4,5,6,7,8,9,10])\n",
    "\n",
    "# Imprime los resultados\n",
    "print(pares)\n",
    "print(impares)"
   ]
  },
  {
   "cell_type": "markdown",
   "metadata": {
    "colab_type": "text",
    "id": "4xYZoMxKu3dM"
   },
   "source": [
    "## Funciones Lambda\n",
    "\n",
    "Python permite la creación de funciones `lambda` que tienen como característica que son anónimas y sólo pueden tener una expresión.\n",
    "\n",
    "```\n",
    "lambda arguments : expression\n",
    "```"
   ]
  },
  {
   "cell_type": "code",
   "execution_count": null,
   "metadata": {
    "colab": {
     "base_uri": "https://localhost:8080/",
     "height": 34
    },
    "colab_type": "code",
    "executionInfo": {
     "elapsed": 589,
     "status": "ok",
     "timestamp": 1561568952187,
     "user": {
      "displayName": "Ricardo José Ramírez Blauvelt",
      "photoUrl": "https://lh5.googleusercontent.com/-4Bjnu_NlnGg/AAAAAAAAAAI/AAAAAAAArTg/o0MMA_CT8vw/s64/photo.jpg",
      "userId": "15259993531050943844"
     },
     "user_tz": 300
    },
    "id": "BIfAeFwNwqOP",
    "outputId": "fb98c24a-23ae-4b78-be00-3f78f54d4fc5"
   },
   "outputs": [
    {
     "name": "stdout",
     "output_type": "stream",
     "text": [
      "4\n"
     ]
    }
   ],
   "source": [
    "# Definición de una lambda con un sólo parámetro\n",
    "x = lambda parametro: parametro * 2\n",
    "\n",
    "print(x(2))"
   ]
  },
  {
   "cell_type": "code",
   "execution_count": null,
   "metadata": {
    "colab": {
     "base_uri": "https://localhost:8080/",
     "height": 34
    },
    "colab_type": "code",
    "executionInfo": {
     "elapsed": 567,
     "status": "ok",
     "timestamp": 1561568999296,
     "user": {
      "displayName": "Ricardo José Ramírez Blauvelt",
      "photoUrl": "https://lh5.googleusercontent.com/-4Bjnu_NlnGg/AAAAAAAAAAI/AAAAAAAArTg/o0MMA_CT8vw/s64/photo.jpg",
      "userId": "15259993531050943844"
     },
     "user_tz": 300
    },
    "id": "LSxjQ3fnw1H1",
    "outputId": "0d959a3d-c739-44c9-8fef-5a73a09c37ff"
   },
   "outputs": [
    {
     "name": "stdout",
     "output_type": "stream",
     "text": [
      "6\n"
     ]
    }
   ],
   "source": [
    "# Lambda con varios parámetros\n",
    "y = lambda p1, p2, p3: p1 * p2 * p3\n",
    "\n",
    "print(y(1,2,3))"
   ]
  },
  {
   "cell_type": "code",
   "execution_count": null,
   "metadata": {
    "colab": {
     "base_uri": "https://localhost:8080/",
     "height": 34
    },
    "colab_type": "code",
    "executionInfo": {
     "elapsed": 453,
     "status": "ok",
     "timestamp": 1561570838644,
     "user": {
      "displayName": "Ricardo José Ramírez Blauvelt",
      "photoUrl": "https://lh5.googleusercontent.com/-4Bjnu_NlnGg/AAAAAAAAAAI/AAAAAAAArTg/o0MMA_CT8vw/s64/photo.jpg",
      "userId": "15259993531050943844"
     },
     "user_tz": 300
    },
    "id": "_9S8D_Dx3Y4O",
    "outputId": "6d452f11-2f8d-4a4e-95df-9f7d457162fa"
   },
   "outputs": [
    {
     "name": "stdout",
     "output_type": "stream",
     "text": [
      "[2, 4, 6, 8, 10]\n"
     ]
    }
   ],
   "source": [
    "# Incluyéndola en un ciclo\n",
    "v = lambda x: x % 2 == 0\n",
    "pares = [n for n in (1,2,3,4,5,6,7,8,9,10) if v(n)]\n",
    "print(pares)"
   ]
  },
  {
   "cell_type": "markdown",
   "metadata": {
    "colab_type": "text",
    "id": "eCEvQ21dmF-B"
   },
   "source": [
    "## Módulos\n",
    "\n",
    "Se refieren a cualquier archivo `.py` que creamos por fuera de nuestro programa y que contiene funciones, clases o variables, que podemos importar a nuestro entorno de ejecución y utilizar.\n",
    "\n",
    "Es la forma que tenemos de crear código reutilizable y ordenar los proyectos\n"
   ]
  },
  {
   "cell_type": "markdown",
   "metadata": {
    "colab_type": "text",
    "id": "CG9suhGLYLAm"
   },
   "source": [
    "***Contenido de 'mi_modulo.py'***\n",
    "\n",
    "```\n",
    "\"\"\"\n",
    "Módulo de prueba\n",
    "\"\"\"\n",
    "\n",
    "print(\"Saludo desde el módulo de prueba\")\n",
    "\n",
    "def mock(valor):\n",
    "    return \"Me enviaste el valor {}\".format(valor)\n",
    "\n",
    "lista = [1,2,3,4,5,6,7,8,9]\n",
    "```"
   ]
  },
  {
   "cell_type": "code",
   "execution_count": null,
   "metadata": {
    "colab": {
     "base_uri": "https://localhost:8080/",
     "height": 122
    },
    "colab_type": "code",
    "executionInfo": {
     "elapsed": 31082,
     "status": "ok",
     "timestamp": 1566419687257,
     "user": {
      "displayName": "Ricardo José Ramírez Blauvelt",
      "photoUrl": "https://lh3.googleusercontent.com/a-/AAuE7mC7HsFZWgDyVaAB6Wza-nOVo2GcumlXSW3wkY9oVKc=s64",
      "userId": "15259993531050943844"
     },
     "user_tz": 300
    },
    "id": "IHmZ9Ig1mYhS",
    "outputId": "d6bace7d-3ca5-45fe-b326-beccd66604fc"
   },
   "outputs": [
    {
     "name": "stdout",
     "output_type": "stream",
     "text": [
      "Go to this URL in a browser: https://accounts.google.com/o/oauth2/auth?client_id=947318989803-6bn6qk8qdgf4n4g3pfee6491hc0brc4i.apps.googleusercontent.com&redirect_uri=urn%3Aietf%3Awg%3Aoauth%3A2.0%3Aoob&scope=email%20https%3A%2F%2Fwww.googleapis.com%2Fauth%2Fdocs.test%20https%3A%2F%2Fwww.googleapis.com%2Fauth%2Fdrive%20https%3A%2F%2Fwww.googleapis.com%2Fauth%2Fdrive.photos.readonly%20https%3A%2F%2Fwww.googleapis.com%2Fauth%2Fpeopleapi.readonly&response_type=code\n",
      "\n",
      "Enter your authorization code:\n",
      "··········\n",
      "Mounted at /content/drive\n"
     ]
    }
   ],
   "source": [
    "# Monta la unidad\n",
    "from google.colab import drive\n",
    "drive.mount('/content/drive')"
   ]
  },
  {
   "cell_type": "code",
   "execution_count": null,
   "metadata": {
    "colab": {
     "base_uri": "https://localhost:8080/",
     "height": 34
    },
    "colab_type": "code",
    "executionInfo": {
     "elapsed": 708,
     "status": "ok",
     "timestamp": 1566419824650,
     "user": {
      "displayName": "Ricardo José Ramírez Blauvelt",
      "photoUrl": "https://lh3.googleusercontent.com/a-/AAuE7mC7HsFZWgDyVaAB6Wza-nOVo2GcumlXSW3wkY9oVKc=s64",
      "userId": "15259993531050943844"
     },
     "user_tz": 300
    },
    "id": "aSRN8uTTonse",
    "outputId": "510c2d80-170a-434e-9f04-73dc65652632"
   },
   "outputs": [
    {
     "data": {
      "text/plain": [
       "'mi_modulo.py'"
      ]
     },
     "execution_count": 31,
     "metadata": {
      "tags": []
     },
     "output_type": "execute_result"
    }
   ],
   "source": [
    "# Copia a la ruta local el archivo PY\n",
    "modulo = \"/content/drive/My Drive/Colab Notebooks/mi_modulo.py\"\n",
    "from shutil import copyfile\n",
    "copyfile(modulo, \"mi_modulo.py\")"
   ]
  },
  {
   "cell_type": "code",
   "execution_count": null,
   "metadata": {
    "colab": {
     "base_uri": "https://localhost:8080/",
     "height": 68
    },
    "colab_type": "code",
    "executionInfo": {
     "elapsed": 910,
     "status": "ok",
     "timestamp": 1566419925928,
     "user": {
      "displayName": "Ricardo José Ramírez Blauvelt",
      "photoUrl": "https://lh3.googleusercontent.com/a-/AAuE7mC7HsFZWgDyVaAB6Wza-nOVo2GcumlXSW3wkY9oVKc=s64",
      "userId": "15259993531050943844"
     },
     "user_tz": 300
    },
    "id": "Qavi4ayjpIy8",
    "outputId": "a91f9a05-35f9-4470-f6c4-8672b9641037"
   },
   "outputs": [
    {
     "name": "stdout",
     "output_type": "stream",
     "text": [
      "Saludo desde el módulo de prueba\n",
      "[1, 2, 3, 4, 5, 6, 7, 8, 9]\n",
      "Me enviaste el valor Hola mundo\n"
     ]
    }
   ],
   "source": [
    "import mi_modulo\n",
    "\n",
    "print(mi_modulo.lista)\n",
    "print(mi_modulo.mock(\"Hola mundo\"))"
   ]
  },
  {
   "cell_type": "markdown",
   "metadata": {
    "colab_type": "text",
    "id": "7QTDP9UYjdQP"
   },
   "source": [
    "## Control de excepciones en Python\n",
    "\n",
    "Python maneja los tradicionales bloques `try-except`, pero con algunas características especiales:"
   ]
  },
  {
   "cell_type": "markdown",
   "metadata": {
    "colab_type": "text",
    "id": "i8sP5d4IUBdv"
   },
   "source": [
    "1. Bloque `try`-`except` estándar"
   ]
  },
  {
   "cell_type": "code",
   "execution_count": null,
   "metadata": {
    "colab": {
     "base_uri": "https://localhost:8080/",
     "height": 34
    },
    "colab_type": "code",
    "executionInfo": {
     "elapsed": 1325,
     "status": "ok",
     "timestamp": 1566933693481,
     "user": {
      "displayName": "Ricardo José Ramírez Blauvelt",
      "photoUrl": "https://lh3.googleusercontent.com/a-/AAuE7mC7HsFZWgDyVaAB6Wza-nOVo2GcumlXSW3wkY9oVKc=s64",
      "userId": "15259993531050943844"
     },
     "user_tz": 300
    },
    "id": "aCK3ZAYUU1Ik",
    "outputId": "ea00ef8d-43b6-43ad-ac00-8f77f7190c03"
   },
   "outputs": [
    {
     "name": "stdout",
     "output_type": "stream",
     "text": [
      "5.0\n"
     ]
    }
   ],
   "source": [
    "try:\n",
    "  print(10 / 2)\n",
    "except ZeroDivisionError:\n",
    "  print(\"Error de división por cero\")"
   ]
  },
  {
   "cell_type": "code",
   "execution_count": null,
   "metadata": {
    "colab": {
     "base_uri": "https://localhost:8080/",
     "height": 34
    },
    "colab_type": "code",
    "executionInfo": {
     "elapsed": 832,
     "status": "ok",
     "timestamp": 1566933699032,
     "user": {
      "displayName": "Ricardo José Ramírez Blauvelt",
      "photoUrl": "https://lh3.googleusercontent.com/a-/AAuE7mC7HsFZWgDyVaAB6Wza-nOVo2GcumlXSW3wkY9oVKc=s64",
      "userId": "15259993531050943844"
     },
     "user_tz": 300
    },
    "id": "YgbaOT8DUClK",
    "outputId": "f078fc07-33ca-4155-a0e4-66aa6072e219"
   },
   "outputs": [
    {
     "name": "stdout",
     "output_type": "stream",
     "text": [
      "Error de división por cero\n"
     ]
    }
   ],
   "source": [
    "try:\n",
    "  print(10 / 0)\n",
    "except ZeroDivisionError:\n",
    "  print(\"Error de división por cero\")"
   ]
  },
  {
   "cell_type": "markdown",
   "metadata": {
    "colab_type": "text",
    "id": "btd6H0bPX0dh"
   },
   "source": [
    "2. Con una acción que ocurrirá SÓLO SI NO HAY EXCEPCIÓN"
   ]
  },
  {
   "cell_type": "code",
   "execution_count": null,
   "metadata": {
    "colab": {
     "base_uri": "https://localhost:8080/",
     "height": 51
    },
    "colab_type": "code",
    "executionInfo": {
     "elapsed": 455,
     "status": "ok",
     "timestamp": 1566933739009,
     "user": {
      "displayName": "Ricardo José Ramírez Blauvelt",
      "photoUrl": "https://lh3.googleusercontent.com/a-/AAuE7mC7HsFZWgDyVaAB6Wza-nOVo2GcumlXSW3wkY9oVKc=s64",
      "userId": "15259993531050943844"
     },
     "user_tz": 300
    },
    "id": "OwYTYlqrhVvM",
    "outputId": "95d9ea03-6610-45ad-f0b7-00ffe8f61a89"
   },
   "outputs": [
    {
     "name": "stdout",
     "output_type": "stream",
     "text": [
      "5.0\n",
      "No se generó excepción\n"
     ]
    }
   ],
   "source": [
    "try:\n",
    "  print(10 / 2)\n",
    "except ZeroDivisionError:\n",
    "  print(\"Error de división por cero\")\n",
    "else:\n",
    "  print(\"No se generó excepción\")"
   ]
  },
  {
   "cell_type": "markdown",
   "metadata": {
    "colab_type": "text",
    "id": "IGi4IrU-X7BX"
   },
   "source": [
    "3. Con una acción que ocurrirá SIEMPRE, independientemente de si hubo excepción o no"
   ]
  },
  {
   "cell_type": "code",
   "execution_count": null,
   "metadata": {
    "colab": {
     "base_uri": "https://localhost:8080/",
     "height": 68
    },
    "colab_type": "code",
    "executionInfo": {
     "elapsed": 531,
     "status": "ok",
     "timestamp": 1566933856916,
     "user": {
      "displayName": "Ricardo José Ramírez Blauvelt",
      "photoUrl": "https://lh3.googleusercontent.com/a-/AAuE7mC7HsFZWgDyVaAB6Wza-nOVo2GcumlXSW3wkY9oVKc=s64",
      "userId": "15259993531050943844"
     },
     "user_tz": 300
    },
    "id": "QD3WH-9CYAvH",
    "outputId": "143d2e2b-e9d9-4880-a7c8-9ff337afd6ad"
   },
   "outputs": [
    {
     "name": "stdout",
     "output_type": "stream",
     "text": [
      "5.0\n",
      "No se generó excepción\n",
      "Siempre me ejecuto\n"
     ]
    }
   ],
   "source": [
    "try:\n",
    "  print(10 / 2)\n",
    "except ZeroDivisionError:\n",
    "  print(\"Error de división por cero\")\n",
    "else:\n",
    "  print(\"No se generó excepción\")\n",
    "finally:\n",
    "  print(\"Siempre me ejecuto\")"
   ]
  },
  {
   "cell_type": "code",
   "execution_count": 24,
   "metadata": {
    "colab": {
     "base_uri": "https://localhost:8080/",
     "height": 68
    },
    "colab_type": "code",
    "executionInfo": {
     "elapsed": 435,
     "status": "ok",
     "timestamp": 1568157569871,
     "user": {
      "displayName": "Ricardo José Ramírez Blauvelt",
      "photoUrl": "https://lh3.googleusercontent.com/a-/AAuE7mC7HsFZWgDyVaAB6Wza-nOVo2GcumlXSW3wkY9oVKc=s64",
      "userId": "15259993531050943844"
     },
     "user_tz": 300
    },
    "id": "b-Bg9IGvYHEz",
    "outputId": "f1320905-00e8-442a-cea4-5acf3e53e697"
   },
   "outputs": [
    {
     "name": "stdout",
     "output_type": "stream",
     "text": [
      "Error de división por cero\n",
      "division by zero\n",
      "Siempre me ejecuto\n"
     ]
    }
   ],
   "source": [
    "try:\n",
    "  print(10 / 0)\n",
    "except ZeroDivisionError as zde:\n",
    "  print(\"Error de división por cero\")\n",
    "  print(zde)\n",
    "else:\n",
    "  print(\"No se generó excepción\")\n",
    "finally:\n",
    "  print(\"Siempre me ejecuto\")"
   ]
  },
  {
   "cell_type": "markdown",
   "metadata": {
    "colab_type": "text",
    "id": "D2q8e8OaqPuy"
   },
   "source": [
    "## Clases\n",
    "\n",
    "Como Python es un lenguaje orientado a objetos, es posible utilizar clases y crear las propias. Tienen constructor, variables y métodos.\n",
    "\n",
    "Es importante descatar que todas las variables de clase son públicas"
   ]
  },
  {
   "cell_type": "code",
   "execution_count": null,
   "metadata": {
    "colab": {},
    "colab_type": "code",
    "id": "HociOLKPa8Xt"
   },
   "outputs": [],
   "source": [
    "class HolaMundo:\n",
    "  \n",
    "  history = []\n",
    "  \n",
    "  def __init__(self, arg):\n",
    "    self.arg = arg\n",
    "    self.history.clear()\n",
    "  \n",
    "  def echo(self):\n",
    "    return self.arg\n",
    "  \n",
    "  def add(self, arg):\n",
    "    self.history.append(arg)\n"
   ]
  },
  {
   "cell_type": "code",
   "execution_count": null,
   "metadata": {
    "colab": {
     "base_uri": "https://localhost:8080/",
     "height": 85
    },
    "colab_type": "code",
    "executionInfo": {
     "elapsed": 473,
     "status": "ok",
     "timestamp": 1566934223712,
     "user": {
      "displayName": "Ricardo José Ramírez Blauvelt",
      "photoUrl": "https://lh3.googleusercontent.com/a-/AAuE7mC7HsFZWgDyVaAB6Wza-nOVo2GcumlXSW3wkY9oVKc=s64",
      "userId": "15259993531050943844"
     },
     "user_tz": 300
    },
    "id": "JvwKShcZbaTz",
    "outputId": "9469dd1d-2a79-49d9-dada-52e9b9468d6c"
   },
   "outputs": [
    {
     "name": "stdout",
     "output_type": "stream",
     "text": [
      "hola\n",
      "[]\n",
      "['1']\n",
      "['1', '2']\n"
     ]
    }
   ],
   "source": [
    "# Crea la instancia del objeto\n",
    "hm = HolaMundo(\"hola\")\n",
    "\n",
    "# Imprime el argumento pasado en el constructor\n",
    "print(hm.echo())\n",
    "\n",
    "# Lista vacía\n",
    "print(hm.history)\n",
    "\n",
    "# Añade un objeto\n",
    "hm.add(\"1\")\n",
    "\n",
    "# Estado de la lista\n",
    "print(hm.history)\n",
    "\n",
    "# Añade otro objeto\n",
    "hm.add(\"2\")\n",
    "\n",
    "# Estado de la lista\n",
    "print(hm.history)\n",
    "\n"
   ]
  },
  {
   "cell_type": "markdown",
   "metadata": {
    "colab_type": "text",
    "id": "0ytFOOfLtq1V"
   },
   "source": [
    "### Herencia\n",
    "\n",
    "Python, como cualquier lenguaje orientado a objetos, permite manejar el concepto de herencia. A diferencia de lenguajes como Java, sí permite herencia múltiple"
   ]
  },
  {
   "cell_type": "code",
   "execution_count": null,
   "metadata": {
    "colab": {
     "base_uri": "https://localhost:8080/",
     "height": 102
    },
    "colab_type": "code",
    "executionInfo": {
     "elapsed": 492,
     "status": "ok",
     "timestamp": 1566934412300,
     "user": {
      "displayName": "Ricardo José Ramírez Blauvelt",
      "photoUrl": "https://lh3.googleusercontent.com/a-/AAuE7mC7HsFZWgDyVaAB6Wza-nOVo2GcumlXSW3wkY9oVKc=s64",
      "userId": "15259993531050943844"
     },
     "user_tz": 300
    },
    "id": "JjTRy5W-lyKN",
    "outputId": "af4c5315-3e51-4d3c-8696-8625d852c3db"
   },
   "outputs": [
    {
     "name": "stdout",
     "output_type": "stream",
     "text": [
      "Desde el hijo: hi\n",
      "[]\n",
      "['1']\n",
      "['1', '2']\n",
      "['2']\n"
     ]
    }
   ],
   "source": [
    "class SaludarMundo(HolaMundo):\n",
    "  def __init__(self, arg):\n",
    "    super().__init__(arg)\n",
    "  \n",
    "  def echo(self):\n",
    "    return \"Desde el hijo: {}\".format(self.arg)\n",
    "\n",
    "  def remove(self, valor):\n",
    "    self.history.remove(valor)\n",
    "\n",
    "\n",
    "# Crea el objeto\n",
    "sm = SaludarMundo(\"hi\")\n",
    "\n",
    "# Imprime el argumento pasado en el constructor\n",
    "print(sm.echo())\n",
    "\n",
    "# Lista vacía\n",
    "print(sm.history)\n",
    "\n",
    "# Añade un objeto\n",
    "sm.add(\"1\")\n",
    "\n",
    "# Estado de la lista\n",
    "print(sm.history)\n",
    "\n",
    "# Añade otro objeto\n",
    "sm.add(\"2\")\n",
    "\n",
    "# Estado de la lista\n",
    "print(sm.history)\n",
    "\n",
    "# Elimina un elemento\n",
    "sm.remove(\"1\")\n",
    "\n",
    "# Estado de la lista\n",
    "print(sm.history)\n"
   ]
  },
  {
   "cell_type": "markdown",
   "metadata": {
    "colab_type": "text",
    "id": "8CQ4OX_4mu0o"
   },
   "source": [
    "# Pruebas unitarias\n",
    "\n",
    "Python permite crear sets de pruebas unitarias para verificar el código que hemos creado. El lenguaje ofrece soporte nativo para esta funcionalidad, basado en los conceptos de _jUnit_ de Java. También existen librerías externas que complementan o sustituyen la librería nativa de pruebas unitarias\n",
    "\n",
    "El paquete básico de Python para pruebas unitarias se llama `unittest`\n",
    "\n",
    "Se crean pruebas unitarias extendiendo la clase `unittest.TestCase`"
   ]
  },
  {
   "cell_type": "code",
   "execution_count": null,
   "metadata": {
    "colab": {},
    "colab_type": "code",
    "id": "_aPRvwL4nhzv"
   },
   "outputs": [],
   "source": [
    "import unittest"
   ]
  },
  {
   "cell_type": "code",
   "execution_count": null,
   "metadata": {
    "colab": {},
    "colab_type": "code",
    "id": "qsQ1HfxKnmip"
   },
   "outputs": [],
   "source": [
    "class TestStringMethods(unittest.TestCase):\n",
    "\n",
    "    def test_upper(self):\n",
    "        self.assertEqual('foo'.upper(), 'FOO')\n",
    "\n",
    "    def test_isupper(self):\n",
    "        self.assertTrue('FOO'.isupper())\n",
    "        self.assertFalse('Foo'.isupper())\n",
    "\n",
    "    def test_split(self):\n",
    "        s = 'hello world'\n",
    "        self.assertEqual(s.split(), ['hello', 'world'])\n",
    "        # check that s.split fails when the separator is not a string\n",
    "        with self.assertRaises(TypeError):\n",
    "            s.split(2)"
   ]
  },
  {
   "cell_type": "code",
   "execution_count": null,
   "metadata": {
    "colab": {
     "base_uri": "https://localhost:8080/",
     "height": 119
    },
    "colab_type": "code",
    "executionInfo": {
     "elapsed": 512,
     "status": "ok",
     "timestamp": 1566934844690,
     "user": {
      "displayName": "Ricardo José Ramírez Blauvelt",
      "photoUrl": "https://lh3.googleusercontent.com/a-/AAuE7mC7HsFZWgDyVaAB6Wza-nOVo2GcumlXSW3wkY9oVKc=s64",
      "userId": "15259993531050943844"
     },
     "user_tz": 300
    },
    "id": "Vr00uhYtoEpJ",
    "outputId": "f54f2e75-2228-4ef0-c867-4e647c4fd1f7"
   },
   "outputs": [
    {
     "name": "stderr",
     "output_type": "stream",
     "text": [
      "...\n",
      "----------------------------------------------------------------------\n",
      "Ran 3 tests in 0.007s\n",
      "\n",
      "OK\n"
     ]
    },
    {
     "data": {
      "text/plain": [
       "<unittest.main.TestProgram at 0x7f5ba5390ef0>"
      ]
     },
     "execution_count": 15,
     "metadata": {
      "tags": []
     },
     "output_type": "execute_result"
    }
   ],
   "source": [
    "# Ejecuta las pruebas\n",
    "unittest.main(argv=['ignorar'], exit=False)"
   ]
  },
  {
   "cell_type": "code",
   "execution_count": null,
   "metadata": {
    "colab": {},
    "colab_type": "code",
    "id": "9QSYilv4ue_n"
   },
   "outputs": [],
   "source": [
    "# Crea una simple calculadora\n",
    "class Calculadora():\n",
    "  \n",
    "  def sumar(self, a, b):\n",
    "    return a + b\n",
    "  \n",
    "  def restar(self, a, b):\n",
    "    return a - b\n",
    "  \n",
    "  def multiplicar(self, a, b):\n",
    "    return a * b\n",
    "  \n",
    "  def dividir(self, a, b):\n",
    "    if b == 0:\n",
    "      raise ZeroDivisionError\n",
    "    \n",
    "    return a / b\n"
   ]
  },
  {
   "cell_type": "code",
   "execution_count": null,
   "metadata": {
    "colab": {},
    "colab_type": "code",
    "id": "ToUtaUQnwo_T"
   },
   "outputs": [],
   "source": [
    "# Pruebas unitarias para la calculadora\n",
    "class TestCalculadora(unittest.TestCase):\n",
    "  \n",
    "  calc = None\n",
    "  \n",
    "  def setUp(self):\n",
    "    self.calc = Calculadora()\n",
    "  \n",
    "  def test_suma(self):\n",
    "    self.assertEqual(self.calc.sumar(5, 2), 7)\n",
    "  \n",
    "  def test_restar(self):\n",
    "    self.assertTrue(self.calc.restar(5, 2) == 3)\n",
    "    \n",
    "  def test_multiplicar(self):\n",
    "    self.assertEqual(self.calc.multiplicar(5, 2), 10)\n",
    "  \n",
    "  def test_dividir(self):\n",
    "    # Prueba una división normal\n",
    "    self.assertEqual(self.calc.dividir(5, 2), 2.5)\n",
    "    \n",
    "    # Prueba la división por cero\n",
    "    with self.assertRaises(ZeroDivisionError):\n",
    "      self.calc.dividir(5, 0)"
   ]
  },
  {
   "cell_type": "code",
   "execution_count": null,
   "metadata": {
    "colab": {
     "base_uri": "https://localhost:8080/",
     "height": 238
    },
    "colab_type": "code",
    "executionInfo": {
     "elapsed": 504,
     "status": "ok",
     "timestamp": 1566935026879,
     "user": {
      "displayName": "Ricardo José Ramírez Blauvelt",
      "photoUrl": "https://lh3.googleusercontent.com/a-/AAuE7mC7HsFZWgDyVaAB6Wza-nOVo2GcumlXSW3wkY9oVKc=s64",
      "userId": "15259993531050943844"
     },
     "user_tz": 300
    },
    "id": "tLYLe8Z5ypj3",
    "outputId": "878131cd-c894-4e46-d4a9-c6b73983c168"
   },
   "outputs": [
    {
     "name": "stderr",
     "output_type": "stream",
     "text": [
      "test_dividir (__main__.TestCalculadora) ... ok\n",
      "test_multiplicar (__main__.TestCalculadora) ... ok\n",
      "test_restar (__main__.TestCalculadora) ... ok\n",
      "test_suma (__main__.TestCalculadora) ... ok\n",
      "test_isupper (__main__.TestStringMethods) ... ok\n",
      "test_split (__main__.TestStringMethods) ... ok\n",
      "test_upper (__main__.TestStringMethods) ... ok\n",
      "\n",
      "----------------------------------------------------------------------\n",
      "Ran 7 tests in 0.020s\n",
      "\n",
      "OK\n"
     ]
    },
    {
     "data": {
      "text/plain": [
       "<unittest.main.TestProgram at 0x7f5ba5398e80>"
      ]
     },
     "execution_count": 18,
     "metadata": {
      "tags": []
     },
     "output_type": "execute_result"
    }
   ],
   "source": [
    "# Ejecuta todas las clases de pruebas configuradas\n",
    "unittest.main(argv=['ignorar'], exit=False, verbosity=2)"
   ]
  },
  {
   "cell_type": "code",
   "execution_count": null,
   "metadata": {
    "colab": {
     "base_uri": "https://localhost:8080/",
     "height": 187
    },
    "colab_type": "code",
    "executionInfo": {
     "elapsed": 477,
     "status": "ok",
     "timestamp": 1566935073086,
     "user": {
      "displayName": "Ricardo José Ramírez Blauvelt",
      "photoUrl": "https://lh3.googleusercontent.com/a-/AAuE7mC7HsFZWgDyVaAB6Wza-nOVo2GcumlXSW3wkY9oVKc=s64",
      "userId": "15259993531050943844"
     },
     "user_tz": 300
    },
    "id": "PVB0oxGTAhvO",
    "outputId": "b154947a-6b8f-4827-b8a4-5bd125d4cf69"
   },
   "outputs": [
    {
     "name": "stderr",
     "output_type": "stream",
     "text": [
      "test_dividir (__main__.TestCalculadora) ... ok\n",
      "test_multiplicar (__main__.TestCalculadora) ... ok\n",
      "test_restar (__main__.TestCalculadora) ... ok\n",
      "test_suma (__main__.TestCalculadora) ... ok\n",
      "\n",
      "----------------------------------------------------------------------\n",
      "Ran 4 tests in 0.008s\n",
      "\n",
      "OK\n"
     ]
    },
    {
     "data": {
      "text/plain": [
       "<unittest.runner.TextTestResult run=4 errors=0 failures=0>"
      ]
     },
     "execution_count": 19,
     "metadata": {
      "tags": []
     },
     "output_type": "execute_result"
    }
   ],
   "source": [
    "# Ejecuta el set de pruebas especificado\n",
    "suite = unittest.TestLoader().loadTestsFromTestCase(TestCalculadora)\n",
    "unittest.TextTestRunner(verbosity=2).run(suite)"
   ]
  },
  {
   "cell_type": "markdown",
   "metadata": {
    "colab_type": "text",
    "id": "ucKRiuCccE1s"
   },
   "source": [
    "# Hilos\n",
    "\n",
    "Python permite la implementación de hilos, para ejecutar tareas en paralelo. A diferencia de otros lenguajes, Python no hace uso de múltiples CPUs, pero sí permite ejecutar tareas en simultáneo, sin tener que esperar a que tareas muy largas finalicen, para avanzar en otros procesos no dependientes.\n",
    "\n",
    "Se trabaja con el paquete `threading`"
   ]
  },
  {
   "cell_type": "code",
   "execution_count": null,
   "metadata": {
    "colab": {
     "base_uri": "https://localhost:8080/",
     "height": 187
    },
    "colab_type": "code",
    "executionInfo": {
     "elapsed": 10477,
     "status": "ok",
     "timestamp": 1566935789751,
     "user": {
      "displayName": "Ricardo José Ramírez Blauvelt",
      "photoUrl": "https://lh3.googleusercontent.com/a-/AAuE7mC7HsFZWgDyVaAB6Wza-nOVo2GcumlXSW3wkY9oVKc=s64",
      "userId": "15259993531050943844"
     },
     "user_tz": 300
    },
    "id": "ylUUjO9rceCc",
    "outputId": "bee2b2f6-6dc4-43c5-875a-f23d970dd8d0"
   },
   "outputs": [
    {
     "name": "stdout",
     "output_type": "stream",
     "text": [
      "1\n",
      "2\n",
      "3\n",
      "4\n",
      "5\n",
      "6\n",
      "7\n",
      "8\n",
      "9\n",
      "10\n"
     ]
    }
   ],
   "source": [
    "import threading\n",
    "import time\n",
    "\n",
    "def loop1_10():\n",
    "  for i in range(1, 11):\n",
    "    time.sleep(1)\n",
    "    print(i)\n",
    "\n",
    "x = threading.Thread(target=loop1_10)\n",
    "x.start()\n",
    "x.join()"
   ]
  },
  {
   "cell_type": "code",
   "execution_count": null,
   "metadata": {
    "colab": {
     "base_uri": "https://localhost:8080/",
     "height": 136
    },
    "colab_type": "code",
    "executionInfo": {
     "elapsed": 4112,
     "status": "ok",
     "timestamp": 1566935867770,
     "user": {
      "displayName": "Ricardo José Ramírez Blauvelt",
      "photoUrl": "https://lh3.googleusercontent.com/a-/AAuE7mC7HsFZWgDyVaAB6Wza-nOVo2GcumlXSW3wkY9oVKc=s64",
      "userId": "15259993531050943844"
     },
     "user_tz": 300
    },
    "id": "11ddmjnHgRlt",
    "outputId": "a8fbfaa4-19d1-4b0e-ca65-7fe510e525af"
   },
   "outputs": [
    {
     "name": "stdout",
     "output_type": "stream",
     "text": [
      "Thread-1 inició!\n",
      "Thread-2 inició!\n",
      "Thread-1 terminó!\n",
      "Thread-3 inició!\n",
      "Thread-2 terminó!\n",
      "Thread-4 inició!\n",
      "Thread-3 terminó!\n"
     ]
    }
   ],
   "source": [
    "# Inicia múltiples hilos, pero no espera a que el último finalice... ¿por qué?\n",
    "\n",
    "import threading\n",
    "import time\n",
    "\n",
    "\n",
    "class MiHilo(threading.Thread):\n",
    "  def run(self):\n",
    "    print(\"{} inició!\".format(self.getName()))\n",
    "    time.sleep(1)\n",
    "    print(\"{} terminó!\".format(self.getName()))\n",
    "\n",
    "def main():\n",
    "  for x in range(4):\n",
    "    mihilo = MiHilo(name = \"Thread-{}\".format(x + 1))\n",
    "    mihilo.start()\n",
    "    time.sleep(.9)\n",
    "\n",
    "if __name__ == '__main__':main()"
   ]
  },
  {
   "cell_type": "code",
   "execution_count": null,
   "metadata": {
    "colab": {
     "base_uri": "https://localhost:8080/",
     "height": 119
    },
    "colab_type": "code",
    "executionInfo": {
     "elapsed": 2749,
     "status": "ok",
     "timestamp": 1566936327426,
     "user": {
      "displayName": "Ricardo José Ramírez Blauvelt",
      "photoUrl": "https://lh3.googleusercontent.com/a-/AAuE7mC7HsFZWgDyVaAB6Wza-nOVo2GcumlXSW3wkY9oVKc=s64",
      "userId": "15259993531050943844"
     },
     "user_tz": 300
    },
    "id": "E1UsrTAziTAg",
    "outputId": "77aeaea2-08f1-45a8-e306-a6796409d338"
   },
   "outputs": [
    {
     "name": "stderr",
     "output_type": "stream",
     "text": [
      "20:05:24: Main    : before creating thread\n",
      "20:05:24: Main    : before running thread\n",
      "20:05:24: Thread 1: starting\n",
      "20:05:24: Main    : wait for the thread to finish\n",
      "20:05:26: Thread 1: finishing\n",
      "20:05:26: Main    : all done\n"
     ]
    }
   ],
   "source": [
    "# Inicia un hilo y muestra los diferentes estados, esperando que todos terminen\n",
    "\n",
    "import logging\n",
    "import threading\n",
    "import time\n",
    "\n",
    "def thread_function(name):\n",
    "    logging.info(\"Thread %s: starting\", name)\n",
    "    time.sleep(2)\n",
    "    logging.info(\"Thread %s: finishing\", name)\n",
    "\n",
    "if __name__ == \"__main__\":\n",
    "    format = \"%(asctime)s: %(message)s\"\n",
    "    logging.basicConfig(format=format, level=logging.INFO, datefmt=\"%H:%M:%S\")\n",
    "    logging.info(\"Main    : before creating thread\")\n",
    "    x = threading.Thread(target=thread_function, args=(1,))\n",
    "    logging.info(\"Main    : before running thread\")\n",
    "    x.start()\n",
    "    logging.info(\"Main    : wait for the thread to finish\")\n",
    "    x.join()\n",
    "    logging.info(\"Main    : all done\")\n"
   ]
  },
  {
   "cell_type": "code",
   "execution_count": null,
   "metadata": {
    "colab": {
     "base_uri": "https://localhost:8080/",
     "height": 272
    },
    "colab_type": "code",
    "executionInfo": {
     "elapsed": 2515,
     "status": "ok",
     "timestamp": 1566936386093,
     "user": {
      "displayName": "Ricardo José Ramírez Blauvelt",
      "photoUrl": "https://lh3.googleusercontent.com/a-/AAuE7mC7HsFZWgDyVaAB6Wza-nOVo2GcumlXSW3wkY9oVKc=s64",
      "userId": "15259993531050943844"
     },
     "user_tz": 300
    },
    "id": "B7DQSepP9eJ3",
    "outputId": "8dcbf422-80f9-482c-e301-3cf14f9cd8fc"
   },
   "outputs": [
    {
     "name": "stderr",
     "output_type": "stream",
     "text": [
      "20:06:23: Main    : create and start thread 0.\n",
      "20:06:23: Thread 0: starting\n",
      "20:06:23: Main    : create and start thread 1.\n",
      "20:06:23: Thread 1: starting\n",
      "20:06:23: Main    : create and start thread 2.\n",
      "20:06:23: Thread 2: starting\n",
      "20:06:23: Main    : before joining thread 0.\n",
      "20:06:25: Thread 0: finishing\n",
      "20:06:25: Main    : thread 0 done\n",
      "20:06:25: Main    : before joining thread 1.\n",
      "20:06:25: Thread 1: finishing\n",
      "20:06:25: Main    : thread 1 done\n",
      "20:06:25: Main    : before joining thread 2.\n",
      "20:06:25: Thread 2: finishing\n",
      "20:06:25: Main    : thread 2 done\n"
     ]
    }
   ],
   "source": [
    "# Inicia múltiples hilos\n",
    "\n",
    "import logging\n",
    "import threading\n",
    "import time\n",
    "\n",
    "def thread_function(name):\n",
    "    logging.info(\"Thread %s: starting\", name)\n",
    "    time.sleep(2)\n",
    "    logging.info(\"Thread %s: finishing\", name)\n",
    "\n",
    "if __name__ == \"__main__\":\n",
    "    format = \"%(asctime)s: %(message)s\"\n",
    "    logging.basicConfig(format=format, level=logging.INFO,\n",
    "                        datefmt=\"%H:%M:%S\")\n",
    "\n",
    "    threads = list()\n",
    "    for index in range(3):\n",
    "        logging.info(\"Main    : create and start thread %d.\", index)\n",
    "        x = threading.Thread(target=thread_function, args=(index,))\n",
    "        threads.append(x)\n",
    "        x.start()\n",
    "\n",
    "    for index, thread in enumerate(threads):\n",
    "        logging.info(\"Main    : before joining thread %d.\", index)\n",
    "        thread.join()\n",
    "        logging.info(\"Main    : thread %d done\", index)"
   ]
  },
  {
   "cell_type": "code",
   "execution_count": null,
   "metadata": {
    "colab": {
     "base_uri": "https://localhost:8080/",
     "height": 323
    },
    "colab_type": "code",
    "executionInfo": {
     "elapsed": 7528,
     "status": "ok",
     "timestamp": 1566936486884,
     "user": {
      "displayName": "Ricardo José Ramírez Blauvelt",
      "photoUrl": "https://lh3.googleusercontent.com/a-/AAuE7mC7HsFZWgDyVaAB6Wza-nOVo2GcumlXSW3wkY9oVKc=s64",
      "userId": "15259993531050943844"
     },
     "user_tz": 300
    },
    "id": "WdQ6HR3G-CYW",
    "outputId": "5a8d7756-adb5-4a4f-9ff5-6ef7d429d4e0"
   },
   "outputs": [
    {
     "name": "stderr",
     "output_type": "stream",
     "text": [
      "20:07:59: Thread 0: starting\n",
      "20:07:59: Thread 0 sleeping for: 5\n",
      "20:07:59: Thread 1: starting\n",
      "20:07:59: Thread 1 sleeping for: 2\n",
      "20:07:59: Thread 2: starting\n",
      "20:07:59: Thread 2 sleeping for: 4\n",
      "20:08:01: Thread 1: finishing\n",
      "20:08:01: Thread 3: starting\n",
      "20:08:01: Thread 3 sleeping for: 3\n",
      "20:08:03: Thread 2: finishing\n",
      "20:08:03: Thread 4: starting\n",
      "20:08:03: Thread 4 sleeping for: 3\n",
      "20:08:04: Thread 0: finishing\n",
      "20:08:04: Thread 5: starting\n",
      "20:08:04: Thread 5 sleeping for: 2\n",
      "20:08:04: Thread 3: finishing\n",
      "20:08:06: Thread 5: finishing\n",
      "20:08:06: Thread 4: finishing\n"
     ]
    }
   ],
   "source": [
    "# Utilizando ThreadPoolExecutor para administrar los hilos y la concurrencia\n",
    "import logging\n",
    "import threading\n",
    "import time\n",
    "\n",
    "import concurrent.futures\n",
    "import random\n",
    "\n",
    "def thread_function(name):\n",
    "    logging.info(\"Thread %s: starting\", name)\n",
    "    sleep = random.randrange(1,6)\n",
    "    logging.info(\"Thread %s sleeping for: %s\", name, sleep)\n",
    "    time.sleep(sleep)\n",
    "    logging.info(\"Thread %s: finishing\", name)\n",
    "\n",
    "if __name__ == \"__main__\":\n",
    "    format = \"%(asctime)s: %(message)s\"\n",
    "    logging.basicConfig(format=format, level=logging.INFO,\n",
    "                        datefmt=\"%H:%M:%S\")\n",
    "\n",
    "    with concurrent.futures.ThreadPoolExecutor(max_workers=3) as executor:\n",
    "        executor.map(thread_function, range(6))"
   ]
  },
  {
   "cell_type": "markdown",
   "metadata": {
    "colab_type": "text",
    "id": "5RJfiNooKXhs"
   },
   "source": [
    "## Librería OS\n",
    "\n",
    "La librería OS permite interactuar con el sistema operativo, leer archivos, crear directorios, o simplemente ver información de las rutas actuales"
   ]
  },
  {
   "cell_type": "code",
   "execution_count": null,
   "metadata": {
    "colab": {},
    "colab_type": "code",
    "id": "cTRS5NjXBNav"
   },
   "outputs": [],
   "source": [
    "import os\n",
    "import stat\n",
    "import subprocess"
   ]
  },
  {
   "cell_type": "code",
   "execution_count": 27,
   "metadata": {
    "colab": {
     "base_uri": "https://localhost:8080/",
     "height": 459
    },
    "colab_type": "code",
    "executionInfo": {
     "elapsed": 442,
     "status": "ok",
     "timestamp": 1568157608524,
     "user": {
      "displayName": "Ricardo José Ramírez Blauvelt",
      "photoUrl": "https://lh3.googleusercontent.com/a-/AAuE7mC7HsFZWgDyVaAB6Wza-nOVo2GcumlXSW3wkY9oVKc=s64",
      "userId": "15259993531050943844"
     },
     "user_tz": 300
    },
    "id": "IWRGUpPRBlWM",
    "outputId": "23fe6594-6b70-4582-caf6-f7c1ecdebcaa"
   },
   "outputs": [
    {
     "name": "stdout",
     "output_type": "stream",
     "text": [
      "posix.uname_result(sysname='Linux', nodename='d9094b06a032', release='4.14.137+', version='#1 SMP Thu Aug 8 02:47:02 PDT 2019', machine='x86_64')\n",
      "/usr/local/nvidia/bin:/usr/local/cuda/bin:/usr/local/sbin:/usr/local/bin:/usr/sbin:/usr/bin:/sbin:/bin:/tools/node/bin:/tools/google-cloud-sdk/bin:/opt/bin\n",
      "/root\n",
      "['.profile', '.bashrc', '.local', '.ipython', '.keras', '.node-gyp', '.npm', '.config', '.jupyter', '.cache', '.gsutil']\n",
      "['.profile', '.bashrc', '.local', '.ipython', 'tmp', '.keras', '.node-gyp', '.npm', '.config', '.jupyter', '.cache', '.gsutil']\n",
      "/root/tmp\n",
      "[]\n",
      "total 12\n",
      "drwxr-xr-x 2 root root 4096 Sep 10 23:20 .\n",
      "drwx------ 1 root root 4096 Sep 10 23:20 ..\n",
      "-rw-r--r-- 1 root root    0 Sep 10 23:20 prueba\n",
      "\n",
      "1688\n",
      "b'total 12\\n'\n",
      "b'drwxr-xr-x 2 root root 4096 Sep 10 23:20 .\\n'\n",
      "b'drwx------ 1 root root 4096 Sep 10 23:20 ..\\n'\n",
      "b'----rwx--- 1 root root    0 Sep 10 23:20 prueba\\n'\n",
      "total 12\n",
      "drwxr-xr-x 2 root root 4096 Sep 10 23:20 .\n",
      "drwx------ 1 root root 4096 Sep 10 23:20 ..\n",
      "----rwx--- 1 root root    0 Sep 10 23:20 cambio\n",
      "\n",
      "total 12\n",
      "drwxr-xr-x 2 root root 4096 Sep 10 23:20 .\n",
      "drwx------ 1 root root 4096 Sep 10 23:20 ..\n",
      "\n"
     ]
    }
   ],
   "source": [
    "# Ver el sistema operativo\n",
    "print(os.uname())\n",
    "\n",
    "# Leer una variable de entorno\n",
    "print(os.environ['PATH'])\n",
    "\n",
    "# Ver la ruta de trabajo\n",
    "os.chdir(\"/root\")\n",
    "print(os.getcwd())\n",
    "\n",
    "# Lista los contenidos de un directorio\n",
    "print(os.listdir(\".\"))\n",
    "\n",
    "# Crea un directorio\n",
    "try:\n",
    "  os.mkdir(\"tmp\")\n",
    "except FileExistsError:\n",
    "  print(\"Directorio ya existe\")\n",
    "print(os.listdir(\".\"))\n",
    "\n",
    "# Cambia de directorio\n",
    "os.chdir(\"tmp\")\n",
    "print(os.getcwd())\n",
    "print(os.listdir(\".\"))\n",
    "\n",
    "# Ejecuta un comando del sistema operativo\n",
    "os.system(\"touch prueba\")\n",
    "\n",
    "# Otra forma\n",
    "p = os.popen('ls -la')\n",
    "print(p.read())\n",
    "\n",
    "# Cambia los permisos\n",
    "os.chmod(\"prueba\", stat.S_IWGRP | stat.S_IRGRP | stat.S_IXGRP)\n",
    "\n",
    "# Iniciar un proceso de la manera recomendada en Python 3.x\n",
    "proc = subprocess.Popen('ls -la', stdout=subprocess.PIPE, shell=True)\n",
    "print(proc.pid)\n",
    "for i in range(4):\n",
    "  print(proc.stdout.readline())\n",
    "\n",
    "# Matar el proceso\n",
    "proc.kill()\n",
    "\n",
    "# Cambiar o mover un archivo\n",
    "os.replace(\"prueba\", \"cambio\")\n",
    "\n",
    "# Lista nuevamente los contenidos\n",
    "p = os.popen('ls -la')\n",
    "print(p.read())\n",
    "\n",
    "# Eliminar el archivo creado\n",
    "os.remove(\"cambio\")\n",
    "\n",
    "# Lista nuevamente los contenidos\n",
    "p = os.popen('ls -la')\n",
    "print(p.read())\n",
    "\n",
    "# Sube un nivel\n",
    "os.chdir(\"..\")\n",
    "\n",
    "# Elimina el directorio\n",
    "os.rmdir(\"tmp\")"
   ]
  },
  {
   "cell_type": "code",
   "execution_count": null,
   "metadata": {
    "colab": {
     "base_uri": "https://localhost:8080/",
     "height": 153
    },
    "colab_type": "code",
    "executionInfo": {
     "elapsed": 547,
     "status": "ok",
     "timestamp": 1566936816883,
     "user": {
      "displayName": "Ricardo José Ramírez Blauvelt",
      "photoUrl": "https://lh3.googleusercontent.com/a-/AAuE7mC7HsFZWgDyVaAB6Wza-nOVo2GcumlXSW3wkY9oVKc=s64",
      "userId": "15259993531050943844"
     },
     "user_tz": 300
    },
    "id": "bhhsU8LnPWbI",
    "outputId": "1a2f6d59-ceea-4440-f450-3d0608eb3400"
   },
   "outputs": [
    {
     "name": "stdout",
     "output_type": "stream",
     "text": [
      ".\n",
      "/\n",
      ":/bin:/usr/bin\n",
      "\n",
      "\n",
      "/dev/null\n",
      "2\n",
      "(0.4, 0.14, 0.1)\n"
     ]
    }
   ],
   "source": [
    "# Información genérica\n",
    "print(os.curdir)\n",
    "print(os.sep)\n",
    "print(os.defpath)\n",
    "print(os.linesep)\n",
    "print(os.devnull)\n",
    "print(os.cpu_count())\n",
    "print(os.getloadavg()) # 1, 5 y 15 minutos"
   ]
  },
  {
   "cell_type": "markdown",
   "metadata": {
    "colab_type": "text",
    "id": "Kv_Aew4wGB_X"
   },
   "source": [
    "# Manejo de datos\n",
    "\n",
    "Python posee características muy interesantes para los temas relacionados con manejo de datos. Principalmente se logra a través de dos librerías:\n",
    "1. NumPy\n",
    "1. Pandas\n",
    "\n",
    "Pandas depende internamente de Numpy, que es la librería \"numérica\" de Python"
   ]
  },
  {
   "cell_type": "markdown",
   "metadata": {
    "colab_type": "text",
    "id": "BgUAkoBryKuh"
   },
   "source": [
    "## Numpy\n",
    "\n",
    "Es el core de la computación científica en Python. Provee arreglos multidimensionales de alto desempeño y librerías y funciones para trabajar con ellos"
   ]
  },
  {
   "cell_type": "code",
   "execution_count": null,
   "metadata": {
    "colab": {},
    "colab_type": "code",
    "id": "vE6dF6A3yhVl"
   },
   "outputs": [],
   "source": [
    "import numpy as np"
   ]
  },
  {
   "cell_type": "markdown",
   "metadata": {
    "colab_type": "text",
    "id": "uEb0-cVYzFJM"
   },
   "source": [
    "### Arreglos en numpy\n",
    "\n",
    "Son muy similares a las listas tradicionales de Python, pero ofrecen mayor versatilidad a la hora de ejecutar operaciones con ellas. Es fácil convertir el tipo de dato entre ellas\n"
   ]
  },
  {
   "cell_type": "code",
   "execution_count": null,
   "metadata": {
    "colab": {
     "base_uri": "https://localhost:8080/",
     "height": 34
    },
    "colab_type": "code",
    "executionInfo": {
     "elapsed": 857,
     "status": "ok",
     "timestamp": 1567026606554,
     "user": {
      "displayName": "Ricardo José Ramírez Blauvelt",
      "photoUrl": "https://lh3.googleusercontent.com/a-/AAuE7mC7HsFZWgDyVaAB6Wza-nOVo2GcumlXSW3wkY9oVKc=s64",
      "userId": "15259993531050943844"
     },
     "user_tz": 300
    },
    "id": "L9oTRr1MzXAT",
    "outputId": "3013df18-ac87-4c69-aee0-f002126b99c7"
   },
   "outputs": [
    {
     "name": "stdout",
     "output_type": "stream",
     "text": [
      "(3,) <class 'numpy.ndarray'>\n"
     ]
    }
   ],
   "source": [
    "# Crear un arreglo de Numpy a partir de una lista\n",
    "a = np.array([1,2,3])\n",
    "print(a.shape, type(a))"
   ]
  },
  {
   "cell_type": "code",
   "execution_count": null,
   "metadata": {
    "colab": {
     "base_uri": "https://localhost:8080/",
     "height": 51
    },
    "colab_type": "code",
    "executionInfo": {
     "elapsed": 966,
     "status": "ok",
     "timestamp": 1567026613772,
     "user": {
      "displayName": "Ricardo José Ramírez Blauvelt",
      "photoUrl": "https://lh3.googleusercontent.com/a-/AAuE7mC7HsFZWgDyVaAB6Wza-nOVo2GcumlXSW3wkY9oVKc=s64",
      "userId": "15259993531050943844"
     },
     "user_tz": 300
    },
    "id": "c7mrsCYEzrGF",
    "outputId": "6d5dc8ab-7c16-4b4f-96fc-a78bc471a917"
   },
   "outputs": [
    {
     "name": "stdout",
     "output_type": "stream",
     "text": [
      "3\n",
      "[1 2 3]\n"
     ]
    }
   ],
   "source": [
    "# Leer un elemento de un arreglo de Numpy\n",
    "print(a[2])\n",
    "\n",
    "# Mostrar todo el arreglo\n",
    "print(a)"
   ]
  },
  {
   "cell_type": "code",
   "execution_count": null,
   "metadata": {
    "colab": {
     "base_uri": "https://localhost:8080/",
     "height": 34
    },
    "colab_type": "code",
    "executionInfo": {
     "elapsed": 845,
     "status": "ok",
     "timestamp": 1567026630585,
     "user": {
      "displayName": "Ricardo José Ramírez Blauvelt",
      "photoUrl": "https://lh3.googleusercontent.com/a-/AAuE7mC7HsFZWgDyVaAB6Wza-nOVo2GcumlXSW3wkY9oVKc=s64",
      "userId": "15259993531050943844"
     },
     "user_tz": 300
    },
    "id": "2M46usffzl48",
    "outputId": "914ccb46-8757-411d-a155-157c5edac050"
   },
   "outputs": [
    {
     "name": "stdout",
     "output_type": "stream",
     "text": [
      "<class 'list'>\n"
     ]
    }
   ],
   "source": [
    "# Convertir de nuevo a lista\n",
    "print(type(list(a)))"
   ]
  },
  {
   "cell_type": "code",
   "execution_count": null,
   "metadata": {
    "colab": {
     "base_uri": "https://localhost:8080/",
     "height": 34
    },
    "colab_type": "code",
    "executionInfo": {
     "elapsed": 1061,
     "status": "ok",
     "timestamp": 1567026649046,
     "user": {
      "displayName": "Ricardo José Ramírez Blauvelt",
      "photoUrl": "https://lh3.googleusercontent.com/a-/AAuE7mC7HsFZWgDyVaAB6Wza-nOVo2GcumlXSW3wkY9oVKc=s64",
      "userId": "15259993531050943844"
     },
     "user_tz": 300
    },
    "id": "O80A82Fe0J_c",
    "outputId": "da965b2e-210f-45f0-e3ff-504e7f72d752"
   },
   "outputs": [
    {
     "name": "stdout",
     "output_type": "stream",
     "text": [
      "(2, 3) <class 'numpy.ndarray'> int64\n"
     ]
    }
   ],
   "source": [
    "# Crear un arreglo multidimensional\n",
    "b = np.array([[1,2,3], [4,5,6]])\n",
    "\n",
    "# Dimensión, tipo del arreglo, tipos de datos del arreglo\n",
    "print(b.shape, type(b), b.dtype)"
   ]
  },
  {
   "cell_type": "code",
   "execution_count": null,
   "metadata": {
    "colab": {
     "base_uri": "https://localhost:8080/",
     "height": 85
    },
    "colab_type": "code",
    "executionInfo": {
     "elapsed": 468,
     "status": "ok",
     "timestamp": 1567026683508,
     "user": {
      "displayName": "Ricardo José Ramírez Blauvelt",
      "photoUrl": "https://lh3.googleusercontent.com/a-/AAuE7mC7HsFZWgDyVaAB6Wza-nOVo2GcumlXSW3wkY9oVKc=s64",
      "userId": "15259993531050943844"
     },
     "user_tz": 300
    },
    "id": "-J4zBEFU0Sj8",
    "outputId": "37a4da19-8e6e-4f19-9789-476a8d7f9955"
   },
   "outputs": [
    {
     "name": "stdout",
     "output_type": "stream",
     "text": [
      "[[1 2 3]\n",
      " [4 5 6]]\n",
      "\n",
      "6\n"
     ]
    }
   ],
   "source": [
    "# Mostrar todo el arreglo\n",
    "print(b)\n",
    "print()\n",
    "\n",
    "# Leer un elemento de un arreglo bidimensional de Numpy\n",
    "print(b[1, 2])"
   ]
  },
  {
   "cell_type": "code",
   "execution_count": null,
   "metadata": {
    "colab": {
     "base_uri": "https://localhost:8080/",
     "height": 289
    },
    "colab_type": "code",
    "executionInfo": {
     "elapsed": 558,
     "status": "ok",
     "timestamp": 1567026787271,
     "user": {
      "displayName": "Ricardo José Ramírez Blauvelt",
      "photoUrl": "https://lh3.googleusercontent.com/a-/AAuE7mC7HsFZWgDyVaAB6Wza-nOVo2GcumlXSW3wkY9oVKc=s64",
      "userId": "15259993531050943844"
     },
     "user_tz": 300
    },
    "id": "tMRSCtEt0i-v",
    "outputId": "a881c1b2-3e56-43ac-df88-304b5d0ad47b"
   },
   "outputs": [
    {
     "name": "stdout",
     "output_type": "stream",
     "text": [
      "[0 1 2 3 4 5 6 7 8 9]\n",
      "\n",
      "[[0. 0.]\n",
      " [0. 0.]]\n",
      "\n",
      "[[1. 1.]\n",
      " [1. 1.]]\n",
      "\n",
      "[[5 5]\n",
      " [5 5]]\n",
      "\n",
      "[[1. 0.]\n",
      " [0. 1.]]\n",
      "\n",
      "[[0.74227695 0.52787682]\n",
      " [0.9088794  0.12467658]]\n"
     ]
    }
   ],
   "source": [
    "# También ofrece formas para crear arreglos por defecto\n",
    "\n",
    "# Rango\n",
    "print(np.arange(10))\n",
    "print()\n",
    "\n",
    "# Ceros\n",
    "print(np.zeros((2,2)))\n",
    "print()\n",
    "\n",
    "# Unos\n",
    "print(np.ones((2,2)))\n",
    "print()\n",
    "\n",
    "# Algún valor\n",
    "print(np.full((2,2), 5))\n",
    "print()\n",
    "\n",
    "# Matriz identidad\n",
    "print(np.eye((2)))\n",
    "print()\n",
    "\n",
    "# Contenido aleatorio\n",
    "print(np.random.random((2,2)))"
   ]
  },
  {
   "cell_type": "code",
   "execution_count": null,
   "metadata": {
    "colab": {
     "base_uri": "https://localhost:8080/",
     "height": 153
    },
    "colab_type": "code",
    "executionInfo": {
     "elapsed": 799,
     "status": "ok",
     "timestamp": 1567026883305,
     "user": {
      "displayName": "Ricardo José Ramírez Blauvelt",
      "photoUrl": "https://lh3.googleusercontent.com/a-/AAuE7mC7HsFZWgDyVaAB6Wza-nOVo2GcumlXSW3wkY9oVKc=s64",
      "userId": "15259993531050943844"
     },
     "user_tz": 300
    },
    "id": "W1UuIx0X0hDQ",
    "outputId": "c7e87159-682c-4ed9-e8d0-cab0ed5072b1"
   },
   "outputs": [
    {
     "name": "stdout",
     "output_type": "stream",
     "text": [
      "[[1 2 3]\n",
      " [4 5 6]\n",
      " [7 8 9]]\n",
      "\n",
      "[[4 5]\n",
      " [7 8]]\n",
      "\n",
      "[7 8 9]\n"
     ]
    }
   ],
   "source": [
    "# También se puede utilizar el SLICING para recorrer los datos\n",
    "c = np.array([[1,2,3], [4,5,6], [7,8,9]])\n",
    "print(c)\n",
    "print()\n",
    "\n",
    "# Leamos la segunda y tercera fila, hasta el segundo elemento\n",
    "print(c[1:,:2])\n",
    "print()\n",
    "\n",
    "# Leamos la tercera fila\n",
    "print(c[2, :])"
   ]
  },
  {
   "cell_type": "code",
   "execution_count": null,
   "metadata": {
    "colab": {
     "base_uri": "https://localhost:8080/",
     "height": 102
    },
    "colab_type": "code",
    "executionInfo": {
     "elapsed": 489,
     "status": "ok",
     "timestamp": 1567026976987,
     "user": {
      "displayName": "Ricardo José Ramírez Blauvelt",
      "photoUrl": "https://lh3.googleusercontent.com/a-/AAuE7mC7HsFZWgDyVaAB6Wza-nOVo2GcumlXSW3wkY9oVKc=s64",
      "userId": "15259993531050943844"
     },
     "user_tz": 300
    },
    "id": "sT6LpYyP3cij",
    "outputId": "45ee798e-32d0-4126-ad93-65a83aa0926b"
   },
   "outputs": [
    {
     "name": "stdout",
     "output_type": "stream",
     "text": [
      "[[False False False]\n",
      " [False  True  True]\n",
      " [ True  True  True]]\n",
      "\n",
      "[5 6 7 8 9]\n"
     ]
    }
   ],
   "source": [
    "# Comparación sobre los arreglos\n",
    "print(c > 4)\n",
    "print()\n",
    "\n",
    "# Filtros\n",
    "print(c[c > 4])\n"
   ]
  },
  {
   "cell_type": "code",
   "execution_count": null,
   "metadata": {
    "colab": {
     "base_uri": "https://localhost:8080/",
     "height": 102
    },
    "colab_type": "code",
    "executionInfo": {
     "elapsed": 466,
     "status": "ok",
     "timestamp": 1567026990879,
     "user": {
      "displayName": "Ricardo José Ramírez Blauvelt",
      "photoUrl": "https://lh3.googleusercontent.com/a-/AAuE7mC7HsFZWgDyVaAB6Wza-nOVo2GcumlXSW3wkY9oVKc=s64",
      "userId": "15259993531050943844"
     },
     "user_tz": 300
    },
    "id": "MwBLSmVF4NbJ",
    "outputId": "db400a33-f60d-4b98-8f90-9f76491904b7"
   },
   "outputs": [
    {
     "name": "stdout",
     "output_type": "stream",
     "text": [
      "[[1 2]\n",
      " [3 4]] (2, 2)\n",
      "\n",
      "[[5]\n",
      " [6]] (2, 1)\n"
     ]
    }
   ],
   "source": [
    "# Operaciones con arreglos\n",
    "d = np.array([[1,2], [3,4]])\n",
    "e = np.array([[5],[6]])\n",
    "\n",
    "print(d, d.shape)\n",
    "print()\n",
    "print(e, e.shape)\n"
   ]
  },
  {
   "cell_type": "code",
   "execution_count": null,
   "metadata": {
    "colab": {
     "base_uri": "https://localhost:8080/",
     "height": 102
    },
    "colab_type": "code",
    "executionInfo": {
     "elapsed": 529,
     "status": "ok",
     "timestamp": 1567027052294,
     "user": {
      "displayName": "Ricardo José Ramírez Blauvelt",
      "photoUrl": "https://lh3.googleusercontent.com/a-/AAuE7mC7HsFZWgDyVaAB6Wza-nOVo2GcumlXSW3wkY9oVKc=s64",
      "userId": "15259993531050943844"
     },
     "user_tz": 300
    },
    "id": "MTg7P_FP42M0",
    "outputId": "b6b32e65-8e55-439a-88a0-dfd9504976c0"
   },
   "outputs": [
    {
     "name": "stdout",
     "output_type": "stream",
     "text": [
      "[[ 6  7]\n",
      " [ 9 10]]\n",
      "\n",
      "[[ 6  7]\n",
      " [ 9 10]]\n"
     ]
    }
   ],
   "source": [
    "# Sumar\n",
    "print(d + e)\n",
    "print()\n",
    "print(np.add(d, e))"
   ]
  },
  {
   "cell_type": "code",
   "execution_count": null,
   "metadata": {
    "colab": {
     "base_uri": "https://localhost:8080/",
     "height": 102
    },
    "colab_type": "code",
    "executionInfo": {
     "elapsed": 477,
     "status": "ok",
     "timestamp": 1567027071027,
     "user": {
      "displayName": "Ricardo José Ramírez Blauvelt",
      "photoUrl": "https://lh3.googleusercontent.com/a-/AAuE7mC7HsFZWgDyVaAB6Wza-nOVo2GcumlXSW3wkY9oVKc=s64",
      "userId": "15259993531050943844"
     },
     "user_tz": 300
    },
    "id": "87rDA34D5R3t",
    "outputId": "5765547f-0c80-454d-afb6-805e76c4c06e"
   },
   "outputs": [
    {
     "name": "stdout",
     "output_type": "stream",
     "text": [
      "[[-4 -3]\n",
      " [-3 -2]]\n",
      "\n",
      "[[-4 -3]\n",
      " [-3 -2]]\n"
     ]
    }
   ],
   "source": [
    "# Restar\n",
    "print(d - e)\n",
    "print()\n",
    "print(np.subtract(d, e))"
   ]
  },
  {
   "cell_type": "code",
   "execution_count": null,
   "metadata": {
    "colab": {
     "base_uri": "https://localhost:8080/",
     "height": 102
    },
    "colab_type": "code",
    "executionInfo": {
     "elapsed": 470,
     "status": "ok",
     "timestamp": 1567027079954,
     "user": {
      "displayName": "Ricardo José Ramírez Blauvelt",
      "photoUrl": "https://lh3.googleusercontent.com/a-/AAuE7mC7HsFZWgDyVaAB6Wza-nOVo2GcumlXSW3wkY9oVKc=s64",
      "userId": "15259993531050943844"
     },
     "user_tz": 300
    },
    "id": "Z-gCwJ_R5XLN",
    "outputId": "088cdd2c-cc4f-4025-c3f7-2302d8225775"
   },
   "outputs": [
    {
     "name": "stdout",
     "output_type": "stream",
     "text": [
      "[[ 5 10]\n",
      " [18 24]]\n",
      "\n",
      "[[ 5 10]\n",
      " [18 24]]\n"
     ]
    }
   ],
   "source": [
    "# Multiplicar\n",
    "print(d * e)\n",
    "print()\n",
    "print(np.multiply(d, e))"
   ]
  },
  {
   "cell_type": "code",
   "execution_count": null,
   "metadata": {
    "colab": {
     "base_uri": "https://localhost:8080/",
     "height": 102
    },
    "colab_type": "code",
    "executionInfo": {
     "elapsed": 492,
     "status": "ok",
     "timestamp": 1567027138858,
     "user": {
      "displayName": "Ricardo José Ramírez Blauvelt",
      "photoUrl": "https://lh3.googleusercontent.com/a-/AAuE7mC7HsFZWgDyVaAB6Wza-nOVo2GcumlXSW3wkY9oVKc=s64",
      "userId": "15259993531050943844"
     },
     "user_tz": 300
    },
    "id": "gKDn3NVu5ht9",
    "outputId": "c4c5f0a2-f4d5-4002-c85e-16bb81144512"
   },
   "outputs": [
    {
     "name": "stdout",
     "output_type": "stream",
     "text": [
      "[[0.2        0.4       ]\n",
      " [0.5        0.66666667]]\n",
      "\n",
      "[[0.2        0.4       ]\n",
      " [0.5        0.66666667]]\n"
     ]
    }
   ],
   "source": [
    "# Dividir\n",
    "print(d / e)\n",
    "print()\n",
    "print(np.divide(d, e))"
   ]
  },
  {
   "cell_type": "code",
   "execution_count": null,
   "metadata": {
    "colab": {
     "base_uri": "https://localhost:8080/",
     "height": 51
    },
    "colab_type": "code",
    "executionInfo": {
     "elapsed": 447,
     "status": "ok",
     "timestamp": 1566319375807,
     "user": {
      "displayName": "Ricardo José Ramírez Blauvelt",
      "photoUrl": "https://lh5.googleusercontent.com/-4Bjnu_NlnGg/AAAAAAAAAAI/AAAAAAAArTg/o0MMA_CT8vw/s64/photo.jpg",
      "userId": "15259993531050943844"
     },
     "user_tz": 300
    },
    "id": "HybzQc5a5t4z",
    "outputId": "9dcfe717-60b0-4437-8a24-6611acc3183a"
   },
   "outputs": [
    {
     "name": "stdout",
     "output_type": "stream",
     "text": [
      "[[17]\n",
      " [39]]\n"
     ]
    }
   ],
   "source": [
    "# Producto punto\n",
    "print(np.dot(d, e))"
   ]
  },
  {
   "cell_type": "code",
   "execution_count": null,
   "metadata": {
    "colab": {
     "base_uri": "https://localhost:8080/",
     "height": 34
    },
    "colab_type": "code",
    "executionInfo": {
     "elapsed": 497,
     "status": "ok",
     "timestamp": 1567027354654,
     "user": {
      "displayName": "Ricardo José Ramírez Blauvelt",
      "photoUrl": "https://lh3.googleusercontent.com/a-/AAuE7mC7HsFZWgDyVaAB6Wza-nOVo2GcumlXSW3wkY9oVKc=s64",
      "userId": "15259993531050943844"
     },
     "user_tz": 300
    },
    "id": "c2tQXrcPzVX0",
    "outputId": "94b1cbc4-4363-40d7-a90e-b95e14e0f365"
   },
   "outputs": [
    {
     "name": "stdout",
     "output_type": "stream",
     "text": [
      "-2.0000000000000004\n"
     ]
    }
   ],
   "source": [
    "# Determinante\n",
    "print(np.linalg.det(d))"
   ]
  },
  {
   "cell_type": "code",
   "execution_count": null,
   "metadata": {
    "colab": {
     "base_uri": "https://localhost:8080/",
     "height": 51
    },
    "colab_type": "code",
    "executionInfo": {
     "elapsed": 481,
     "status": "ok",
     "timestamp": 1567027370487,
     "user": {
      "displayName": "Ricardo José Ramírez Blauvelt",
      "photoUrl": "https://lh3.googleusercontent.com/a-/AAuE7mC7HsFZWgDyVaAB6Wza-nOVo2GcumlXSW3wkY9oVKc=s64",
      "userId": "15259993531050943844"
     },
     "user_tz": 300
    },
    "id": "esTsBHD7zgM-",
    "outputId": "00314491-c25d-420b-fad3-2fb31cd31e32"
   },
   "outputs": [
    {
     "data": {
      "text/plain": [
       "array([[1, 3],\n",
       "       [2, 4]])"
      ]
     },
     "execution_count": 16,
     "metadata": {
      "tags": []
     },
     "output_type": "execute_result"
    }
   ],
   "source": [
    "# Transpuesta\n",
    "d.T"
   ]
  },
  {
   "cell_type": "code",
   "execution_count": null,
   "metadata": {
    "colab": {
     "base_uri": "https://localhost:8080/",
     "height": 170
    },
    "colab_type": "code",
    "executionInfo": {
     "elapsed": 770,
     "status": "ok",
     "timestamp": 1567027387768,
     "user": {
      "displayName": "Ricardo José Ramírez Blauvelt",
      "photoUrl": "https://lh3.googleusercontent.com/a-/AAuE7mC7HsFZWgDyVaAB6Wza-nOVo2GcumlXSW3wkY9oVKc=s64",
      "userId": "15259993531050943844"
     },
     "user_tz": 300
    },
    "id": "tMcrs5zs6PNi",
    "outputId": "060cd06a-0f17-440e-c240-fdef26d586e4"
   },
   "outputs": [
    {
     "name": "stdout",
     "output_type": "stream",
     "text": [
      "[[1 2]\n",
      " [3 4]]\n",
      "\n",
      "10\n",
      "\n",
      "[4 6]\n",
      "\n",
      "[3 7]\n",
      "\n"
     ]
    }
   ],
   "source": [
    "# Suma de los elementos de los arreglos\n",
    "print(d)\n",
    "print()\n",
    "\n",
    "# Suma de todos los elementos\n",
    "print(np.sum(d))\n",
    "print()\n",
    "\n",
    "# Suma por columna\n",
    "print(np.sum(d, axis=0))\n",
    "print()\n",
    "\n",
    "# Suma por fila\n",
    "print(np.sum(d, axis=1))\n",
    "print()\n",
    "\n"
   ]
  },
  {
   "cell_type": "code",
   "execution_count": null,
   "metadata": {
    "colab": {
     "base_uri": "https://localhost:8080/",
     "height": 102
    },
    "colab_type": "code",
    "executionInfo": {
     "elapsed": 497,
     "status": "ok",
     "timestamp": 1567027435620,
     "user": {
      "displayName": "Ricardo José Ramírez Blauvelt",
      "photoUrl": "https://lh3.googleusercontent.com/a-/AAuE7mC7HsFZWgDyVaAB6Wza-nOVo2GcumlXSW3wkY9oVKc=s64",
      "userId": "15259993531050943844"
     },
     "user_tz": 300
    },
    "id": "-dgUS-I77Bqq",
    "outputId": "09c227bf-d925-4290-efdd-273f46702112"
   },
   "outputs": [
    {
     "name": "stdout",
     "output_type": "stream",
     "text": [
      "[[1.         1.41421356]\n",
      " [1.73205081 2.        ]]\n",
      "\n",
      "[[1.         1.41421356]\n",
      " [1.73205081 2.        ]]\n"
     ]
    }
   ],
   "source": [
    "# Raíz cuadrada de los elementos de la matriz\n",
    "print(d ** 0.5)\n",
    "print()\n",
    "print(np.sqrt(d))"
   ]
  },
  {
   "cell_type": "code",
   "execution_count": null,
   "metadata": {
    "colab": {
     "base_uri": "https://localhost:8080/",
     "height": 102
    },
    "colab_type": "code",
    "executionInfo": {
     "elapsed": 459,
     "status": "ok",
     "timestamp": 1567027446583,
     "user": {
      "displayName": "Ricardo José Ramírez Blauvelt",
      "photoUrl": "https://lh3.googleusercontent.com/a-/AAuE7mC7HsFZWgDyVaAB6Wza-nOVo2GcumlXSW3wkY9oVKc=s64",
      "userId": "15259993531050943844"
     },
     "user_tz": 300
    },
    "id": "3Nw-FRNi7JDI",
    "outputId": "0c82d3f3-6fa9-4c60-d042-6267fa99692c"
   },
   "outputs": [
    {
     "name": "stdout",
     "output_type": "stream",
     "text": [
      "[[ 1  8]\n",
      " [27 64]]\n",
      "\n",
      "[[ 1  8]\n",
      " [27 64]]\n"
     ]
    }
   ],
   "source": [
    "# Elevar a la tercera potencia los elementos de la matriz\n",
    "print(d ** 3)\n",
    "print()\n",
    "print(np.power(d, 3))"
   ]
  },
  {
   "cell_type": "code",
   "execution_count": null,
   "metadata": {
    "colab": {
     "base_uri": "https://localhost:8080/",
     "height": 102
    },
    "colab_type": "code",
    "executionInfo": {
     "elapsed": 465,
     "status": "ok",
     "timestamp": 1567027472000,
     "user": {
      "displayName": "Ricardo José Ramírez Blauvelt",
      "photoUrl": "https://lh3.googleusercontent.com/a-/AAuE7mC7HsFZWgDyVaAB6Wza-nOVo2GcumlXSW3wkY9oVKc=s64",
      "userId": "15259993531050943844"
     },
     "user_tz": 300
    },
    "id": "ny9iasneyMEt",
    "outputId": "c5190792-90d0-4cfa-9523-9096aa488922"
   },
   "outputs": [
    {
     "name": "stdout",
     "output_type": "stream",
     "text": [
      "Mínimo 1\n",
      "Máximo 4\n",
      "Media 2.5\n",
      "Desviación estándar 1.118033988749895\n",
      "Mediana 2.5\n"
     ]
    }
   ],
   "source": [
    "# Estadística\n",
    "print(\"Mínimo\", np.min(d))\n",
    "print(\"Máximo\", np.max(d))\n",
    "print(\"Media\", np.mean(d))\n",
    "print(\"Desviación estándar\", np.std(d))\n",
    "print(\"Mediana\", np.median(d))"
   ]
  },
  {
   "cell_type": "markdown",
   "metadata": {
    "colab_type": "text",
    "id": "rhtFDEZXzwpb"
   },
   "source": [
    "#### Trabajo con archivos\n"
   ]
  },
  {
   "cell_type": "code",
   "execution_count": null,
   "metadata": {
    "colab": {},
    "colab_type": "code",
    "id": "YTrdbWhTztW1"
   },
   "outputs": [],
   "source": [
    "# Lee el archivo\n",
    "entrada = np.genfromtxt(\"plano.txt\", delimiter=\"\\t\", dtype=\"str\")\n",
    "\n",
    "# Cambia el orden\n",
    "salida = entrada[:, [0,2,1]]\n",
    "\n",
    "# Escribe el nuevo archivo\n",
    "np.savetxt(\"plano_nuevo.tsv\", salida, delimiter=\"\\t\", fmt=\"%s\")"
   ]
  },
  {
   "cell_type": "markdown",
   "metadata": {
    "colab_type": "text",
    "id": "s3g8rhaX329C"
   },
   "source": [
    "#### Ordenamiento de arreglos"
   ]
  },
  {
   "cell_type": "code",
   "execution_count": null,
   "metadata": {
    "colab": {
     "base_uri": "https://localhost:8080/",
     "height": 272
    },
    "colab_type": "code",
    "executionInfo": {
     "elapsed": 489,
     "status": "ok",
     "timestamp": 1567027819309,
     "user": {
      "displayName": "Ricardo José Ramírez Blauvelt",
      "photoUrl": "https://lh3.googleusercontent.com/a-/AAuE7mC7HsFZWgDyVaAB6Wza-nOVo2GcumlXSW3wkY9oVKc=s64",
      "userId": "15259993531050943844"
     },
     "user_tz": 300
    },
    "id": "QW1nU7AT35pp",
    "outputId": "628bf8d9-5b85-49dd-c6c7-a2fed8fb20f8"
   },
   "outputs": [
    {
     "name": "stdout",
     "output_type": "stream",
     "text": [
      "Arreglo [1 4 3 6 8 9 2 7 0 4 3 3 2 3 9]\n",
      "Ordenado [0 1 2 2 3 3 3 3 4 4 6 7 8 9 9]\n",
      "Invertido [9 9 8 7 6 4 4 3 3 3 3 2 2 1 0]\n",
      "Orden por índice [ 8  0  6 12  2 10 11 13  1  9  3  7  4  5 14]\n",
      "Posición del máximo 5\n",
      "Frecuencia\n",
      " [[0 1]\n",
      " [1 1]\n",
      " [2 2]\n",
      " [3 4]\n",
      " [4 2]\n",
      " [6 1]\n",
      " [7 1]\n",
      " [8 1]\n",
      " [9 2]]\n"
     ]
    }
   ],
   "source": [
    "# Arreglo\n",
    "f = np.array([1, 4, 3, 6, 8, 9, 2, 7, 0, 4, 3, 3, 2, 3, 9])\n",
    "print(\"Arreglo\", f)\n",
    "\n",
    "# Ordenar el arreglo\n",
    "print(\"Ordenado\", np.sort(f))\n",
    "\n",
    "# Invertirlo\n",
    "print(\"Invertido\", -np.sort(-f))\n",
    "\n",
    "# Orden de los índices\n",
    "print(\"Orden por índice\", np.argsort(f))\n",
    "\n",
    "# Posición del máximo\n",
    "print(\"Posición del máximo\", np.argmax(f))\n",
    "\n",
    "# Frecuencia\n",
    "unique, counts = np.unique(f, return_counts=True)\n",
    "print(\"Frecuencia\\n\", np.asarray((unique, counts)).T)"
   ]
  },
  {
   "cell_type": "markdown",
   "metadata": {
    "colab_type": "text",
    "id": "TAqbc06myFim"
   },
   "source": [
    "## Pandas\n",
    "\n",
    "Es una librería que ofrece estructuras de datos fáciles de usar, con alto desempeño y herramientas de análisis de datos"
   ]
  },
  {
   "cell_type": "code",
   "execution_count": null,
   "metadata": {
    "colab": {},
    "colab_type": "code",
    "id": "U6OS9CorvC1A"
   },
   "outputs": [],
   "source": [
    "import pandas as pd"
   ]
  },
  {
   "cell_type": "code",
   "execution_count": null,
   "metadata": {
    "colab": {
     "base_uri": "https://localhost:8080/",
     "height": 142
    },
    "colab_type": "code",
    "executionInfo": {
     "elapsed": 476,
     "status": "ok",
     "timestamp": 1567028054751,
     "user": {
      "displayName": "Ricardo José Ramírez Blauvelt",
      "photoUrl": "https://lh3.googleusercontent.com/a-/AAuE7mC7HsFZWgDyVaAB6Wza-nOVo2GcumlXSW3wkY9oVKc=s64",
      "userId": "15259993531050943844"
     },
     "user_tz": 300
    },
    "id": "NTwv82smYMbz",
    "outputId": "4353a623-b25d-4520-9bbd-6abcf702204e"
   },
   "outputs": [
    {
     "data": {
      "text/html": [
       "<div>\n",
       "<style scoped>\n",
       "    .dataframe tbody tr th:only-of-type {\n",
       "        vertical-align: middle;\n",
       "    }\n",
       "\n",
       "    .dataframe tbody tr th {\n",
       "        vertical-align: top;\n",
       "    }\n",
       "\n",
       "    .dataframe thead th {\n",
       "        text-align: right;\n",
       "    }\n",
       "</style>\n",
       "<table border=\"1\" class=\"dataframe\">\n",
       "  <thead>\n",
       "    <tr style=\"text-align: right;\">\n",
       "      <th></th>\n",
       "      <th>col1</th>\n",
       "      <th>col2</th>\n",
       "      <th>col3</th>\n",
       "    </tr>\n",
       "  </thead>\n",
       "  <tbody>\n",
       "    <tr>\n",
       "      <th>0</th>\n",
       "      <td>1</td>\n",
       "      <td>Cuatro</td>\n",
       "      <td>7</td>\n",
       "    </tr>\n",
       "    <tr>\n",
       "      <th>1</th>\n",
       "      <td>2</td>\n",
       "      <td>5</td>\n",
       "      <td>8</td>\n",
       "    </tr>\n",
       "    <tr>\n",
       "      <th>2</th>\n",
       "      <td>3</td>\n",
       "      <td>110</td>\n",
       "      <td>9</td>\n",
       "    </tr>\n",
       "  </tbody>\n",
       "</table>\n",
       "</div>"
      ],
      "text/plain": [
       "   col1    col2  col3\n",
       "0     1  Cuatro     7\n",
       "1     2       5     8\n",
       "2     3     110     9"
      ]
     },
     "execution_count": 24,
     "metadata": {
      "tags": []
     },
     "output_type": "execute_result"
    }
   ],
   "source": [
    "# Crear un dataframe desde un diccionario\n",
    "\n",
    "# Diccionario\n",
    "datos = {\n",
    "    \"col1\": [1,2,3], \n",
    "    \"col2\": [\"Cuatro\",\"5\",\"110\"], \n",
    "    \"col3\": [7,8,9]\n",
    "}\n",
    "\n",
    "# Crea el dataframe\n",
    "df = pd.DataFrame(data=datos)\n",
    "\n",
    "# Muestra las primeras filas\n",
    "df.head()\n"
   ]
  },
  {
   "cell_type": "code",
   "execution_count": null,
   "metadata": {
    "colab": {
     "base_uri": "https://localhost:8080/",
     "height": 85
    },
    "colab_type": "code",
    "executionInfo": {
     "elapsed": 538,
     "status": "ok",
     "timestamp": 1567028071315,
     "user": {
      "displayName": "Ricardo José Ramírez Blauvelt",
      "photoUrl": "https://lh3.googleusercontent.com/a-/AAuE7mC7HsFZWgDyVaAB6Wza-nOVo2GcumlXSW3wkY9oVKc=s64",
      "userId": "15259993531050943844"
     },
     "user_tz": 300
    },
    "id": "cL0FW2utZSlG",
    "outputId": "6848bfc0-528c-4109-fe92-542cbd54e301"
   },
   "outputs": [
    {
     "data": {
      "text/plain": [
       "col1     int64\n",
       "col2    object\n",
       "col3     int64\n",
       "dtype: object"
      ]
     },
     "execution_count": 25,
     "metadata": {
      "tags": []
     },
     "output_type": "execute_result"
    }
   ],
   "source": [
    "# Muestra los tipos de datos\n",
    "df.dtypes"
   ]
  },
  {
   "cell_type": "code",
   "execution_count": null,
   "metadata": {
    "colab": {
     "base_uri": "https://localhost:8080/",
     "height": 297
    },
    "colab_type": "code",
    "executionInfo": {
     "elapsed": 489,
     "status": "ok",
     "timestamp": 1567028242662,
     "user": {
      "displayName": "Ricardo José Ramírez Blauvelt",
      "photoUrl": "https://lh3.googleusercontent.com/a-/AAuE7mC7HsFZWgDyVaAB6Wza-nOVo2GcumlXSW3wkY9oVKc=s64",
      "userId": "15259993531050943844"
     },
     "user_tz": 300
    },
    "id": "IxF8FDZnKTbx",
    "outputId": "62f2ac28-7fc8-4011-dfed-1e51a5d456ef"
   },
   "outputs": [
    {
     "data": {
      "text/html": [
       "<div>\n",
       "<style scoped>\n",
       "    .dataframe tbody tr th:only-of-type {\n",
       "        vertical-align: middle;\n",
       "    }\n",
       "\n",
       "    .dataframe tbody tr th {\n",
       "        vertical-align: top;\n",
       "    }\n",
       "\n",
       "    .dataframe thead th {\n",
       "        text-align: right;\n",
       "    }\n",
       "</style>\n",
       "<table border=\"1\" class=\"dataframe\">\n",
       "  <thead>\n",
       "    <tr style=\"text-align: right;\">\n",
       "      <th></th>\n",
       "      <th>col1</th>\n",
       "      <th>col3</th>\n",
       "    </tr>\n",
       "  </thead>\n",
       "  <tbody>\n",
       "    <tr>\n",
       "      <th>count</th>\n",
       "      <td>3.0</td>\n",
       "      <td>3.0</td>\n",
       "    </tr>\n",
       "    <tr>\n",
       "      <th>mean</th>\n",
       "      <td>2.0</td>\n",
       "      <td>8.0</td>\n",
       "    </tr>\n",
       "    <tr>\n",
       "      <th>std</th>\n",
       "      <td>1.0</td>\n",
       "      <td>1.0</td>\n",
       "    </tr>\n",
       "    <tr>\n",
       "      <th>min</th>\n",
       "      <td>1.0</td>\n",
       "      <td>7.0</td>\n",
       "    </tr>\n",
       "    <tr>\n",
       "      <th>25%</th>\n",
       "      <td>1.5</td>\n",
       "      <td>7.5</td>\n",
       "    </tr>\n",
       "    <tr>\n",
       "      <th>50%</th>\n",
       "      <td>2.0</td>\n",
       "      <td>8.0</td>\n",
       "    </tr>\n",
       "    <tr>\n",
       "      <th>75%</th>\n",
       "      <td>2.5</td>\n",
       "      <td>8.5</td>\n",
       "    </tr>\n",
       "    <tr>\n",
       "      <th>max</th>\n",
       "      <td>3.0</td>\n",
       "      <td>9.0</td>\n",
       "    </tr>\n",
       "  </tbody>\n",
       "</table>\n",
       "</div>"
      ],
      "text/plain": [
       "       col1  col3\n",
       "count   3.0   3.0\n",
       "mean    2.0   8.0\n",
       "std     1.0   1.0\n",
       "min     1.0   7.0\n",
       "25%     1.5   7.5\n",
       "50%     2.0   8.0\n",
       "75%     2.5   8.5\n",
       "max     3.0   9.0"
      ]
     },
     "execution_count": 31,
     "metadata": {
      "tags": []
     },
     "output_type": "execute_result"
    }
   ],
   "source": [
    "# Describe los datos\n",
    "df.describe()"
   ]
  },
  {
   "cell_type": "code",
   "execution_count": null,
   "metadata": {
    "colab": {
     "base_uri": "https://localhost:8080/",
     "height": 68
    },
    "colab_type": "code",
    "executionInfo": {
     "elapsed": 471,
     "status": "ok",
     "timestamp": 1567028246350,
     "user": {
      "displayName": "Ricardo José Ramírez Blauvelt",
      "photoUrl": "https://lh3.googleusercontent.com/a-/AAuE7mC7HsFZWgDyVaAB6Wza-nOVo2GcumlXSW3wkY9oVKc=s64",
      "userId": "15259993531050943844"
     },
     "user_tz": 300
    },
    "id": "6gU2c1_qZXxg",
    "outputId": "c3a66004-bc06-4cf1-cb01-d3d4cca902fa"
   },
   "outputs": [
    {
     "data": {
      "text/plain": [
       "col1    2.0\n",
       "col3    8.0\n",
       "Name: mean, dtype: float64"
      ]
     },
     "execution_count": 32,
     "metadata": {
      "tags": []
     },
     "output_type": "execute_result"
    }
   ],
   "source": [
    "# Describe los datos\n",
    "df.describe().loc[\"mean\"]"
   ]
  },
  {
   "cell_type": "code",
   "execution_count": null,
   "metadata": {
    "colab": {
     "base_uri": "https://localhost:8080/",
     "height": 142
    },
    "colab_type": "code",
    "executionInfo": {
     "elapsed": 487,
     "status": "ok",
     "timestamp": 1567028299790,
     "user": {
      "displayName": "Ricardo José Ramírez Blauvelt",
      "photoUrl": "https://lh3.googleusercontent.com/a-/AAuE7mC7HsFZWgDyVaAB6Wza-nOVo2GcumlXSW3wkY9oVKc=s64",
      "userId": "15259993531050943844"
     },
     "user_tz": 300
    },
    "id": "czDeXN69ZelI",
    "outputId": "55fa9dbc-e8c5-44b2-e57f-78d99a6e9148"
   },
   "outputs": [
    {
     "data": {
      "text/html": [
       "<div>\n",
       "<style scoped>\n",
       "    .dataframe tbody tr th:only-of-type {\n",
       "        vertical-align: middle;\n",
       "    }\n",
       "\n",
       "    .dataframe tbody tr th {\n",
       "        vertical-align: top;\n",
       "    }\n",
       "\n",
       "    .dataframe thead th {\n",
       "        text-align: right;\n",
       "    }\n",
       "</style>\n",
       "<table border=\"1\" class=\"dataframe\">\n",
       "  <thead>\n",
       "    <tr style=\"text-align: right;\">\n",
       "      <th></th>\n",
       "      <th>a</th>\n",
       "      <th>b</th>\n",
       "      <th>c</th>\n",
       "    </tr>\n",
       "  </thead>\n",
       "  <tbody>\n",
       "    <tr>\n",
       "      <th>0</th>\n",
       "      <td>1</td>\n",
       "      <td>2</td>\n",
       "      <td>3</td>\n",
       "    </tr>\n",
       "    <tr>\n",
       "      <th>1</th>\n",
       "      <td>4</td>\n",
       "      <td>5</td>\n",
       "      <td>6</td>\n",
       "    </tr>\n",
       "    <tr>\n",
       "      <th>2</th>\n",
       "      <td>7</td>\n",
       "      <td>8</td>\n",
       "      <td>9</td>\n",
       "    </tr>\n",
       "  </tbody>\n",
       "</table>\n",
       "</div>"
      ],
      "text/plain": [
       "   a  b  c\n",
       "0  1  2  3\n",
       "1  4  5  6\n",
       "2  7  8  9"
      ]
     },
     "execution_count": 33,
     "metadata": {
      "tags": []
     },
     "output_type": "execute_result"
    }
   ],
   "source": [
    "# Crear un dataframe desde listas\n",
    "\n",
    "df = pd.DataFrame([[1,2,3], [4,5,6], [7,8,9]], columns=[\"a\", \"b\", \"c\"])\n",
    "df.head()"
   ]
  },
  {
   "cell_type": "code",
   "execution_count": null,
   "metadata": {
    "colab": {
     "base_uri": "https://localhost:8080/",
     "height": 142
    },
    "colab_type": "code",
    "executionInfo": {
     "elapsed": 484,
     "status": "ok",
     "timestamp": 1567028326371,
     "user": {
      "displayName": "Ricardo José Ramírez Blauvelt",
      "photoUrl": "https://lh3.googleusercontent.com/a-/AAuE7mC7HsFZWgDyVaAB6Wza-nOVo2GcumlXSW3wkY9oVKc=s64",
      "userId": "15259993531050943844"
     },
     "user_tz": 300
    },
    "id": "7miue8jYZ_5a",
    "outputId": "3cf42fff-8e49-4767-a7bd-9d7e50233bb4"
   },
   "outputs": [
    {
     "data": {
      "text/html": [
       "<div>\n",
       "<style scoped>\n",
       "    .dataframe tbody tr th:only-of-type {\n",
       "        vertical-align: middle;\n",
       "    }\n",
       "\n",
       "    .dataframe tbody tr th {\n",
       "        vertical-align: top;\n",
       "    }\n",
       "\n",
       "    .dataframe thead th {\n",
       "        text-align: right;\n",
       "    }\n",
       "</style>\n",
       "<table border=\"1\" class=\"dataframe\">\n",
       "  <thead>\n",
       "    <tr style=\"text-align: right;\">\n",
       "      <th></th>\n",
       "      <th>0</th>\n",
       "      <th>1</th>\n",
       "      <th>2</th>\n",
       "    </tr>\n",
       "  </thead>\n",
       "  <tbody>\n",
       "    <tr>\n",
       "      <th>a</th>\n",
       "      <td>1</td>\n",
       "      <td>4</td>\n",
       "      <td>7</td>\n",
       "    </tr>\n",
       "    <tr>\n",
       "      <th>b</th>\n",
       "      <td>2</td>\n",
       "      <td>5</td>\n",
       "      <td>8</td>\n",
       "    </tr>\n",
       "    <tr>\n",
       "      <th>c</th>\n",
       "      <td>3</td>\n",
       "      <td>6</td>\n",
       "      <td>9</td>\n",
       "    </tr>\n",
       "  </tbody>\n",
       "</table>\n",
       "</div>"
      ],
      "text/plain": [
       "   0  1  2\n",
       "a  1  4  7\n",
       "b  2  5  8\n",
       "c  3  6  9"
      ]
     },
     "execution_count": 34,
     "metadata": {
      "tags": []
     },
     "output_type": "execute_result"
    }
   ],
   "source": [
    "# Transponer el dataframe\n",
    "df.T"
   ]
  },
  {
   "cell_type": "code",
   "execution_count": null,
   "metadata": {
    "colab": {
     "base_uri": "https://localhost:8080/",
     "height": 85
    },
    "colab_type": "code",
    "executionInfo": {
     "elapsed": 482,
     "status": "ok",
     "timestamp": 1567028373486,
     "user": {
      "displayName": "Ricardo José Ramírez Blauvelt",
      "photoUrl": "https://lh3.googleusercontent.com/a-/AAuE7mC7HsFZWgDyVaAB6Wza-nOVo2GcumlXSW3wkY9oVKc=s64",
      "userId": "15259993531050943844"
     },
     "user_tz": 300
    },
    "id": "c4mswh1vaAip",
    "outputId": "0ea758bf-e71d-45de-9f88-e5a13d481be9"
   },
   "outputs": [
    {
     "data": {
      "text/plain": [
       "0    1\n",
       "1    4\n",
       "2    7\n",
       "Name: a, dtype: int64"
      ]
     },
     "execution_count": 35,
     "metadata": {
      "tags": []
     },
     "output_type": "execute_result"
    }
   ],
   "source": [
    "# Obtener una columna\n",
    "df[\"a\"]"
   ]
  },
  {
   "cell_type": "code",
   "execution_count": null,
   "metadata": {
    "colab": {
     "base_uri": "https://localhost:8080/",
     "height": 142
    },
    "colab_type": "code",
    "executionInfo": {
     "elapsed": 479,
     "status": "ok",
     "timestamp": 1567028394882,
     "user": {
      "displayName": "Ricardo José Ramírez Blauvelt",
      "photoUrl": "https://lh3.googleusercontent.com/a-/AAuE7mC7HsFZWgDyVaAB6Wza-nOVo2GcumlXSW3wkY9oVKc=s64",
      "userId": "15259993531050943844"
     },
     "user_tz": 300
    },
    "id": "uY8CEw5SaIJb",
    "outputId": "97a227f3-5cc7-4af6-e02f-f44fc8cd1d8c"
   },
   "outputs": [
    {
     "data": {
      "text/html": [
       "<div>\n",
       "<style scoped>\n",
       "    .dataframe tbody tr th:only-of-type {\n",
       "        vertical-align: middle;\n",
       "    }\n",
       "\n",
       "    .dataframe tbody tr th {\n",
       "        vertical-align: top;\n",
       "    }\n",
       "\n",
       "    .dataframe thead th {\n",
       "        text-align: right;\n",
       "    }\n",
       "</style>\n",
       "<table border=\"1\" class=\"dataframe\">\n",
       "  <thead>\n",
       "    <tr style=\"text-align: right;\">\n",
       "      <th></th>\n",
       "      <th>c</th>\n",
       "      <th>a</th>\n",
       "      <th>b</th>\n",
       "    </tr>\n",
       "  </thead>\n",
       "  <tbody>\n",
       "    <tr>\n",
       "      <th>0</th>\n",
       "      <td>3</td>\n",
       "      <td>1</td>\n",
       "      <td>2</td>\n",
       "    </tr>\n",
       "    <tr>\n",
       "      <th>1</th>\n",
       "      <td>6</td>\n",
       "      <td>4</td>\n",
       "      <td>5</td>\n",
       "    </tr>\n",
       "    <tr>\n",
       "      <th>2</th>\n",
       "      <td>9</td>\n",
       "      <td>7</td>\n",
       "      <td>8</td>\n",
       "    </tr>\n",
       "  </tbody>\n",
       "</table>\n",
       "</div>"
      ],
      "text/plain": [
       "   c  a  b\n",
       "0  3  1  2\n",
       "1  6  4  5\n",
       "2  9  7  8"
      ]
     },
     "execution_count": 36,
     "metadata": {
      "tags": []
     },
     "output_type": "execute_result"
    }
   ],
   "source": [
    "# Reordenar las columnas del dataframe\n",
    "df[[\"c\", \"a\", \"b\"]]"
   ]
  },
  {
   "cell_type": "code",
   "execution_count": null,
   "metadata": {
    "colab": {
     "base_uri": "https://localhost:8080/",
     "height": 68
    },
    "colab_type": "code",
    "executionInfo": {
     "elapsed": 494,
     "status": "ok",
     "timestamp": 1567028417593,
     "user": {
      "displayName": "Ricardo José Ramírez Blauvelt",
      "photoUrl": "https://lh3.googleusercontent.com/a-/AAuE7mC7HsFZWgDyVaAB6Wza-nOVo2GcumlXSW3wkY9oVKc=s64",
      "userId": "15259993531050943844"
     },
     "user_tz": 300
    },
    "id": "3lzC5QVBahe7",
    "outputId": "e1c9b2e6-52fb-4e0c-d25c-66db53e02aad"
   },
   "outputs": [
    {
     "data": {
      "text/plain": [
       "array([[1, 2, 3],\n",
       "       [4, 5, 6],\n",
       "       [7, 8, 9]])"
      ]
     },
     "execution_count": 37,
     "metadata": {
      "tags": []
     },
     "output_type": "execute_result"
    }
   ],
   "source": [
    "# Obtener un array de numpy con los datos del dataframe\n",
    "df.values"
   ]
  },
  {
   "cell_type": "code",
   "execution_count": null,
   "metadata": {
    "colab": {
     "base_uri": "https://localhost:8080/",
     "height": 142
    },
    "colab_type": "code",
    "executionInfo": {
     "elapsed": 487,
     "status": "ok",
     "timestamp": 1567028438767,
     "user": {
      "displayName": "Ricardo José Ramírez Blauvelt",
      "photoUrl": "https://lh3.googleusercontent.com/a-/AAuE7mC7HsFZWgDyVaAB6Wza-nOVo2GcumlXSW3wkY9oVKc=s64",
      "userId": "15259993531050943844"
     },
     "user_tz": 300
    },
    "id": "lVGYA0sDaiML",
    "outputId": "123feab1-edb0-4a42-8f9b-d88a69a8e3de"
   },
   "outputs": [
    {
     "data": {
      "text/html": [
       "<div>\n",
       "<style scoped>\n",
       "    .dataframe tbody tr th:only-of-type {\n",
       "        vertical-align: middle;\n",
       "    }\n",
       "\n",
       "    .dataframe tbody tr th {\n",
       "        vertical-align: top;\n",
       "    }\n",
       "\n",
       "    .dataframe thead th {\n",
       "        text-align: right;\n",
       "    }\n",
       "</style>\n",
       "<table border=\"1\" class=\"dataframe\">\n",
       "  <thead>\n",
       "    <tr style=\"text-align: right;\">\n",
       "      <th></th>\n",
       "      <th>a</th>\n",
       "      <th>c</th>\n",
       "    </tr>\n",
       "  </thead>\n",
       "  <tbody>\n",
       "    <tr>\n",
       "      <th>0</th>\n",
       "      <td>1</td>\n",
       "      <td>3</td>\n",
       "    </tr>\n",
       "    <tr>\n",
       "      <th>1</th>\n",
       "      <td>4</td>\n",
       "      <td>6</td>\n",
       "    </tr>\n",
       "    <tr>\n",
       "      <th>2</th>\n",
       "      <td>7</td>\n",
       "      <td>9</td>\n",
       "    </tr>\n",
       "  </tbody>\n",
       "</table>\n",
       "</div>"
      ],
      "text/plain": [
       "   a  c\n",
       "0  1  3\n",
       "1  4  6\n",
       "2  7  9"
      ]
     },
     "execution_count": 38,
     "metadata": {
      "tags": []
     },
     "output_type": "execute_result"
    }
   ],
   "source": [
    "# Eliminar una columna\n",
    "df.drop([\"b\"], axis=1)"
   ]
  },
  {
   "cell_type": "code",
   "execution_count": null,
   "metadata": {
    "colab": {
     "base_uri": "https://localhost:8080/",
     "height": 80
    },
    "colab_type": "code",
    "executionInfo": {
     "elapsed": 487,
     "status": "ok",
     "timestamp": 1567028472854,
     "user": {
      "displayName": "Ricardo José Ramírez Blauvelt",
      "photoUrl": "https://lh3.googleusercontent.com/a-/AAuE7mC7HsFZWgDyVaAB6Wza-nOVo2GcumlXSW3wkY9oVKc=s64",
      "userId": "15259993531050943844"
     },
     "user_tz": 300
    },
    "id": "ehbf6y2bncsh",
    "outputId": "f2fe2cbf-0f99-4d80-ebff-6da64191ad65"
   },
   "outputs": [
    {
     "data": {
      "text/html": [
       "<div>\n",
       "<style scoped>\n",
       "    .dataframe tbody tr th:only-of-type {\n",
       "        vertical-align: middle;\n",
       "    }\n",
       "\n",
       "    .dataframe tbody tr th {\n",
       "        vertical-align: top;\n",
       "    }\n",
       "\n",
       "    .dataframe thead th {\n",
       "        text-align: right;\n",
       "    }\n",
       "</style>\n",
       "<table border=\"1\" class=\"dataframe\">\n",
       "  <thead>\n",
       "    <tr style=\"text-align: right;\">\n",
       "      <th></th>\n",
       "      <th>a</th>\n",
       "      <th>b</th>\n",
       "      <th>c</th>\n",
       "    </tr>\n",
       "  </thead>\n",
       "  <tbody>\n",
       "    <tr>\n",
       "      <th>0</th>\n",
       "      <td>1</td>\n",
       "      <td>2</td>\n",
       "      <td>3</td>\n",
       "    </tr>\n",
       "  </tbody>\n",
       "</table>\n",
       "</div>"
      ],
      "text/plain": [
       "   a  b  c\n",
       "0  1  2  3"
      ]
     },
     "execution_count": 39,
     "metadata": {
      "tags": []
     },
     "output_type": "execute_result"
    }
   ],
   "source": [
    "# Buscar datos que cumplan una condición\n",
    "df.query(\"b % a == 0\")"
   ]
  },
  {
   "cell_type": "code",
   "execution_count": null,
   "metadata": {
    "colab": {
     "base_uri": "https://localhost:8080/",
     "height": 142
    },
    "colab_type": "code",
    "executionInfo": {
     "elapsed": 17145,
     "status": "ok",
     "timestamp": 1567028537557,
     "user": {
      "displayName": "Ricardo José Ramírez Blauvelt",
      "photoUrl": "https://lh3.googleusercontent.com/a-/AAuE7mC7HsFZWgDyVaAB6Wza-nOVo2GcumlXSW3wkY9oVKc=s64",
      "userId": "15259993531050943844"
     },
     "user_tz": 300
    },
    "id": "BIbusGS7oAIa",
    "outputId": "5d9a14f6-e56a-4484-f35c-9ecce5278986"
   },
   "outputs": [
    {
     "data": {
      "text/html": [
       "<div>\n",
       "<style scoped>\n",
       "    .dataframe tbody tr th:only-of-type {\n",
       "        vertical-align: middle;\n",
       "    }\n",
       "\n",
       "    .dataframe tbody tr th {\n",
       "        vertical-align: top;\n",
       "    }\n",
       "\n",
       "    .dataframe thead th {\n",
       "        text-align: right;\n",
       "    }\n",
       "</style>\n",
       "<table border=\"1\" class=\"dataframe\">\n",
       "  <thead>\n",
       "    <tr style=\"text-align: right;\">\n",
       "      <th></th>\n",
       "      <th>a</th>\n",
       "      <th>b</th>\n",
       "      <th>c</th>\n",
       "    </tr>\n",
       "  </thead>\n",
       "  <tbody>\n",
       "    <tr>\n",
       "      <th>0</th>\n",
       "      <td>2</td>\n",
       "      <td>4</td>\n",
       "      <td>6</td>\n",
       "    </tr>\n",
       "    <tr>\n",
       "      <th>1</th>\n",
       "      <td>8</td>\n",
       "      <td>10</td>\n",
       "      <td>12</td>\n",
       "    </tr>\n",
       "    <tr>\n",
       "      <th>2</th>\n",
       "      <td>14</td>\n",
       "      <td>16</td>\n",
       "      <td>18</td>\n",
       "    </tr>\n",
       "  </tbody>\n",
       "</table>\n",
       "</div>"
      ],
      "text/plain": [
       "    a   b   c\n",
       "0   2   4   6\n",
       "1   8  10  12\n",
       "2  14  16  18"
      ]
     },
     "execution_count": 40,
     "metadata": {
      "tags": []
     },
     "output_type": "execute_result"
    }
   ],
   "source": [
    "# Aplicar una función a una columna (duplicar todos los valores)\n",
    "df.apply(lambda x: x * 2, axis=1)"
   ]
  },
  {
   "cell_type": "code",
   "execution_count": null,
   "metadata": {
    "colab": {
     "base_uri": "https://localhost:8080/",
     "height": 34
    },
    "colab_type": "code",
    "executionInfo": {
     "elapsed": 529,
     "status": "ok",
     "timestamp": 1567028549409,
     "user": {
      "displayName": "Ricardo José Ramírez Blauvelt",
      "photoUrl": "https://lh3.googleusercontent.com/a-/AAuE7mC7HsFZWgDyVaAB6Wza-nOVo2GcumlXSW3wkY9oVKc=s64",
      "userId": "15259993531050943844"
     },
     "user_tz": 300
    },
    "id": "pzzlJxSxody9",
    "outputId": "4c8f26c9-b35b-46cb-9993-4591b676b9ea"
   },
   "outputs": [
    {
     "data": {
      "text/plain": [
       "12"
      ]
     },
     "execution_count": 41,
     "metadata": {
      "tags": []
     },
     "output_type": "execute_result"
    }
   ],
   "source": [
    "# Sumar los valores de una columna\n",
    "df[\"a\"].sum()"
   ]
  },
  {
   "cell_type": "code",
   "execution_count": null,
   "metadata": {
    "colab": {
     "base_uri": "https://localhost:8080/",
     "height": 34
    },
    "colab_type": "code",
    "executionInfo": {
     "elapsed": 493,
     "status": "ok",
     "timestamp": 1567028563605,
     "user": {
      "displayName": "Ricardo José Ramírez Blauvelt",
      "photoUrl": "https://lh3.googleusercontent.com/a-/AAuE7mC7HsFZWgDyVaAB6Wza-nOVo2GcumlXSW3wkY9oVKc=s64",
      "userId": "15259993531050943844"
     },
     "user_tz": 300
    },
    "id": "HpOKAdgqpDRS",
    "outputId": "94d9499f-763b-4397-c919-9d216a8a1165"
   },
   "outputs": [
    {
     "data": {
      "text/plain": [
       "'{\"a\":{\"0\":1,\"1\":4,\"2\":7},\"b\":{\"0\":2,\"1\":5,\"2\":8},\"c\":{\"0\":3,\"1\":6,\"2\":9}}'"
      ]
     },
     "execution_count": 42,
     "metadata": {
      "tags": []
     },
     "output_type": "execute_result"
    }
   ],
   "source": [
    "# Convertir a JSON\n",
    "df.to_json()"
   ]
  },
  {
   "cell_type": "code",
   "execution_count": 3,
   "metadata": {
    "colab": {
     "base_uri": "https://localhost:8080/",
     "height": 204
    },
    "colab_type": "code",
    "executionInfo": {
     "elapsed": 431,
     "status": "ok",
     "timestamp": 1568130540188,
     "user": {
      "displayName": "Ricardo José Ramírez Blauvelt",
      "photoUrl": "https://lh3.googleusercontent.com/a-/AAuE7mC7HsFZWgDyVaAB6Wza-nOVo2GcumlXSW3wkY9oVKc=s64",
      "userId": "15259993531050943844"
     },
     "user_tz": 300
    },
    "id": "j3LrS3ZAtVh_",
    "outputId": "ccc37431-1a60-4100-ed5d-d9e1bbe03ada"
   },
   "outputs": [
    {
     "data": {
      "text/html": [
       "<div>\n",
       "<style scoped>\n",
       "    .dataframe tbody tr th:only-of-type {\n",
       "        vertical-align: middle;\n",
       "    }\n",
       "\n",
       "    .dataframe tbody tr th {\n",
       "        vertical-align: top;\n",
       "    }\n",
       "\n",
       "    .dataframe thead th {\n",
       "        text-align: right;\n",
       "    }\n",
       "</style>\n",
       "<table border=\"1\" class=\"dataframe\">\n",
       "  <thead>\n",
       "    <tr style=\"text-align: right;\">\n",
       "      <th></th>\n",
       "      <th>fechas</th>\n",
       "      <th>areas</th>\n",
       "      <th>valores</th>\n",
       "    </tr>\n",
       "  </thead>\n",
       "  <tbody>\n",
       "    <tr>\n",
       "      <th>0</th>\n",
       "      <td>2017-01-01</td>\n",
       "      <td>Área 1</td>\n",
       "      <td>85</td>\n",
       "    </tr>\n",
       "    <tr>\n",
       "      <th>1</th>\n",
       "      <td>2017-01-01</td>\n",
       "      <td>Área 2</td>\n",
       "      <td>51</td>\n",
       "    </tr>\n",
       "    <tr>\n",
       "      <th>2</th>\n",
       "      <td>2017-01-01</td>\n",
       "      <td>Área 3</td>\n",
       "      <td>90</td>\n",
       "    </tr>\n",
       "    <tr>\n",
       "      <th>3</th>\n",
       "      <td>2017-02-01</td>\n",
       "      <td>Área 1</td>\n",
       "      <td>70</td>\n",
       "    </tr>\n",
       "    <tr>\n",
       "      <th>4</th>\n",
       "      <td>2017-02-01</td>\n",
       "      <td>Área 2</td>\n",
       "      <td>85</td>\n",
       "    </tr>\n",
       "  </tbody>\n",
       "</table>\n",
       "</div>"
      ],
      "text/plain": [
       "       fechas   areas  valores\n",
       "0  2017-01-01  Área 1       85\n",
       "1  2017-01-01  Área 2       51\n",
       "2  2017-01-01  Área 3       90\n",
       "3  2017-02-01  Área 1       70\n",
       "4  2017-02-01  Área 2       85"
      ]
     },
     "execution_count": 3,
     "metadata": {
      "tags": []
     },
     "output_type": "execute_result"
    }
   ],
   "source": [
    "# Columnas\n",
    "datos = {\n",
    "    \"fechas\": [\n",
    "      \"2017-01-01\", \n",
    "      \"2017-01-01\", \n",
    "      \"2017-01-01\", \n",
    "      \"2017-02-01\", \n",
    "      \"2017-02-01\", \n",
    "      \"2017-02-01\", \n",
    "      \"2017-03-01\", \n",
    "      \"2017-03-01\", \n",
    "      \"2017-03-01\"    \n",
    "    ], \n",
    "    \"areas\": [\n",
    "      \"Área 1\",\n",
    "      \"Área 2\",\n",
    "      \"Área 3\",\n",
    "      \"Área 1\",\n",
    "      \"Área 2\",\n",
    "      \"Área 3\",\n",
    "      \"Área 1\",\n",
    "      \"Área 2\",\n",
    "      \"Área 3\"    \n",
    "    ], \n",
    "    \"valores\": [\n",
    "        85,\n",
    "        51,\n",
    "        90,\n",
    "        70,\n",
    "        85,\n",
    "        78,\n",
    "        87,\n",
    "        78,\n",
    "        35\n",
    "    ]\n",
    "}\n",
    "itt = pd.DataFrame(data = datos)\n",
    "itt.head()"
   ]
  },
  {
   "cell_type": "code",
   "execution_count": 4,
   "metadata": {
    "colab": {
     "base_uri": "https://localhost:8080/",
     "height": 173
    },
    "colab_type": "code",
    "executionInfo": {
     "elapsed": 429,
     "status": "ok",
     "timestamp": 1568131710539,
     "user": {
      "displayName": "Ricardo José Ramírez Blauvelt",
      "photoUrl": "https://lh3.googleusercontent.com/a-/AAuE7mC7HsFZWgDyVaAB6Wza-nOVo2GcumlXSW3wkY9oVKc=s64",
      "userId": "15259993531050943844"
     },
     "user_tz": 300
    },
    "id": "oZYe2Ftb7oP1",
    "outputId": "39eb07bc-8c36-473c-d8b4-f535ebba073d"
   },
   "outputs": [
    {
     "data": {
      "text/html": [
       "<div>\n",
       "<style scoped>\n",
       "    .dataframe tbody tr th:only-of-type {\n",
       "        vertical-align: middle;\n",
       "    }\n",
       "\n",
       "    .dataframe tbody tr th {\n",
       "        vertical-align: top;\n",
       "    }\n",
       "\n",
       "    .dataframe thead th {\n",
       "        text-align: right;\n",
       "    }\n",
       "</style>\n",
       "<table border=\"1\" class=\"dataframe\">\n",
       "  <thead>\n",
       "    <tr style=\"text-align: right;\">\n",
       "      <th>areas</th>\n",
       "      <th>Área 1</th>\n",
       "      <th>Área 2</th>\n",
       "      <th>Área 3</th>\n",
       "    </tr>\n",
       "    <tr>\n",
       "      <th>fechas</th>\n",
       "      <th></th>\n",
       "      <th></th>\n",
       "      <th></th>\n",
       "    </tr>\n",
       "  </thead>\n",
       "  <tbody>\n",
       "    <tr>\n",
       "      <th>2017-01-01</th>\n",
       "      <td>85</td>\n",
       "      <td>51</td>\n",
       "      <td>90</td>\n",
       "    </tr>\n",
       "    <tr>\n",
       "      <th>2017-02-01</th>\n",
       "      <td>70</td>\n",
       "      <td>85</td>\n",
       "      <td>78</td>\n",
       "    </tr>\n",
       "    <tr>\n",
       "      <th>2017-03-01</th>\n",
       "      <td>87</td>\n",
       "      <td>78</td>\n",
       "      <td>35</td>\n",
       "    </tr>\n",
       "  </tbody>\n",
       "</table>\n",
       "</div>"
      ],
      "text/plain": [
       "areas       Área 1  Área 2  Área 3\n",
       "fechas                            \n",
       "2017-01-01      85      51      90\n",
       "2017-02-01      70      85      78\n",
       "2017-03-01      87      78      35"
      ]
     },
     "execution_count": 4,
     "metadata": {
      "tags": []
     },
     "output_type": "execute_result"
    }
   ],
   "source": [
    "# \"Pivotear\" una tabla\n",
    "itt.pivot(index=\"fechas\", columns=\"areas\", values=\"valores\")"
   ]
  },
  {
   "cell_type": "code",
   "execution_count": 6,
   "metadata": {
    "colab": {
     "base_uri": "https://localhost:8080/",
     "height": 34
    },
    "colab_type": "code",
    "executionInfo": {
     "elapsed": 416,
     "status": "ok",
     "timestamp": 1568131734271,
     "user": {
      "displayName": "Ricardo José Ramírez Blauvelt",
      "photoUrl": "https://lh3.googleusercontent.com/a-/AAuE7mC7HsFZWgDyVaAB6Wza-nOVo2GcumlXSW3wkY9oVKc=s64",
      "userId": "15259993531050943844"
     },
     "user_tz": 300
    },
    "id": "u7EDygET1Kmc",
    "outputId": "620679ea-c0e5-4fca-9f2e-a8b11c7e2da9"
   },
   "outputs": [
    {
     "data": {
      "text/plain": [
       "Index(['fechas', 'areas', 'valores'], dtype='object')"
      ]
     },
     "execution_count": 6,
     "metadata": {
      "tags": []
     },
     "output_type": "execute_result"
    }
   ],
   "source": [
    "# Ver las columnas de un dataframe\n",
    "itt.columns"
   ]
  },
  {
   "cell_type": "code",
   "execution_count": 7,
   "metadata": {
    "colab": {
     "base_uri": "https://localhost:8080/",
     "height": 34
    },
    "colab_type": "code",
    "executionInfo": {
     "elapsed": 430,
     "status": "ok",
     "timestamp": 1568131740529,
     "user": {
      "displayName": "Ricardo José Ramírez Blauvelt",
      "photoUrl": "https://lh3.googleusercontent.com/a-/AAuE7mC7HsFZWgDyVaAB6Wza-nOVo2GcumlXSW3wkY9oVKc=s64",
      "userId": "15259993531050943844"
     },
     "user_tz": 300
    },
    "id": "g6xtCltX1dqt",
    "outputId": "f074ba75-22d2-4d51-e1fd-589a88792c04"
   },
   "outputs": [
    {
     "data": {
      "text/plain": [
       "(9, 3)"
      ]
     },
     "execution_count": 7,
     "metadata": {
      "tags": []
     },
     "output_type": "execute_result"
    }
   ],
   "source": [
    "# Ver las dimensiones de un dataset\n",
    "itt.shape"
   ]
  },
  {
   "cell_type": "code",
   "execution_count": null,
   "metadata": {
    "colab": {
     "base_uri": "https://localhost:8080/",
     "height": 142
    },
    "colab_type": "code",
    "executionInfo": {
     "elapsed": 542,
     "status": "ok",
     "timestamp": 1567028715208,
     "user": {
      "displayName": "Ricardo José Ramírez Blauvelt",
      "photoUrl": "https://lh3.googleusercontent.com/a-/AAuE7mC7HsFZWgDyVaAB6Wza-nOVo2GcumlXSW3wkY9oVKc=s64",
      "userId": "15259993531050943844"
     },
     "user_tz": 300
    },
    "id": "CoX86dU73B9F",
    "outputId": "58ddc580-7e4b-42f0-982e-0c9851039cd5"
   },
   "outputs": [
    {
     "data": {
      "text/html": [
       "<div>\n",
       "<style scoped>\n",
       "    .dataframe tbody tr th:only-of-type {\n",
       "        vertical-align: middle;\n",
       "    }\n",
       "\n",
       "    .dataframe tbody tr th {\n",
       "        vertical-align: top;\n",
       "    }\n",
       "\n",
       "    .dataframe thead th {\n",
       "        text-align: right;\n",
       "    }\n",
       "</style>\n",
       "<table border=\"1\" class=\"dataframe\">\n",
       "  <thead>\n",
       "    <tr style=\"text-align: right;\">\n",
       "      <th></th>\n",
       "      <th>a</th>\n",
       "      <th>b</th>\n",
       "      <th>c</th>\n",
       "      <th>d</th>\n",
       "    </tr>\n",
       "  </thead>\n",
       "  <tbody>\n",
       "    <tr>\n",
       "      <th>0</th>\n",
       "      <td>1</td>\n",
       "      <td>2</td>\n",
       "      <td>3</td>\n",
       "      <td>2</td>\n",
       "    </tr>\n",
       "    <tr>\n",
       "      <th>1</th>\n",
       "      <td>4</td>\n",
       "      <td>5</td>\n",
       "      <td>6</td>\n",
       "      <td>20</td>\n",
       "    </tr>\n",
       "    <tr>\n",
       "      <th>2</th>\n",
       "      <td>7</td>\n",
       "      <td>8</td>\n",
       "      <td>9</td>\n",
       "      <td>56</td>\n",
       "    </tr>\n",
       "  </tbody>\n",
       "</table>\n",
       "</div>"
      ],
      "text/plain": [
       "   a  b  c   d\n",
       "0  1  2  3   2\n",
       "1  4  5  6  20\n",
       "2  7  8  9  56"
      ]
     },
     "execution_count": 47,
     "metadata": {
      "tags": []
     },
     "output_type": "execute_result"
    }
   ],
   "source": [
    "# Crear una columna nueva a partir de otras\n",
    "df[\"d\"] = df[\"a\"] * df[\"b\"]\n",
    "df.head()"
   ]
  },
  {
   "cell_type": "code",
   "execution_count": null,
   "metadata": {
    "colab": {
     "base_uri": "https://localhost:8080/",
     "height": 85
    },
    "colab_type": "code",
    "executionInfo": {
     "elapsed": 1391,
     "status": "ok",
     "timestamp": 1567028783865,
     "user": {
      "displayName": "Ricardo José Ramírez Blauvelt",
      "photoUrl": "https://lh3.googleusercontent.com/a-/AAuE7mC7HsFZWgDyVaAB6Wza-nOVo2GcumlXSW3wkY9oVKc=s64",
      "userId": "15259993531050943844"
     },
     "user_tz": 300
    },
    "id": "8aK_9SFQ3NIc",
    "outputId": "056f54eb-770d-426c-fb9f-3786cbf2cfeb"
   },
   "outputs": [
    {
     "data": {
      "text/plain": [
       "0    False\n",
       "1    False\n",
       "2     True\n",
       "Name: d, dtype: bool"
      ]
     },
     "execution_count": 48,
     "metadata": {
      "tags": []
     },
     "output_type": "execute_result"
    }
   ],
   "source": [
    "# Análisis de datos directo\n",
    "df[\"d\"] > 20"
   ]
  },
  {
   "cell_type": "code",
   "execution_count": null,
   "metadata": {
    "colab": {
     "base_uri": "https://localhost:8080/",
     "height": 111
    },
    "colab_type": "code",
    "executionInfo": {
     "elapsed": 1318,
     "status": "ok",
     "timestamp": 1567028801621,
     "user": {
      "displayName": "Ricardo José Ramírez Blauvelt",
      "photoUrl": "https://lh3.googleusercontent.com/a-/AAuE7mC7HsFZWgDyVaAB6Wza-nOVo2GcumlXSW3wkY9oVKc=s64",
      "userId": "15259993531050943844"
     },
     "user_tz": 300
    },
    "id": "8NAYVhZW3dJc",
    "outputId": "c76b815b-9760-4178-fa53-eb64a45bc6c7"
   },
   "outputs": [
    {
     "data": {
      "text/html": [
       "<div>\n",
       "<style scoped>\n",
       "    .dataframe tbody tr th:only-of-type {\n",
       "        vertical-align: middle;\n",
       "    }\n",
       "\n",
       "    .dataframe tbody tr th {\n",
       "        vertical-align: top;\n",
       "    }\n",
       "\n",
       "    .dataframe thead th {\n",
       "        text-align: right;\n",
       "    }\n",
       "</style>\n",
       "<table border=\"1\" class=\"dataframe\">\n",
       "  <thead>\n",
       "    <tr style=\"text-align: right;\">\n",
       "      <th></th>\n",
       "      <th>a</th>\n",
       "      <th>b</th>\n",
       "      <th>c</th>\n",
       "      <th>d</th>\n",
       "    </tr>\n",
       "  </thead>\n",
       "  <tbody>\n",
       "    <tr>\n",
       "      <th>1</th>\n",
       "      <td>4</td>\n",
       "      <td>5</td>\n",
       "      <td>6</td>\n",
       "      <td>20</td>\n",
       "    </tr>\n",
       "    <tr>\n",
       "      <th>2</th>\n",
       "      <td>7</td>\n",
       "      <td>8</td>\n",
       "      <td>9</td>\n",
       "      <td>56</td>\n",
       "    </tr>\n",
       "  </tbody>\n",
       "</table>\n",
       "</div>"
      ],
      "text/plain": [
       "   a  b  c   d\n",
       "1  4  5  6  20\n",
       "2  7  8  9  56"
      ]
     },
     "execution_count": 49,
     "metadata": {
      "tags": []
     },
     "output_type": "execute_result"
    }
   ],
   "source": [
    "# Filtrar datos directamente\n",
    "df[df[\"d\"] >= 20]"
   ]
  },
  {
   "cell_type": "markdown",
   "metadata": {
    "colab_type": "text",
    "id": "q3FwjwHgRFw9"
   },
   "source": [
    "### Vamos a calcular el Indicador de TimeTracker\n",
    "\n",
    "1. Leer el archivo CSV en un DataFrame\n",
    "1. Calcular el puntaje de cada usuario de cada semana, según la condición:\n",
    "  1. Si la diferencia en menor o igual a 4, son 5 puntos\n",
    "  1. Si la diferencia es mayor a 4 y menos o igual a 6, son 4.5 puntos\n",
    "  1. Si la diferencia es igual a 7, son 4 puntos\n",
    "  1. Si la diferencia es igual a 7.5, son 2 puntos\n",
    "  1. Si la diferencia es igual a 8, es 1 punto\n",
    "  1. Si la diferencia es mayor a 8, son 0 puntos\n",
    "1. Calcular el puntaje total de cada usuario\n",
    "1. Leer un archivo JSON a un objeto (lista de diccionarios)\n",
    "1. Procesar el diccionario para poderlo _mapear_\n",
    "1. Cargar las semanas de cada usuario en el dataframe\n",
    "1. Calcular la meta de cada usuario, teniendo en cuenta que son las semanas que lleva en el año, multiplicadas por 4\n",
    "1. Calcular el indicador de TimeTracker como el cumplimiento de la meta, según los puntos acumulados en el año\n",
    "1. Entregar los siguientes 4 grupos:\n",
    "  1. $\\ge$ 95%\n",
    "  1. 85% $\\le$ X $\\lt$ 95%\n",
    "  1. 75% $\\le$ X $\\lt$ 85%\n",
    "  1. $\\lt$ 75%"
   ]
  },
  {
   "cell_type": "code",
   "execution_count": null,
   "metadata": {
    "colab": {},
    "colab_type": "code",
    "id": "IERX_JDjfsv1"
   },
   "outputs": [],
   "source": [
    "import pandas as pd"
   ]
  },
  {
   "cell_type": "code",
   "execution_count": 28,
   "metadata": {
    "colab": {
     "base_uri": "https://localhost:8080/",
     "height": 122
    },
    "colab_type": "code",
    "executionInfo": {
     "elapsed": 60392,
     "status": "ok",
     "timestamp": 1568157810943,
     "user": {
      "displayName": "Ricardo José Ramírez Blauvelt",
      "photoUrl": "https://lh3.googleusercontent.com/a-/AAuE7mC7HsFZWgDyVaAB6Wza-nOVo2GcumlXSW3wkY9oVKc=s64",
      "userId": "15259993531050943844"
     },
     "user_tz": 300
    },
    "id": "_XNTV23y5s0o",
    "outputId": "a4e9428d-adb8-4932-f4ba-44dab2f533ab"
   },
   "outputs": [
    {
     "name": "stdout",
     "output_type": "stream",
     "text": [
      "Go to this URL in a browser: https://accounts.google.com/o/oauth2/auth?client_id=947318989803-6bn6qk8qdgf4n4g3pfee6491hc0brc4i.apps.googleusercontent.com&redirect_uri=urn%3Aietf%3Awg%3Aoauth%3A2.0%3Aoob&scope=email%20https%3A%2F%2Fwww.googleapis.com%2Fauth%2Fdocs.test%20https%3A%2F%2Fwww.googleapis.com%2Fauth%2Fdrive%20https%3A%2F%2Fwww.googleapis.com%2Fauth%2Fdrive.photos.readonly%20https%3A%2F%2Fwww.googleapis.com%2Fauth%2Fpeopleapi.readonly&response_type=code\n",
      "\n",
      "Enter your authorization code:\n",
      "··········\n",
      "Mounted at /content/drive\n"
     ]
    }
   ],
   "source": [
    "# Para cargar unos CSV desde Drive\n",
    "from google.colab import drive\n",
    "drive.mount('/content/drive')"
   ]
  },
  {
   "cell_type": "code",
   "execution_count": null,
   "metadata": {
    "colab": {},
    "colab_type": "code",
    "id": "PMU-aqepDLeC"
   },
   "outputs": [],
   "source": [
    "# Rutas a los archivos\n",
    "ruta_dif = \"/content/drive/My Drive/Colab Notebooks/datos-diferencias.csv\"\n",
    "ruta_sem = \"/content/drive/My Drive/Colab Notebooks/datos-semanas.json\""
   ]
  },
  {
   "cell_type": "code",
   "execution_count": 31,
   "metadata": {
    "colab": {
     "base_uri": "https://localhost:8080/",
     "height": 34
    },
    "colab_type": "code",
    "executionInfo": {
     "elapsed": 475,
     "status": "ok",
     "timestamp": 1568157847174,
     "user": {
      "displayName": "Ricardo José Ramírez Blauvelt",
      "photoUrl": "https://lh3.googleusercontent.com/a-/AAuE7mC7HsFZWgDyVaAB6Wza-nOVo2GcumlXSW3wkY9oVKc=s64",
      "userId": "15259993531050943844"
     },
     "user_tz": 300
    },
    "id": "E0vaIZVPescG",
    "outputId": "f2d33d2e-8694-4fcb-8d5d-4427821b84c0"
   },
   "outputs": [
    {
     "data": {
      "text/plain": [
       "'datos-semanas.json'"
      ]
     },
     "execution_count": 31,
     "metadata": {
      "tags": []
     },
     "output_type": "execute_result"
    }
   ],
   "source": [
    "from shutil import copyfile\n",
    "copyfile(ruta_dif, \"datos-diferencias.csv\")\n",
    "copyfile(ruta_sem, \"datos-semanas.json\")\n"
   ]
  },
  {
   "cell_type": "code",
   "execution_count": 34,
   "metadata": {
    "colab": {
     "base_uri": "https://localhost:8080/",
     "height": 204
    },
    "colab_type": "code",
    "executionInfo": {
     "elapsed": 452,
     "status": "ok",
     "timestamp": 1568157922084,
     "user": {
      "displayName": "Ricardo José Ramírez Blauvelt",
      "photoUrl": "https://lh3.googleusercontent.com/a-/AAuE7mC7HsFZWgDyVaAB6Wza-nOVo2GcumlXSW3wkY9oVKc=s64",
      "userId": "15259993531050943844"
     },
     "user_tz": 300
    },
    "id": "acOALFfOsWFu",
    "outputId": "94e6cfbd-c837-4cb5-fd6a-2610805a3e5a"
   },
   "outputs": [
    {
     "data": {
      "text/html": [
       "<div>\n",
       "<style scoped>\n",
       "    .dataframe tbody tr th:only-of-type {\n",
       "        vertical-align: middle;\n",
       "    }\n",
       "\n",
       "    .dataframe tbody tr th {\n",
       "        vertical-align: top;\n",
       "    }\n",
       "\n",
       "    .dataframe thead th {\n",
       "        text-align: right;\n",
       "    }\n",
       "</style>\n",
       "<table border=\"1\" class=\"dataframe\">\n",
       "  <thead>\n",
       "    <tr style=\"text-align: right;\">\n",
       "      <th></th>\n",
       "      <th>usuario</th>\n",
       "      <th>semana</th>\n",
       "      <th>diferencia</th>\n",
       "    </tr>\n",
       "  </thead>\n",
       "  <tbody>\n",
       "    <tr>\n",
       "      <th>0</th>\n",
       "      <td>alvaro.quiceno</td>\n",
       "      <td>2019-01-07</td>\n",
       "      <td>7.0</td>\n",
       "    </tr>\n",
       "    <tr>\n",
       "      <th>1</th>\n",
       "      <td>andrea.jimenez</td>\n",
       "      <td>2019-01-07</td>\n",
       "      <td>4.0</td>\n",
       "    </tr>\n",
       "    <tr>\n",
       "      <th>2</th>\n",
       "      <td>andres.valencia</td>\n",
       "      <td>2019-01-07</td>\n",
       "      <td>7.0</td>\n",
       "    </tr>\n",
       "    <tr>\n",
       "      <th>3</th>\n",
       "      <td>carlos.barrera</td>\n",
       "      <td>2019-01-07</td>\n",
       "      <td>4.0</td>\n",
       "    </tr>\n",
       "    <tr>\n",
       "      <th>4</th>\n",
       "      <td>carlos.lopez</td>\n",
       "      <td>2019-01-07</td>\n",
       "      <td>4.0</td>\n",
       "    </tr>\n",
       "  </tbody>\n",
       "</table>\n",
       "</div>"
      ],
      "text/plain": [
       "           usuario     semana  diferencia\n",
       "0   alvaro.quiceno 2019-01-07         7.0\n",
       "1   andrea.jimenez 2019-01-07         4.0\n",
       "2  andres.valencia 2019-01-07         7.0\n",
       "3   carlos.barrera 2019-01-07         4.0\n",
       "4     carlos.lopez 2019-01-07         4.0"
      ]
     },
     "execution_count": 34,
     "metadata": {
      "tags": []
     },
     "output_type": "execute_result"
    }
   ],
   "source": [
    "# 1. Cargar las diferencias desde un CSV\n",
    "diferencias = pd.read_csv(\"datos-diferencias.csv\", sep=';', header=0, parse_dates=[\"semana\"], infer_datetime_format=True, dtype={\"diferencia\": \"float64\"})\n",
    "diferencias.head()"
   ]
  },
  {
   "cell_type": "code",
   "execution_count": 35,
   "metadata": {
    "colab": {
     "base_uri": "https://localhost:8080/",
     "height": 85
    },
    "colab_type": "code",
    "executionInfo": {
     "elapsed": 442,
     "status": "ok",
     "timestamp": 1568157949258,
     "user": {
      "displayName": "Ricardo José Ramírez Blauvelt",
      "photoUrl": "https://lh3.googleusercontent.com/a-/AAuE7mC7HsFZWgDyVaAB6Wza-nOVo2GcumlXSW3wkY9oVKc=s64",
      "userId": "15259993531050943844"
     },
     "user_tz": 300
    },
    "id": "bRk76kQkARW1",
    "outputId": "30e3e075-008e-4fa2-d9a2-e55f49f9806e"
   },
   "outputs": [
    {
     "data": {
      "text/plain": [
       "usuario               object\n",
       "semana        datetime64[ns]\n",
       "diferencia           float64\n",
       "dtype: object"
      ]
     },
     "execution_count": 35,
     "metadata": {
      "tags": []
     },
     "output_type": "execute_result"
    }
   ],
   "source": [
    "diferencias.dtypes"
   ]
  },
  {
   "cell_type": "code",
   "execution_count": null,
   "metadata": {
    "colab": {},
    "colab_type": "code",
    "id": "WnIEbQh-_Iqc"
   },
   "outputs": [],
   "source": [
    "# 2. Calcular el puntaje de cada usuario de cada semana, según la condición\n",
    "\n",
    "def calcular_puntaje(diferencia):\n",
    "    if diferencia <= 4:\n",
    "        return 5\n",
    "    elif diferencia > 4 and diferencia <= 6:\n",
    "        return 4.5\n",
    "    elif diferencia == 7:\n",
    "        return 4\n",
    "    elif diferencia == 7.5:\n",
    "        return 2\n",
    "    elif diferencia == 8:\n",
    "        return 1\n",
    "    else:\n",
    "        return 0\n",
    "  "
   ]
  },
  {
   "cell_type": "code",
   "execution_count": 37,
   "metadata": {
    "colab": {
     "base_uri": "https://localhost:8080/",
     "height": 204
    },
    "colab_type": "code",
    "executionInfo": {
     "elapsed": 421,
     "status": "ok",
     "timestamp": 1568157951510,
     "user": {
      "displayName": "Ricardo José Ramírez Blauvelt",
      "photoUrl": "https://lh3.googleusercontent.com/a-/AAuE7mC7HsFZWgDyVaAB6Wza-nOVo2GcumlXSW3wkY9oVKc=s64",
      "userId": "15259993531050943844"
     },
     "user_tz": 300
    },
    "id": "ZqRBhJRX_ulh",
    "outputId": "b693af53-d7a0-4b1c-f6a7-aef3ec7892ab"
   },
   "outputs": [
    {
     "data": {
      "text/html": [
       "<div>\n",
       "<style scoped>\n",
       "    .dataframe tbody tr th:only-of-type {\n",
       "        vertical-align: middle;\n",
       "    }\n",
       "\n",
       "    .dataframe tbody tr th {\n",
       "        vertical-align: top;\n",
       "    }\n",
       "\n",
       "    .dataframe thead th {\n",
       "        text-align: right;\n",
       "    }\n",
       "</style>\n",
       "<table border=\"1\" class=\"dataframe\">\n",
       "  <thead>\n",
       "    <tr style=\"text-align: right;\">\n",
       "      <th></th>\n",
       "      <th>usuario</th>\n",
       "      <th>semana</th>\n",
       "      <th>diferencia</th>\n",
       "      <th>puntos</th>\n",
       "    </tr>\n",
       "  </thead>\n",
       "  <tbody>\n",
       "    <tr>\n",
       "      <th>1051</th>\n",
       "      <td>sebastian.alarcon</td>\n",
       "      <td>2019-08-05</td>\n",
       "      <td>7.5</td>\n",
       "      <td>2.0</td>\n",
       "    </tr>\n",
       "    <tr>\n",
       "      <th>1052</th>\n",
       "      <td>sebastian.ortiz</td>\n",
       "      <td>2019-08-05</td>\n",
       "      <td>7.0</td>\n",
       "      <td>4.0</td>\n",
       "    </tr>\n",
       "    <tr>\n",
       "      <th>1053</th>\n",
       "      <td>tulio.villa</td>\n",
       "      <td>2019-08-05</td>\n",
       "      <td>6.0</td>\n",
       "      <td>4.5</td>\n",
       "    </tr>\n",
       "    <tr>\n",
       "      <th>1054</th>\n",
       "      <td>victor.pedraza</td>\n",
       "      <td>2019-08-05</td>\n",
       "      <td>4.0</td>\n",
       "      <td>5.0</td>\n",
       "    </tr>\n",
       "    <tr>\n",
       "      <th>1055</th>\n",
       "      <td>yannick.munoz</td>\n",
       "      <td>2019-08-05</td>\n",
       "      <td>4.0</td>\n",
       "      <td>5.0</td>\n",
       "    </tr>\n",
       "  </tbody>\n",
       "</table>\n",
       "</div>"
      ],
      "text/plain": [
       "                usuario     semana  diferencia  puntos\n",
       "1051  sebastian.alarcon 2019-08-05         7.5     2.0\n",
       "1052    sebastian.ortiz 2019-08-05         7.0     4.0\n",
       "1053        tulio.villa 2019-08-05         6.0     4.5\n",
       "1054     victor.pedraza 2019-08-05         4.0     5.0\n",
       "1055      yannick.munoz 2019-08-05         4.0     5.0"
      ]
     },
     "execution_count": 37,
     "metadata": {
      "tags": []
     },
     "output_type": "execute_result"
    }
   ],
   "source": [
    "# 2. Calcular el puntaje de cada usuario de cada semana, según la condición\n",
    "\n",
    "diferencias[\"puntos\"] = diferencias.apply(lambda row: calcular_puntaje(row[\"diferencia\"]), axis=1)\n",
    "diferencias.tail()"
   ]
  },
  {
   "cell_type": "code",
   "execution_count": 38,
   "metadata": {
    "colab": {
     "base_uri": "https://localhost:8080/",
     "height": 204
    },
    "colab_type": "code",
    "executionInfo": {
     "elapsed": 624,
     "status": "ok",
     "timestamp": 1568157952815,
     "user": {
      "displayName": "Ricardo José Ramírez Blauvelt",
      "photoUrl": "https://lh3.googleusercontent.com/a-/AAuE7mC7HsFZWgDyVaAB6Wza-nOVo2GcumlXSW3wkY9oVKc=s64",
      "userId": "15259993531050943844"
     },
     "user_tz": 300
    },
    "id": "Z2MlaPxSFSnR",
    "outputId": "b8c9cba2-6c37-4326-b88d-ee97dc2bef9e"
   },
   "outputs": [
    {
     "data": {
      "text/html": [
       "<div>\n",
       "<style scoped>\n",
       "    .dataframe tbody tr th:only-of-type {\n",
       "        vertical-align: middle;\n",
       "    }\n",
       "\n",
       "    .dataframe tbody tr th {\n",
       "        vertical-align: top;\n",
       "    }\n",
       "\n",
       "    .dataframe thead th {\n",
       "        text-align: right;\n",
       "    }\n",
       "</style>\n",
       "<table border=\"1\" class=\"dataframe\">\n",
       "  <thead>\n",
       "    <tr style=\"text-align: right;\">\n",
       "      <th></th>\n",
       "      <th>usuario</th>\n",
       "      <th>puntos</th>\n",
       "    </tr>\n",
       "  </thead>\n",
       "  <tbody>\n",
       "    <tr>\n",
       "      <th>0</th>\n",
       "      <td>alvaro.quiceno</td>\n",
       "      <td>121.0</td>\n",
       "    </tr>\n",
       "    <tr>\n",
       "      <th>1</th>\n",
       "      <td>andrea.jimenez</td>\n",
       "      <td>108.0</td>\n",
       "    </tr>\n",
       "    <tr>\n",
       "      <th>2</th>\n",
       "      <td>andres.valencia</td>\n",
       "      <td>89.0</td>\n",
       "    </tr>\n",
       "    <tr>\n",
       "      <th>3</th>\n",
       "      <td>carlos.barrera</td>\n",
       "      <td>90.0</td>\n",
       "    </tr>\n",
       "    <tr>\n",
       "      <th>4</th>\n",
       "      <td>carlos.lopez</td>\n",
       "      <td>140.0</td>\n",
       "    </tr>\n",
       "  </tbody>\n",
       "</table>\n",
       "</div>"
      ],
      "text/plain": [
       "           usuario  puntos\n",
       "0   alvaro.quiceno   121.0\n",
       "1   andrea.jimenez   108.0\n",
       "2  andres.valencia    89.0\n",
       "3   carlos.barrera    90.0\n",
       "4     carlos.lopez   140.0"
      ]
     },
     "execution_count": 38,
     "metadata": {
      "tags": []
     },
     "output_type": "execute_result"
    }
   ],
   "source": [
    "# 3. Calcular el puntaje total de cada usuario\n",
    "\n",
    "totales = diferencias.groupby([\"usuario\"])[\"puntos\"].sum().reset_index()\n",
    "totales.head()"
   ]
  },
  {
   "cell_type": "code",
   "execution_count": 39,
   "metadata": {
    "colab": {
     "base_uri": "https://localhost:8080/",
     "height": 102
    },
    "colab_type": "code",
    "executionInfo": {
     "elapsed": 439,
     "status": "ok",
     "timestamp": 1568157953966,
     "user": {
      "displayName": "Ricardo José Ramírez Blauvelt",
      "photoUrl": "https://lh3.googleusercontent.com/a-/AAuE7mC7HsFZWgDyVaAB6Wza-nOVo2GcumlXSW3wkY9oVKc=s64",
      "userId": "15259993531050943844"
     },
     "user_tz": 300
    },
    "id": "wb7sS1k_DdPI",
    "outputId": "6cbbaf74-16f1-42eb-e080-b0114316e8aa"
   },
   "outputs": [
    {
     "data": {
      "text/plain": [
       "[{'semanas': 31, 'usuario': 'alvaro.quiceno'},\n",
       " {'semanas': 31, 'usuario': 'andrea.jimenez'},\n",
       " {'semanas': 31, 'usuario': 'andres.valencia'},\n",
       " {'semanas': 31, 'usuario': 'carlos.barrera'},\n",
       " {'semanas': 31, 'usuario': 'carlos.lopez'}]"
      ]
     },
     "execution_count": 39,
     "metadata": {
      "tags": []
     },
     "output_type": "execute_result"
    }
   ],
   "source": [
    "# 4. Leer un archivo JSON a un objeto (lista de diccionarios)\n",
    "\n",
    "import json\n",
    "with open(\"datos-semanas.json\", encoding='utf-8') as f:\n",
    "    semanas = json.load(f)\n",
    "\n",
    "semanas[:5]"
   ]
  },
  {
   "cell_type": "code",
   "execution_count": null,
   "metadata": {
    "colab": {},
    "colab_type": "code",
    "id": "GCIUqj4PREIa"
   },
   "outputs": [],
   "source": [
    "# 5. Procesar el diccionario para poderlo mapear\n",
    "\n",
    "usuarios = {}\n",
    "for item in semanas:\n",
    "  usuarios.update({item[\"usuario\"]: item[\"semanas\"]})\n"
   ]
  },
  {
   "cell_type": "code",
   "execution_count": 42,
   "metadata": {
    "colab": {
     "base_uri": "https://localhost:8080/",
     "height": 204
    },
    "colab_type": "code",
    "executionInfo": {
     "elapsed": 481,
     "status": "ok",
     "timestamp": 1568157979977,
     "user": {
      "displayName": "Ricardo José Ramírez Blauvelt",
      "photoUrl": "https://lh3.googleusercontent.com/a-/AAuE7mC7HsFZWgDyVaAB6Wza-nOVo2GcumlXSW3wkY9oVKc=s64",
      "userId": "15259993531050943844"
     },
     "user_tz": 300
    },
    "id": "KHI-eoTUH2nB",
    "outputId": "3c70ffd5-1a99-4fab-b33d-845f64ca8d66"
   },
   "outputs": [
    {
     "data": {
      "text/html": [
       "<div>\n",
       "<style scoped>\n",
       "    .dataframe tbody tr th:only-of-type {\n",
       "        vertical-align: middle;\n",
       "    }\n",
       "\n",
       "    .dataframe tbody tr th {\n",
       "        vertical-align: top;\n",
       "    }\n",
       "\n",
       "    .dataframe thead th {\n",
       "        text-align: right;\n",
       "    }\n",
       "</style>\n",
       "<table border=\"1\" class=\"dataframe\">\n",
       "  <thead>\n",
       "    <tr style=\"text-align: right;\">\n",
       "      <th></th>\n",
       "      <th>usuario</th>\n",
       "      <th>puntos</th>\n",
       "      <th>semanas</th>\n",
       "    </tr>\n",
       "  </thead>\n",
       "  <tbody>\n",
       "    <tr>\n",
       "      <th>0</th>\n",
       "      <td>alvaro.quiceno</td>\n",
       "      <td>121.0</td>\n",
       "      <td>31</td>\n",
       "    </tr>\n",
       "    <tr>\n",
       "      <th>1</th>\n",
       "      <td>andrea.jimenez</td>\n",
       "      <td>108.0</td>\n",
       "      <td>31</td>\n",
       "    </tr>\n",
       "    <tr>\n",
       "      <th>2</th>\n",
       "      <td>andres.valencia</td>\n",
       "      <td>89.0</td>\n",
       "      <td>31</td>\n",
       "    </tr>\n",
       "    <tr>\n",
       "      <th>3</th>\n",
       "      <td>carlos.barrera</td>\n",
       "      <td>90.0</td>\n",
       "      <td>31</td>\n",
       "    </tr>\n",
       "    <tr>\n",
       "      <th>4</th>\n",
       "      <td>carlos.lopez</td>\n",
       "      <td>140.0</td>\n",
       "      <td>31</td>\n",
       "    </tr>\n",
       "  </tbody>\n",
       "</table>\n",
       "</div>"
      ],
      "text/plain": [
       "           usuario  puntos  semanas\n",
       "0   alvaro.quiceno   121.0       31\n",
       "1   andrea.jimenez   108.0       31\n",
       "2  andres.valencia    89.0       31\n",
       "3   carlos.barrera    90.0       31\n",
       "4     carlos.lopez   140.0       31"
      ]
     },
     "execution_count": 42,
     "metadata": {
      "tags": []
     },
     "output_type": "execute_result"
    }
   ],
   "source": [
    "# 6. Cargar las semanas de cada usuario en el dataframe\n",
    "\n",
    "totales[\"semanas\"] = totales[\"usuario\"].map(usuarios)\n",
    "totales.head()"
   ]
  },
  {
   "cell_type": "code",
   "execution_count": 43,
   "metadata": {
    "colab": {
     "base_uri": "https://localhost:8080/",
     "height": 204
    },
    "colab_type": "code",
    "executionInfo": {
     "elapsed": 476,
     "status": "ok",
     "timestamp": 1568157981188,
     "user": {
      "displayName": "Ricardo José Ramírez Blauvelt",
      "photoUrl": "https://lh3.googleusercontent.com/a-/AAuE7mC7HsFZWgDyVaAB6Wza-nOVo2GcumlXSW3wkY9oVKc=s64",
      "userId": "15259993531050943844"
     },
     "user_tz": 300
    },
    "id": "UNNmHpBDJB-t",
    "outputId": "fe357aef-61d5-40f1-c1cc-07880eaa290a"
   },
   "outputs": [
    {
     "data": {
      "text/html": [
       "<div>\n",
       "<style scoped>\n",
       "    .dataframe tbody tr th:only-of-type {\n",
       "        vertical-align: middle;\n",
       "    }\n",
       "\n",
       "    .dataframe tbody tr th {\n",
       "        vertical-align: top;\n",
       "    }\n",
       "\n",
       "    .dataframe thead th {\n",
       "        text-align: right;\n",
       "    }\n",
       "</style>\n",
       "<table border=\"1\" class=\"dataframe\">\n",
       "  <thead>\n",
       "    <tr style=\"text-align: right;\">\n",
       "      <th></th>\n",
       "      <th>usuario</th>\n",
       "      <th>puntos</th>\n",
       "      <th>semanas</th>\n",
       "      <th>meta</th>\n",
       "    </tr>\n",
       "  </thead>\n",
       "  <tbody>\n",
       "    <tr>\n",
       "      <th>0</th>\n",
       "      <td>alvaro.quiceno</td>\n",
       "      <td>121.0</td>\n",
       "      <td>31</td>\n",
       "      <td>124</td>\n",
       "    </tr>\n",
       "    <tr>\n",
       "      <th>1</th>\n",
       "      <td>andrea.jimenez</td>\n",
       "      <td>108.0</td>\n",
       "      <td>31</td>\n",
       "      <td>124</td>\n",
       "    </tr>\n",
       "    <tr>\n",
       "      <th>2</th>\n",
       "      <td>andres.valencia</td>\n",
       "      <td>89.0</td>\n",
       "      <td>31</td>\n",
       "      <td>124</td>\n",
       "    </tr>\n",
       "    <tr>\n",
       "      <th>3</th>\n",
       "      <td>carlos.barrera</td>\n",
       "      <td>90.0</td>\n",
       "      <td>31</td>\n",
       "      <td>124</td>\n",
       "    </tr>\n",
       "    <tr>\n",
       "      <th>4</th>\n",
       "      <td>carlos.lopez</td>\n",
       "      <td>140.0</td>\n",
       "      <td>31</td>\n",
       "      <td>124</td>\n",
       "    </tr>\n",
       "  </tbody>\n",
       "</table>\n",
       "</div>"
      ],
      "text/plain": [
       "           usuario  puntos  semanas  meta\n",
       "0   alvaro.quiceno   121.0       31   124\n",
       "1   andrea.jimenez   108.0       31   124\n",
       "2  andres.valencia    89.0       31   124\n",
       "3   carlos.barrera    90.0       31   124\n",
       "4     carlos.lopez   140.0       31   124"
      ]
     },
     "execution_count": 43,
     "metadata": {
      "tags": []
     },
     "output_type": "execute_result"
    }
   ],
   "source": [
    "# 7. Calcular la meta de cada usuario, teniendo en cuenta que son las semanas que lleva en el año, multiplicadas por 4\n",
    "\n",
    "totales[\"meta\"] = totales[\"semanas\"] * 4\n",
    "totales.head()"
   ]
  },
  {
   "cell_type": "code",
   "execution_count": 44,
   "metadata": {
    "colab": {
     "base_uri": "https://localhost:8080/",
     "height": 204
    },
    "colab_type": "code",
    "executionInfo": {
     "elapsed": 460,
     "status": "ok",
     "timestamp": 1568157982303,
     "user": {
      "displayName": "Ricardo José Ramírez Blauvelt",
      "photoUrl": "https://lh3.googleusercontent.com/a-/AAuE7mC7HsFZWgDyVaAB6Wza-nOVo2GcumlXSW3wkY9oVKc=s64",
      "userId": "15259993531050943844"
     },
     "user_tz": 300
    },
    "id": "589pnNmcJgjG",
    "outputId": "357a7d67-3306-405e-ed2b-6988d81bccef"
   },
   "outputs": [
    {
     "data": {
      "text/html": [
       "<div>\n",
       "<style scoped>\n",
       "    .dataframe tbody tr th:only-of-type {\n",
       "        vertical-align: middle;\n",
       "    }\n",
       "\n",
       "    .dataframe tbody tr th {\n",
       "        vertical-align: top;\n",
       "    }\n",
       "\n",
       "    .dataframe thead th {\n",
       "        text-align: right;\n",
       "    }\n",
       "</style>\n",
       "<table border=\"1\" class=\"dataframe\">\n",
       "  <thead>\n",
       "    <tr style=\"text-align: right;\">\n",
       "      <th></th>\n",
       "      <th>usuario</th>\n",
       "      <th>puntos</th>\n",
       "      <th>semanas</th>\n",
       "      <th>meta</th>\n",
       "      <th>puntaje</th>\n",
       "    </tr>\n",
       "  </thead>\n",
       "  <tbody>\n",
       "    <tr>\n",
       "      <th>0</th>\n",
       "      <td>alvaro.quiceno</td>\n",
       "      <td>121.0</td>\n",
       "      <td>31</td>\n",
       "      <td>124</td>\n",
       "      <td>97.580645</td>\n",
       "    </tr>\n",
       "    <tr>\n",
       "      <th>1</th>\n",
       "      <td>andrea.jimenez</td>\n",
       "      <td>108.0</td>\n",
       "      <td>31</td>\n",
       "      <td>124</td>\n",
       "      <td>87.096774</td>\n",
       "    </tr>\n",
       "    <tr>\n",
       "      <th>2</th>\n",
       "      <td>andres.valencia</td>\n",
       "      <td>89.0</td>\n",
       "      <td>31</td>\n",
       "      <td>124</td>\n",
       "      <td>71.774194</td>\n",
       "    </tr>\n",
       "    <tr>\n",
       "      <th>3</th>\n",
       "      <td>carlos.barrera</td>\n",
       "      <td>90.0</td>\n",
       "      <td>31</td>\n",
       "      <td>124</td>\n",
       "      <td>72.580645</td>\n",
       "    </tr>\n",
       "    <tr>\n",
       "      <th>4</th>\n",
       "      <td>carlos.lopez</td>\n",
       "      <td>140.0</td>\n",
       "      <td>31</td>\n",
       "      <td>124</td>\n",
       "      <td>100.000000</td>\n",
       "    </tr>\n",
       "  </tbody>\n",
       "</table>\n",
       "</div>"
      ],
      "text/plain": [
       "           usuario  puntos  semanas  meta     puntaje\n",
       "0   alvaro.quiceno   121.0       31   124   97.580645\n",
       "1   andrea.jimenez   108.0       31   124   87.096774\n",
       "2  andres.valencia    89.0       31   124   71.774194\n",
       "3   carlos.barrera    90.0       31   124   72.580645\n",
       "4     carlos.lopez   140.0       31   124  100.000000"
      ]
     },
     "execution_count": 44,
     "metadata": {
      "tags": []
     },
     "output_type": "execute_result"
    }
   ],
   "source": [
    "# 8. Calcular el indicador de TimeTracker como el cumplimiento de la meta, según los puntos acumulados en el año\n",
    "\n",
    "totales[\"puntaje\"] = totales.apply(lambda x: 100 if x[\"puntos\"] >= x[\"meta\"] else x[\"puntos\"] / x[\"meta\"] * 100, axis=1)\n",
    "totales.head()"
   ]
  },
  {
   "cell_type": "code",
   "execution_count": 45,
   "metadata": {
    "colab": {
     "base_uri": "https://localhost:8080/",
     "height": 204
    },
    "colab_type": "code",
    "executionInfo": {
     "elapsed": 449,
     "status": "ok",
     "timestamp": 1568157983464,
     "user": {
      "displayName": "Ricardo José Ramírez Blauvelt",
      "photoUrl": "https://lh3.googleusercontent.com/a-/AAuE7mC7HsFZWgDyVaAB6Wza-nOVo2GcumlXSW3wkY9oVKc=s64",
      "userId": "15259993531050943844"
     },
     "user_tz": 300
    },
    "id": "BqmL997uPq2v",
    "outputId": "dfb7517d-5f3c-409a-b95f-c2e88dbb3b21"
   },
   "outputs": [
    {
     "data": {
      "text/html": [
       "<div>\n",
       "<style scoped>\n",
       "    .dataframe tbody tr th:only-of-type {\n",
       "        vertical-align: middle;\n",
       "    }\n",
       "\n",
       "    .dataframe tbody tr th {\n",
       "        vertical-align: top;\n",
       "    }\n",
       "\n",
       "    .dataframe thead th {\n",
       "        text-align: right;\n",
       "    }\n",
       "</style>\n",
       "<table border=\"1\" class=\"dataframe\">\n",
       "  <thead>\n",
       "    <tr style=\"text-align: right;\">\n",
       "      <th></th>\n",
       "      <th>usuario</th>\n",
       "      <th>puntos</th>\n",
       "      <th>semanas</th>\n",
       "      <th>meta</th>\n",
       "      <th>puntaje</th>\n",
       "    </tr>\n",
       "  </thead>\n",
       "  <tbody>\n",
       "    <tr>\n",
       "      <th>19</th>\n",
       "      <td>johan.alvarez</td>\n",
       "      <td>152.5</td>\n",
       "      <td>31</td>\n",
       "      <td>124</td>\n",
       "      <td>100.0</td>\n",
       "    </tr>\n",
       "    <tr>\n",
       "      <th>25</th>\n",
       "      <td>juan.garcia</td>\n",
       "      <td>152.0</td>\n",
       "      <td>31</td>\n",
       "      <td>124</td>\n",
       "      <td>100.0</td>\n",
       "    </tr>\n",
       "    <tr>\n",
       "      <th>33</th>\n",
       "      <td>luz.gutierrez</td>\n",
       "      <td>151.0</td>\n",
       "      <td>31</td>\n",
       "      <td>124</td>\n",
       "      <td>100.0</td>\n",
       "    </tr>\n",
       "    <tr>\n",
       "      <th>32</th>\n",
       "      <td>luisa.mejia</td>\n",
       "      <td>150.5</td>\n",
       "      <td>31</td>\n",
       "      <td>124</td>\n",
       "      <td>100.0</td>\n",
       "    </tr>\n",
       "    <tr>\n",
       "      <th>31</th>\n",
       "      <td>liliana.guarin</td>\n",
       "      <td>150.0</td>\n",
       "      <td>31</td>\n",
       "      <td>124</td>\n",
       "      <td>100.0</td>\n",
       "    </tr>\n",
       "  </tbody>\n",
       "</table>\n",
       "</div>"
      ],
      "text/plain": [
       "           usuario  puntos  semanas  meta  puntaje\n",
       "19   johan.alvarez   152.5       31   124    100.0\n",
       "25     juan.garcia   152.0       31   124    100.0\n",
       "33   luz.gutierrez   151.0       31   124    100.0\n",
       "32     luisa.mejia   150.5       31   124    100.0\n",
       "31  liliana.guarin   150.0       31   124    100.0"
      ]
     },
     "execution_count": 45,
     "metadata": {
      "tags": []
     },
     "output_type": "execute_result"
    }
   ],
   "source": [
    "# Ordena el resultado\n",
    "totales.sort_values(by=[\"puntaje\", \"meta\", \"puntos\", \"usuario\"], ascending=False, inplace=True)\n",
    "totales.head()"
   ]
  },
  {
   "cell_type": "code",
   "execution_count": 46,
   "metadata": {
    "colab": {
     "base_uri": "https://localhost:8080/",
     "height": 105
    },
    "colab_type": "code",
    "executionInfo": {
     "elapsed": 460,
     "status": "ok",
     "timestamp": 1568157984678,
     "user": {
      "displayName": "Ricardo José Ramírez Blauvelt",
      "photoUrl": "https://lh3.googleusercontent.com/a-/AAuE7mC7HsFZWgDyVaAB6Wza-nOVo2GcumlXSW3wkY9oVKc=s64",
      "userId": "15259993531050943844"
     },
     "user_tz": 300
    },
    "id": "URkIDcNPPIBv",
    "outputId": "d67d3b81-aa9a-4f9f-9d2f-aaa077420d30"
   },
   "outputs": [
    {
     "name": "stdout",
     "output_type": "stream",
     "text": [
      "Superar expectativas ['johan.alvarez', 'juan.garcia', 'luz.gutierrez', 'luisa.mejia', 'liliana.guarin', 'yannick.munoz', 'juan.lopez', 'tulio.villa', 'carlos.restrepo', 'leonardo.cadavid', 'carlos.lopez', 'jorge.franco', 'claudia.mesa', 'natalia.restrepo', 'emna.henao', 'jorsenvey.perez', 'eliana.aguilar', 'diego.quinteroa', 'julian.quiroga', 'victor.pedraza', 'julian.sanchez', 'richard.ospina', 'alvaro.quiceno']\n",
      "Meta ['john.rodriguez', 'fausto.ospina', 'francisco.guerra', 'carolina.rivas', 'david.marin', 'edward.pineda', 'andrea.jimenez']\n",
      "Mínimo esperado ['jorge.bedoya', 'gabriel.munoz', 'sebastian.ortiz', 'sebastian.alarcon', 'laura.restrepo']\n",
      "No cumple ['john.suaza', 'carlos.barrera', 'elkin.castillo', 'andres.valencia', 'david.hernandez', 'daniel.rodriguez']\n"
     ]
    }
   ],
   "source": [
    "# 9. Grupos\n",
    "\n",
    "# >= 95%\n",
    "superar = list(totales[totales.puntaje >= 95][\"usuario\"].values)\n",
    "print(\"Superar expectativas\", superar)\n",
    "\n",
    "# 85% <= X < 95%\n",
    "meta = list(totales.loc[(totales[\"puntaje\"] >= 85) & (totales[\"puntaje\"] < 95)][\"usuario\"].values)\n",
    "print(\"Meta\", meta)\n",
    "\n",
    "# 75% <= X < 85%\n",
    "minimo = list(totales.loc[(totales[\"puntaje\"] >= 75) & (totales[\"puntaje\"] < 85)][\"usuario\"].values)\n",
    "print(\"Mínimo esperado\", minimo)\n",
    "\n",
    "# < 75%\n",
    "no_cumple = list(totales[totales.puntaje < 75][\"usuario\"].values)\n",
    "print(\"No cumple\", no_cumple)"
   ]
  },
  {
   "cell_type": "markdown",
   "metadata": {
    "colab_type": "text",
    "id": "iDEjQGrD08l0"
   },
   "source": [
    "# Conexión a BD\n",
    "\n",
    "Desde Python, es posible conectarse a sistemas RDBMS como Oracle, SQL Server, PostgreSQL o MySQL, o sistemas NoSQL como DynamoDB, MongoDB, Cassandra, etc.\n",
    "\n",
    "Se pueden establecer cursores para navegar por los datos, o se pueden importar directamente los datasets a dataframes de Pandas y trabajar con ellos fácilmente\n",
    "\n",
    "Para este ejercicio, vamos a trabjar con SQLite, un motor liviano _stand-alone_ que no requiere de un servidor, y que ofrece, para uso local, una funcionalidad bastante completa como RDBMS, y que está soportado nativamente por Python"
   ]
  },
  {
   "cell_type": "code",
   "execution_count": null,
   "metadata": {
    "colab": {},
    "colab_type": "code",
    "id": "vnqXmn4o4oLO"
   },
   "outputs": [],
   "source": [
    "import sqlite3"
   ]
  },
  {
   "cell_type": "code",
   "execution_count": null,
   "metadata": {
    "colab": {},
    "colab_type": "code",
    "id": "2Wc1968ACN7V"
   },
   "outputs": [],
   "source": [
    "# Obtiene una conexión (es un archivo local)\n",
    "conn = sqlite3.connect(\"prueba.db\")"
   ]
  },
  {
   "cell_type": "code",
   "execution_count": null,
   "metadata": {
    "colab": {},
    "colab_type": "code",
    "id": "uKJYPpIMCUPE"
   },
   "outputs": [],
   "source": [
    "# El acceso a la BD se hace a través del objeto \"cursor\"\n",
    "cursor = conn.cursor()"
   ]
  },
  {
   "cell_type": "code",
   "execution_count": null,
   "metadata": {
    "colab": {
     "base_uri": "https://localhost:8080/",
     "height": 34
    },
    "colab_type": "code",
    "executionInfo": {
     "elapsed": 544,
     "status": "ok",
     "timestamp": 1567111796551,
     "user": {
      "displayName": "Ricardo José Ramírez Blauvelt",
      "photoUrl": "https://lh3.googleusercontent.com/a-/AAuE7mC7HsFZWgDyVaAB6Wza-nOVo2GcumlXSW3wkY9oVKc=s64",
      "userId": "15259993531050943844"
     },
     "user_tz": 300
    },
    "id": "Um4t_fh-Caw8",
    "outputId": "ddeb4768-088e-4a31-a7ae-c721745a6a48"
   },
   "outputs": [
    {
     "data": {
      "text/plain": [
       "<sqlite3.Cursor at 0x7f78b6624a40>"
      ]
     },
     "execution_count": 4,
     "metadata": {
      "tags": []
     },
     "output_type": "execute_result"
    }
   ],
   "source": [
    "# Creamos una tabla de prueba\n",
    "cursor.execute(\"CREATE TABLE prueba (nombre VARCHAR(50), apellido VARCHAR(50))\")"
   ]
  },
  {
   "cell_type": "code",
   "execution_count": null,
   "metadata": {
    "colab": {
     "base_uri": "https://localhost:8080/",
     "height": 34
    },
    "colab_type": "code",
    "executionInfo": {
     "elapsed": 622,
     "status": "ok",
     "timestamp": 1567111818969,
     "user": {
      "displayName": "Ricardo José Ramírez Blauvelt",
      "photoUrl": "https://lh3.googleusercontent.com/a-/AAuE7mC7HsFZWgDyVaAB6Wza-nOVo2GcumlXSW3wkY9oVKc=s64",
      "userId": "15259993531050943844"
     },
     "user_tz": 300
    },
    "id": "ga5N4_jZCds7",
    "outputId": "8a857454-97e7-4b55-b4f5-fe357c658bd4"
   },
   "outputs": [
    {
     "data": {
      "text/plain": [
       "<sqlite3.Cursor at 0x7f78b6624a40>"
      ]
     },
     "execution_count": 5,
     "metadata": {
      "tags": []
     },
     "output_type": "execute_result"
    }
   ],
   "source": [
    "# Insertamos datos de prueba\n",
    "cursor.execute(\"INSERT INTO prueba (nombre, apellido) VALUES ('Ricardo', 'Ramírez')\")"
   ]
  },
  {
   "cell_type": "code",
   "execution_count": null,
   "metadata": {
    "colab": {
     "base_uri": "https://localhost:8080/",
     "height": 34
    },
    "colab_type": "code",
    "executionInfo": {
     "elapsed": 552,
     "status": "ok",
     "timestamp": 1567112206906,
     "user": {
      "displayName": "Ricardo José Ramírez Blauvelt",
      "photoUrl": "https://lh3.googleusercontent.com/a-/AAuE7mC7HsFZWgDyVaAB6Wza-nOVo2GcumlXSW3wkY9oVKc=s64",
      "userId": "15259993531050943844"
     },
     "user_tz": 300
    },
    "id": "cPwVkN88Cikd",
    "outputId": "38cc312b-abde-453d-924b-baa2162cdfd7"
   },
   "outputs": [
    {
     "data": {
      "text/plain": [
       "<sqlite3.Cursor at 0x7f78b6624a40>"
      ]
     },
     "execution_count": 6,
     "metadata": {
      "tags": []
     },
     "output_type": "execute_result"
    }
   ],
   "source": [
    "# O datos masivos a través de una sentencia preparada\n",
    "datos = [\n",
    "    ('Laura', 'Restrepo'), \n",
    "    ('Diego', 'Valencia'), \n",
    "    ('Atul', 'Malhotra')\n",
    "]\n",
    "cursor.executemany(\"INSERT INTO prueba (nombre, apellido) VALUES (?, ?)\", datos)\n"
   ]
  },
  {
   "cell_type": "code",
   "execution_count": null,
   "metadata": {
    "colab": {},
    "colab_type": "code",
    "id": "ShslW9zU6Ttl"
   },
   "outputs": [],
   "source": [
    "# Confirma los cambios en la base de datos\n",
    "conn.commit()"
   ]
  },
  {
   "cell_type": "code",
   "execution_count": null,
   "metadata": {
    "colab": {
     "base_uri": "https://localhost:8080/",
     "height": 34
    },
    "colab_type": "code",
    "executionInfo": {
     "elapsed": 455,
     "status": "ok",
     "timestamp": 1567112642554,
     "user": {
      "displayName": "Ricardo José Ramírez Blauvelt",
      "photoUrl": "https://lh3.googleusercontent.com/a-/AAuE7mC7HsFZWgDyVaAB6Wza-nOVo2GcumlXSW3wkY9oVKc=s64",
      "userId": "15259993531050943844"
     },
     "user_tz": 300
    },
    "id": "ePPJFztMCupB",
    "outputId": "1f39aa7e-28d8-4d14-e643-9768cc857a58"
   },
   "outputs": [
    {
     "data": {
      "text/plain": [
       "<sqlite3.Cursor at 0x7f78b6624a40>"
      ]
     },
     "execution_count": 12,
     "metadata": {
      "tags": []
     },
     "output_type": "execute_result"
    }
   ],
   "source": [
    "# Consultamos datos\n",
    "cursor.execute(\"SELECT * FROM prueba WHERE nombre = ?\", ('Laura',))"
   ]
  },
  {
   "cell_type": "code",
   "execution_count": null,
   "metadata": {
    "colab": {
     "base_uri": "https://localhost:8080/",
     "height": 34
    },
    "colab_type": "code",
    "executionInfo": {
     "elapsed": 598,
     "status": "ok",
     "timestamp": 1567112643510,
     "user": {
      "displayName": "Ricardo José Ramírez Blauvelt",
      "photoUrl": "https://lh3.googleusercontent.com/a-/AAuE7mC7HsFZWgDyVaAB6Wza-nOVo2GcumlXSW3wkY9oVKc=s64",
      "userId": "15259993531050943844"
     },
     "user_tz": 300
    },
    "id": "25qm7EWbC5FL",
    "outputId": "9c2ef275-557b-4335-da4f-c94b4b73cf26"
   },
   "outputs": [
    {
     "name": "stdout",
     "output_type": "stream",
     "text": [
      "Laura Restrepo\n"
     ]
    }
   ],
   "source": [
    "# Los imprimimos\n",
    "for nombre, apellido in cursor:\n",
    "    print(nombre, apellido)\n"
   ]
  },
  {
   "cell_type": "code",
   "execution_count": null,
   "metadata": {
    "colab": {},
    "colab_type": "code",
    "id": "i1ioqqJaC758"
   },
   "outputs": [],
   "source": [
    "# Siempre cerramos la conexión\n",
    "conn.close()"
   ]
  },
  {
   "cell_type": "markdown",
   "metadata": {
    "colab_type": "text",
    "id": "qfEE5QaRC8GJ"
   },
   "source": [
    "### Calculemos el indicador de TT, a partir de una BD en SQLite\n",
    "\n",
    "Los pasos son los mismos, pero los datos ya se encuentran en tablas"
   ]
  },
  {
   "cell_type": "code",
   "execution_count": null,
   "metadata": {
    "colab": {},
    "colab_type": "code",
    "id": "-iVu94UMtSW6"
   },
   "outputs": [],
   "source": [
    "import sqlite3"
   ]
  },
  {
   "cell_type": "code",
   "execution_count": null,
   "metadata": {
    "colab": {
     "base_uri": "https://localhost:8080/",
     "height": 122
    },
    "colab_type": "code",
    "executionInfo": {
     "elapsed": 29861,
     "status": "ok",
     "timestamp": 1567112863694,
     "user": {
      "displayName": "Ricardo José Ramírez Blauvelt",
      "photoUrl": "https://lh3.googleusercontent.com/a-/AAuE7mC7HsFZWgDyVaAB6Wza-nOVo2GcumlXSW3wkY9oVKc=s64",
      "userId": "15259993531050943844"
     },
     "user_tz": 300
    },
    "id": "l4FU98AgzjNq",
    "outputId": "f04b27e5-e549-42c9-fad6-9c6b4df60cfe"
   },
   "outputs": [
    {
     "name": "stdout",
     "output_type": "stream",
     "text": [
      "Go to this URL in a browser: https://accounts.google.com/o/oauth2/auth?client_id=947318989803-6bn6qk8qdgf4n4g3pfee6491hc0brc4i.apps.googleusercontent.com&redirect_uri=urn%3Aietf%3Awg%3Aoauth%3A2.0%3Aoob&scope=email%20https%3A%2F%2Fwww.googleapis.com%2Fauth%2Fdocs.test%20https%3A%2F%2Fwww.googleapis.com%2Fauth%2Fdrive%20https%3A%2F%2Fwww.googleapis.com%2Fauth%2Fdrive.photos.readonly%20https%3A%2F%2Fwww.googleapis.com%2Fauth%2Fpeopleapi.readonly&response_type=code\n",
      "\n",
      "Enter your authorization code:\n",
      "··········\n",
      "Mounted at /content/drive\n"
     ]
    }
   ],
   "source": [
    "# Carga la BD desde Drive\n",
    "from google.colab import drive\n",
    "drive.mount('/content/drive')"
   ]
  },
  {
   "cell_type": "code",
   "execution_count": null,
   "metadata": {
    "colab": {},
    "colab_type": "code",
    "id": "dZ5Dh_RSgIVH"
   },
   "outputs": [],
   "source": [
    "ruta_bd = \"/content/drive/My Drive/Colab Notebooks/tt.db\""
   ]
  },
  {
   "cell_type": "code",
   "execution_count": 48,
   "metadata": {
    "colab": {
     "base_uri": "https://localhost:8080/",
     "height": 34
    },
    "colab_type": "code",
    "executionInfo": {
     "elapsed": 655,
     "status": "ok",
     "timestamp": 1568158038383,
     "user": {
      "displayName": "Ricardo José Ramírez Blauvelt",
      "photoUrl": "https://lh3.googleusercontent.com/a-/AAuE7mC7HsFZWgDyVaAB6Wza-nOVo2GcumlXSW3wkY9oVKc=s64",
      "userId": "15259993531050943844"
     },
     "user_tz": 300
    },
    "id": "5K0XeNRdgCR-",
    "outputId": "7518e35c-186a-4bd6-b1f0-cf5cca53f60b"
   },
   "outputs": [
    {
     "data": {
      "text/plain": [
       "'tt.db'"
      ]
     },
     "execution_count": 48,
     "metadata": {
      "tags": []
     },
     "output_type": "execute_result"
    }
   ],
   "source": [
    "from shutil import copyfile\n",
    "copyfile(ruta_bd, \"tt.db\")"
   ]
  },
  {
   "cell_type": "code",
   "execution_count": null,
   "metadata": {
    "colab": {},
    "colab_type": "code",
    "id": "mkpZbJHPz60x"
   },
   "outputs": [],
   "source": [
    "# Ruta a la BD\n",
    "bd_sqlite = \"tt.db\""
   ]
  },
  {
   "cell_type": "code",
   "execution_count": null,
   "metadata": {
    "colab": {},
    "colab_type": "code",
    "id": "PXUFWSTj9e7H"
   },
   "outputs": [],
   "source": [
    "# Se conecta con la BD\n",
    "conn = sqlite3.connect(bd_sqlite)"
   ]
  },
  {
   "cell_type": "code",
   "execution_count": null,
   "metadata": {
    "colab": {},
    "colab_type": "code",
    "id": "xXOsALCxA83M"
   },
   "outputs": [],
   "source": [
    "# Obtiene el cursor\n",
    "cursor = conn.cursor()"
   ]
  },
  {
   "cell_type": "code",
   "execution_count": 56,
   "metadata": {
    "colab": {
     "base_uri": "https://localhost:8080/",
     "height": 102
    },
    "colab_type": "code",
    "executionInfo": {
     "elapsed": 461,
     "status": "ok",
     "timestamp": 1568158066753,
     "user": {
      "displayName": "Ricardo José Ramírez Blauvelt",
      "photoUrl": "https://lh3.googleusercontent.com/a-/AAuE7mC7HsFZWgDyVaAB6Wza-nOVo2GcumlXSW3wkY9oVKc=s64",
      "userId": "15259993531050943844"
     },
     "user_tz": 300
    },
    "id": "HYKWqXE9C5Sj",
    "outputId": "fa499b09-fe59-40ce-e4a1-32d587d8174b"
   },
   "outputs": [
    {
     "name": "stdout",
     "output_type": "stream",
     "text": [
      "alvaro.quiceno 2019-01-07 00:00:00 7\n",
      "andrea.jimenez 2019-01-07 00:00:00 4\n",
      "andres.valencia 2019-01-07 00:00:00 7\n",
      "carlos.barrera 2019-01-07 00:00:00 4\n",
      "carlos.lopez 2019-01-07 00:00:00 4\n"
     ]
    }
   ],
   "source": [
    "# Previsualizar los datos de diferencias\n",
    "cursor.execute(\"SELECT usuario, semana, diferencia FROM diferencias LIMIT 5\")\n",
    "for usuario, semana, diferencia in cursor:\n",
    "  print(usuario, semana, diferencia)"
   ]
  },
  {
   "cell_type": "code",
   "execution_count": 57,
   "metadata": {
    "colab": {
     "base_uri": "https://localhost:8080/",
     "height": 102
    },
    "colab_type": "code",
    "executionInfo": {
     "elapsed": 466,
     "status": "ok",
     "timestamp": 1568158069000,
     "user": {
      "displayName": "Ricardo José Ramírez Blauvelt",
      "photoUrl": "https://lh3.googleusercontent.com/a-/AAuE7mC7HsFZWgDyVaAB6Wza-nOVo2GcumlXSW3wkY9oVKc=s64",
      "userId": "15259993531050943844"
     },
     "user_tz": 300
    },
    "id": "qfDeug7uDkOI",
    "outputId": "1ec2f278-2003-4e7e-f22a-31d6c4a6e333"
   },
   "outputs": [
    {
     "name": "stdout",
     "output_type": "stream",
     "text": [
      "alvaro.quiceno 31\n",
      "andrea.jimenez 31\n",
      "andres.valencia 31\n",
      "carlos.barrera 31\n",
      "carlos.lopez 31\n"
     ]
    }
   ],
   "source": [
    "# Previsualizar los datos de semanas\n",
    "cursor.execute(\"SELECT usuario, semanas FROM semanas LIMIT 5\")\n",
    "for usuario, semanas in cursor:\n",
    "  print(usuario, semanas)"
   ]
  },
  {
   "cell_type": "code",
   "execution_count": null,
   "metadata": {
    "colab": {},
    "colab_type": "code",
    "id": "nvb251AUqiLR"
   },
   "outputs": [],
   "source": [
    "# Consulta para generar el reporte\n",
    "sql = '''\n",
    "CREATE TEMP TABLE puntajes AS\n",
    "SELECT\n",
    "    usuario,\n",
    "    semanas,\n",
    "    meta,\n",
    "    puntos,\n",
    "    ROUND(CASE WHEN puntos >= meta THEN 100 ELSE 100.0 * puntos / meta END, 2) AS puntaje\n",
    "FROM (\n",
    "    SELECT\n",
    "        s.usuario,\n",
    "        s.semanas,\n",
    "        s.semanas * 4 AS meta,\n",
    "        SUM(\n",
    "            CASE\n",
    "                WHEN d.diferencia <= 4 THEN 5\n",
    "                WHEN d.diferencia > 4 AND d.diferencia <= 6 THEN 4.5\n",
    "                WHEN d.diferencia = 7 THEN 4\n",
    "                WHEN d.diferencia = 7.5 THEN 2\n",
    "                WHEN d.diferencia = 8 THEN 1\n",
    "                ELSE 0\n",
    "            END\n",
    "        ) AS puntos\n",
    "    FROM semanas s\n",
    "        INNER JOIN diferencias d ON d.usuario = s.usuario\n",
    "    GROUP BY 1,2,3\n",
    ") AS v\n",
    "ORDER BY 5 DESC, 4 DESC, 3 DESC, 1\n",
    "'''"
   ]
  },
  {
   "cell_type": "code",
   "execution_count": 59,
   "metadata": {
    "colab": {
     "base_uri": "https://localhost:8080/",
     "height": 34
    },
    "colab_type": "code",
    "executionInfo": {
     "elapsed": 432,
     "status": "ok",
     "timestamp": 1568158071696,
     "user": {
      "displayName": "Ricardo José Ramírez Blauvelt",
      "photoUrl": "https://lh3.googleusercontent.com/a-/AAuE7mC7HsFZWgDyVaAB6Wza-nOVo2GcumlXSW3wkY9oVKc=s64",
      "userId": "15259993531050943844"
     },
     "user_tz": 300
    },
    "id": "pYIJ9CElrWoy",
    "outputId": "977caddf-9062-42ce-edbb-39cdec7bf441"
   },
   "outputs": [
    {
     "data": {
      "text/plain": [
       "<sqlite3.Cursor at 0x7f7f8c969ea0>"
      ]
     },
     "execution_count": 59,
     "metadata": {
      "tags": []
     },
     "output_type": "execute_result"
    }
   ],
   "source": [
    "# Genera el reporte\n",
    "cursor.execute(sql)"
   ]
  },
  {
   "cell_type": "code",
   "execution_count": null,
   "metadata": {
    "colab": {},
    "colab_type": "code",
    "id": "08UZImMsxKIm"
   },
   "outputs": [],
   "source": [
    "# Subir los puntajes a Pandas\n",
    "import pandas as pd\n",
    "\n",
    "# Consulta\n",
    "query = \"SELECT usuario, semanas, meta, puntos, puntaje FROM puntajes\"\n",
    "\n",
    "# Carga el resultado de la consulta en un DataFrame\n",
    "puntajes = pd.read_sql(query, conn)"
   ]
  },
  {
   "cell_type": "code",
   "execution_count": null,
   "metadata": {
    "colab": {},
    "colab_type": "code",
    "id": "aRp2RmLtDUP0"
   },
   "outputs": [],
   "source": [
    "# Cierra la conexión\n",
    "conn.close()"
   ]
  },
  {
   "cell_type": "code",
   "execution_count": 62,
   "metadata": {
    "colab": {
     "base_uri": "https://localhost:8080/",
     "height": 669
    },
    "colab_type": "code",
    "executionInfo": {
     "elapsed": 437,
     "status": "ok",
     "timestamp": 1568158078520,
     "user": {
      "displayName": "Ricardo José Ramírez Blauvelt",
      "photoUrl": "https://lh3.googleusercontent.com/a-/AAuE7mC7HsFZWgDyVaAB6Wza-nOVo2GcumlXSW3wkY9oVKc=s64",
      "userId": "15259993531050943844"
     },
     "user_tz": 300
    },
    "id": "wjwPhPn8DWoA",
    "outputId": "0f19769a-bd94-4760-cac7-c90b4576e4b5"
   },
   "outputs": [
    {
     "data": {
      "text/html": [
       "<div>\n",
       "<style scoped>\n",
       "    .dataframe tbody tr th:only-of-type {\n",
       "        vertical-align: middle;\n",
       "    }\n",
       "\n",
       "    .dataframe tbody tr th {\n",
       "        vertical-align: top;\n",
       "    }\n",
       "\n",
       "    .dataframe thead th {\n",
       "        text-align: right;\n",
       "    }\n",
       "</style>\n",
       "<table border=\"1\" class=\"dataframe\">\n",
       "  <thead>\n",
       "    <tr style=\"text-align: right;\">\n",
       "      <th></th>\n",
       "      <th>usuario</th>\n",
       "      <th>semanas</th>\n",
       "      <th>meta</th>\n",
       "      <th>puntos</th>\n",
       "      <th>puntaje</th>\n",
       "    </tr>\n",
       "  </thead>\n",
       "  <tbody>\n",
       "    <tr>\n",
       "      <th>0</th>\n",
       "      <td>johan.alvarez</td>\n",
       "      <td>31</td>\n",
       "      <td>124</td>\n",
       "      <td>152.5</td>\n",
       "      <td>100.0</td>\n",
       "    </tr>\n",
       "    <tr>\n",
       "      <th>1</th>\n",
       "      <td>juan.garcia</td>\n",
       "      <td>31</td>\n",
       "      <td>124</td>\n",
       "      <td>152.0</td>\n",
       "      <td>100.0</td>\n",
       "    </tr>\n",
       "    <tr>\n",
       "      <th>2</th>\n",
       "      <td>luz.gutierrez</td>\n",
       "      <td>31</td>\n",
       "      <td>124</td>\n",
       "      <td>151.0</td>\n",
       "      <td>100.0</td>\n",
       "    </tr>\n",
       "    <tr>\n",
       "      <th>3</th>\n",
       "      <td>luisa.mejia</td>\n",
       "      <td>31</td>\n",
       "      <td>124</td>\n",
       "      <td>150.5</td>\n",
       "      <td>100.0</td>\n",
       "    </tr>\n",
       "    <tr>\n",
       "      <th>4</th>\n",
       "      <td>liliana.guarin</td>\n",
       "      <td>31</td>\n",
       "      <td>124</td>\n",
       "      <td>150.0</td>\n",
       "      <td>100.0</td>\n",
       "    </tr>\n",
       "    <tr>\n",
       "      <th>5</th>\n",
       "      <td>yannick.munoz</td>\n",
       "      <td>31</td>\n",
       "      <td>124</td>\n",
       "      <td>149.0</td>\n",
       "      <td>100.0</td>\n",
       "    </tr>\n",
       "    <tr>\n",
       "      <th>6</th>\n",
       "      <td>juan.lopez</td>\n",
       "      <td>31</td>\n",
       "      <td>124</td>\n",
       "      <td>147.5</td>\n",
       "      <td>100.0</td>\n",
       "    </tr>\n",
       "    <tr>\n",
       "      <th>7</th>\n",
       "      <td>tulio.villa</td>\n",
       "      <td>31</td>\n",
       "      <td>124</td>\n",
       "      <td>146.5</td>\n",
       "      <td>100.0</td>\n",
       "    </tr>\n",
       "    <tr>\n",
       "      <th>8</th>\n",
       "      <td>carlos.restrepo</td>\n",
       "      <td>31</td>\n",
       "      <td>124</td>\n",
       "      <td>146.0</td>\n",
       "      <td>100.0</td>\n",
       "    </tr>\n",
       "    <tr>\n",
       "      <th>9</th>\n",
       "      <td>leonardo.cadavid</td>\n",
       "      <td>31</td>\n",
       "      <td>124</td>\n",
       "      <td>142.0</td>\n",
       "      <td>100.0</td>\n",
       "    </tr>\n",
       "    <tr>\n",
       "      <th>10</th>\n",
       "      <td>carlos.lopez</td>\n",
       "      <td>31</td>\n",
       "      <td>124</td>\n",
       "      <td>140.0</td>\n",
       "      <td>100.0</td>\n",
       "    </tr>\n",
       "    <tr>\n",
       "      <th>11</th>\n",
       "      <td>jorge.franco</td>\n",
       "      <td>31</td>\n",
       "      <td>124</td>\n",
       "      <td>138.0</td>\n",
       "      <td>100.0</td>\n",
       "    </tr>\n",
       "    <tr>\n",
       "      <th>12</th>\n",
       "      <td>claudia.mesa</td>\n",
       "      <td>31</td>\n",
       "      <td>124</td>\n",
       "      <td>133.5</td>\n",
       "      <td>100.0</td>\n",
       "    </tr>\n",
       "    <tr>\n",
       "      <th>13</th>\n",
       "      <td>natalia.restrepo</td>\n",
       "      <td>31</td>\n",
       "      <td>124</td>\n",
       "      <td>129.5</td>\n",
       "      <td>100.0</td>\n",
       "    </tr>\n",
       "    <tr>\n",
       "      <th>14</th>\n",
       "      <td>emna.henao</td>\n",
       "      <td>31</td>\n",
       "      <td>124</td>\n",
       "      <td>125.0</td>\n",
       "      <td>100.0</td>\n",
       "    </tr>\n",
       "    <tr>\n",
       "      <th>15</th>\n",
       "      <td>jorsenvey.perez</td>\n",
       "      <td>26</td>\n",
       "      <td>104</td>\n",
       "      <td>109.0</td>\n",
       "      <td>100.0</td>\n",
       "    </tr>\n",
       "    <tr>\n",
       "      <th>16</th>\n",
       "      <td>eliana.aguilar</td>\n",
       "      <td>24</td>\n",
       "      <td>96</td>\n",
       "      <td>99.0</td>\n",
       "      <td>100.0</td>\n",
       "    </tr>\n",
       "    <tr>\n",
       "      <th>17</th>\n",
       "      <td>diego.quinteroa</td>\n",
       "      <td>22</td>\n",
       "      <td>88</td>\n",
       "      <td>96.0</td>\n",
       "      <td>100.0</td>\n",
       "    </tr>\n",
       "    <tr>\n",
       "      <th>18</th>\n",
       "      <td>julian.quiroga</td>\n",
       "      <td>13</td>\n",
       "      <td>52</td>\n",
       "      <td>55.5</td>\n",
       "      <td>100.0</td>\n",
       "    </tr>\n",
       "    <tr>\n",
       "      <th>19</th>\n",
       "      <td>victor.pedraza</td>\n",
       "      <td>11</td>\n",
       "      <td>44</td>\n",
       "      <td>55.0</td>\n",
       "      <td>100.0</td>\n",
       "    </tr>\n",
       "  </tbody>\n",
       "</table>\n",
       "</div>"
      ],
      "text/plain": [
       "             usuario  semanas  meta  puntos  puntaje\n",
       "0      johan.alvarez       31   124   152.5    100.0\n",
       "1        juan.garcia       31   124   152.0    100.0\n",
       "2      luz.gutierrez       31   124   151.0    100.0\n",
       "3        luisa.mejia       31   124   150.5    100.0\n",
       "4     liliana.guarin       31   124   150.0    100.0\n",
       "5      yannick.munoz       31   124   149.0    100.0\n",
       "6         juan.lopez       31   124   147.5    100.0\n",
       "7        tulio.villa       31   124   146.5    100.0\n",
       "8    carlos.restrepo       31   124   146.0    100.0\n",
       "9   leonardo.cadavid       31   124   142.0    100.0\n",
       "10      carlos.lopez       31   124   140.0    100.0\n",
       "11      jorge.franco       31   124   138.0    100.0\n",
       "12      claudia.mesa       31   124   133.5    100.0\n",
       "13  natalia.restrepo       31   124   129.5    100.0\n",
       "14        emna.henao       31   124   125.0    100.0\n",
       "15   jorsenvey.perez       26   104   109.0    100.0\n",
       "16    eliana.aguilar       24    96    99.0    100.0\n",
       "17   diego.quinteroa       22    88    96.0    100.0\n",
       "18    julian.quiroga       13    52    55.5    100.0\n",
       "19    victor.pedraza       11    44    55.0    100.0"
      ]
     },
     "execution_count": 62,
     "metadata": {
      "tags": []
     },
     "output_type": "execute_result"
    }
   ],
   "source": [
    "# Visualiza los resultados\n",
    "puntajes.head(20)"
   ]
  },
  {
   "cell_type": "markdown",
   "metadata": {
    "colab_type": "text",
    "id": "uijpRWGvrmfT"
   },
   "source": [
    "# Consumo de APIs\n",
    "\n",
    "Python permite consumir cualquier tipo de API REST.\n",
    "\n",
    "En general, las peticiones se hacen mediante la librería `requests` y se apoya en `json` para entender las peticiones y las respuestas"
   ]
  },
  {
   "cell_type": "code",
   "execution_count": null,
   "metadata": {
    "colab": {},
    "colab_type": "code",
    "id": "Z1nGF0QarmLc"
   },
   "outputs": [],
   "source": [
    "import requests"
   ]
  },
  {
   "cell_type": "code",
   "execution_count": null,
   "metadata": {
    "colab": {},
    "colab_type": "code",
    "id": "qKiRMvbVygsw"
   },
   "outputs": [],
   "source": [
    "import json"
   ]
  },
  {
   "cell_type": "markdown",
   "metadata": {
    "colab_type": "text",
    "id": "fpc6rp_-_ROn"
   },
   "source": [
    "### Hacer un GET a una API"
   ]
  },
  {
   "cell_type": "code",
   "execution_count": 66,
   "metadata": {
    "colab": {
     "base_uri": "https://localhost:8080/",
     "height": 122
    },
    "colab_type": "code",
    "executionInfo": {
     "elapsed": 2002,
     "status": "ok",
     "timestamp": 1568158094048,
     "user": {
      "displayName": "Ricardo José Ramírez Blauvelt",
      "photoUrl": "https://lh3.googleusercontent.com/a-/AAuE7mC7HsFZWgDyVaAB6Wza-nOVo2GcumlXSW3wkY9oVKc=s64",
      "userId": "15259993531050943844"
     },
     "user_tz": 300
    },
    "id": "Zqxb5NvEtt3z",
    "outputId": "b918b467-88d4-4c4c-e693-6dd4ada61b45"
   },
   "outputs": [
    {
     "name": "stdout",
     "output_type": "stream",
     "text": [
      "<Response [200]>\n",
      "200\n",
      "None\n",
      "{'Date': 'Tue, 10 Sep 2019 23:28:25 GMT', 'Content-Type': 'application/json', 'Content-Length': '1441', 'Connection': 'keep-alive', 'x-amzn-RequestId': '6ff3cba4-f1a5-4bcc-bbbb-b86137a0c28e', 'Access-Control-Allow-Origin': '*', 'x-amz-apigw-id': 'f0yvuGecIAMFzMA=', 'X-Amzn-Trace-Id': 'Root=1-5d783197-5ca9c00cf6ce07a49c17e000;Sampled=0'}\n",
      "[{\"descripcion\":\"Huawei P10\",\"cantidadDisponible\":2,\"imagen\":\"https://s3.amazonaws.com/techstorega-images/Celulares/HuaweiP10_400.png\",\"miniatura\":\"https://s3.amazonaws.com/techstorega-images/Celulares/HuaweiY9_160.png\",\"idProducto\":3,\"categoria\":\"celulares\",\"precio\":2999800},{\"descripcion\":\"Apple iPhone X\",\"cantidadDisponible\":5,\"imagen\":\"https://s3.amazonaws.com/techstorega-images/Celulares/AppleIphoneX_400.png\",\"miniatura\":\"https://s3.amazonaws.com/techstorega-images/Celulares/AppleIphoneX_160.png\",\"idProducto\":2,\"categoria\":\"celulares\",\"precio\":3599890},{\"descripcion\":\"Samsung QLED\",\"cantidadDisponible\":3,\"imagen\":\"https://s3.amazonaws.com/techstorega-images/Televisores/Samsung_QledTV_400.png\",\"miniatura\":\"https://s3.amazonaws.com/techstorega-images/Televisores/Samsung_QledTV_160.png\",\"idProducto\":4,\"categoria\":\"televisores\",\"precio\":1800000},{\"descripcion\":\"Samsung Galaxy S9\",\"cantidadDisponible\":10,\"imagen\":\"https://s3.amazonaws.com/techstorega-images/Celulares/SamsungGalaxys9_400.png\",\"miniatura\":\"https://s3.amazonaws.com/techstorega-images/Celulares/SamsungGalaxys9_160.png\",\"idProducto\":1,\"categoria\":\"celulares\",\"precio\":3299890},{\"descripcion\":\"LG Ulta HD\",\"cantidadDisponible\":0,\"imagen\":\"https://s3.amazonaws.com/techstorega-images/Televisores/LG_UltraHD_400.png\",\"miniatura\":\"https://s3.amazonaws.com/techstorega-images/Televisores/LG_UltraHD_160.png\",\"idProducto\":5,\"categoria\":\"televisores\",\"precio\":1750000}]\n"
     ]
    }
   ],
   "source": [
    "# Probar API de productos\n",
    "urlApiProductos = \"https://fvwzxk56cg.execute-api.us-east-1.amazonaws.com/mock/productos\"\n",
    "\n",
    "# Petición get\n",
    "response = requests.get(urlApiProductos)\n",
    "\n",
    "print(response)\n",
    "print(response.status_code)\n",
    "print(response.encoding)\n",
    "print(response.headers)\n",
    "print(response.text)"
   ]
  },
  {
   "cell_type": "code",
   "execution_count": 67,
   "metadata": {
    "colab": {
     "base_uri": "https://localhost:8080/",
     "height": 54
    },
    "colab_type": "code",
    "executionInfo": {
     "elapsed": 490,
     "status": "ok",
     "timestamp": 1568158098233,
     "user": {
      "displayName": "Ricardo José Ramírez Blauvelt",
      "photoUrl": "https://lh3.googleusercontent.com/a-/AAuE7mC7HsFZWgDyVaAB6Wza-nOVo2GcumlXSW3wkY9oVKc=s64",
      "userId": "15259993531050943844"
     },
     "user_tz": 300
    },
    "id": "6GV6Biy_uMCZ",
    "outputId": "aad8ff93-3f5a-42e7-face-0253c217de4c"
   },
   "outputs": [
    {
     "name": "stdout",
     "output_type": "stream",
     "text": [
      "b'[{\"descripcion\":\"Huawei P10\",\"cantidadDisponible\":2,\"imagen\":\"https://s3.amazonaws.com/techstorega-images/Celulares/HuaweiP10_400.png\",\"miniatura\":\"https://s3.amazonaws.com/techstorega-images/Celulares/HuaweiY9_160.png\",\"idProducto\":3,\"categoria\":\"celulares\",\"precio\":2999800},{\"descripcion\":\"Apple iPhone X\",\"cantidadDisponible\":5,\"imagen\":\"https://s3.amazonaws.com/techstorega-images/Celulares/AppleIphoneX_400.png\",\"miniatura\":\"https://s3.amazonaws.com/techstorega-images/Celulares/AppleIphoneX_160.png\",\"idProducto\":2,\"categoria\":\"celulares\",\"precio\":3599890},{\"descripcion\":\"Samsung QLED\",\"cantidadDisponible\":3,\"imagen\":\"https://s3.amazonaws.com/techstorega-images/Televisores/Samsung_QledTV_400.png\",\"miniatura\":\"https://s3.amazonaws.com/techstorega-images/Televisores/Samsung_QledTV_160.png\",\"idProducto\":4,\"categoria\":\"televisores\",\"precio\":1800000},{\"descripcion\":\"Samsung Galaxy S9\",\"cantidadDisponible\":10,\"imagen\":\"https://s3.amazonaws.com/techstorega-images/Celulares/SamsungGalaxys9_400.png\",\"miniatura\":\"https://s3.amazonaws.com/techstorega-images/Celulares/SamsungGalaxys9_160.png\",\"idProducto\":1,\"categoria\":\"celulares\",\"precio\":3299890},{\"descripcion\":\"LG Ulta HD\",\"cantidadDisponible\":0,\"imagen\":\"https://s3.amazonaws.com/techstorega-images/Televisores/LG_UltraHD_400.png\",\"miniatura\":\"https://s3.amazonaws.com/techstorega-images/Televisores/LG_UltraHD_160.png\",\"idProducto\":5,\"categoria\":\"televisores\",\"precio\":1750000}]'\n"
     ]
    }
   ],
   "source": [
    "if response.ok:\n",
    "  print(response.content)"
   ]
  },
  {
   "cell_type": "code",
   "execution_count": 68,
   "metadata": {
    "colab": {
     "base_uri": "https://localhost:8080/",
     "height": 71
    },
    "colab_type": "code",
    "executionInfo": {
     "elapsed": 420,
     "status": "ok",
     "timestamp": 1568158100829,
     "user": {
      "displayName": "Ricardo José Ramírez Blauvelt",
      "photoUrl": "https://lh3.googleusercontent.com/a-/AAuE7mC7HsFZWgDyVaAB6Wza-nOVo2GcumlXSW3wkY9oVKc=s64",
      "userId": "15259993531050943844"
     },
     "user_tz": 300
    },
    "id": "nEeHc7AIuTKJ",
    "outputId": "65e617d0-9339-4c07-9161-7a4ca948fc05"
   },
   "outputs": [
    {
     "name": "stdout",
     "output_type": "stream",
     "text": [
      "<class 'list'>\n",
      "[{'descripcion': 'Huawei P10', 'cantidadDisponible': 2, 'imagen': 'https://s3.amazonaws.com/techstorega-images/Celulares/HuaweiP10_400.png', 'miniatura': 'https://s3.amazonaws.com/techstorega-images/Celulares/HuaweiY9_160.png', 'idProducto': 3, 'categoria': 'celulares', 'precio': 2999800}, {'descripcion': 'Apple iPhone X', 'cantidadDisponible': 5, 'imagen': 'https://s3.amazonaws.com/techstorega-images/Celulares/AppleIphoneX_400.png', 'miniatura': 'https://s3.amazonaws.com/techstorega-images/Celulares/AppleIphoneX_160.png', 'idProducto': 2, 'categoria': 'celulares', 'precio': 3599890}, {'descripcion': 'Samsung QLED', 'cantidadDisponible': 3, 'imagen': 'https://s3.amazonaws.com/techstorega-images/Televisores/Samsung_QledTV_400.png', 'miniatura': 'https://s3.amazonaws.com/techstorega-images/Televisores/Samsung_QledTV_160.png', 'idProducto': 4, 'categoria': 'televisores', 'precio': 1800000}, {'descripcion': 'Samsung Galaxy S9', 'cantidadDisponible': 10, 'imagen': 'https://s3.amazonaws.com/techstorega-images/Celulares/SamsungGalaxys9_400.png', 'miniatura': 'https://s3.amazonaws.com/techstorega-images/Celulares/SamsungGalaxys9_160.png', 'idProducto': 1, 'categoria': 'celulares', 'precio': 3299890}, {'descripcion': 'LG Ulta HD', 'cantidadDisponible': 0, 'imagen': 'https://s3.amazonaws.com/techstorega-images/Televisores/LG_UltraHD_400.png', 'miniatura': 'https://s3.amazonaws.com/techstorega-images/Televisores/LG_UltraHD_160.png', 'idProducto': 5, 'categoria': 'televisores', 'precio': 1750000}]\n"
     ]
    }
   ],
   "source": [
    "# Cargar la respuesta JSON en una estructua Python\n",
    "data = json.loads(response.content)\n",
    "print(type(data))\n",
    "print(data)"
   ]
  },
  {
   "cell_type": "code",
   "execution_count": 69,
   "metadata": {
    "colab": {
     "base_uri": "https://localhost:8080/",
     "height": 34
    },
    "colab_type": "code",
    "executionInfo": {
     "elapsed": 1926,
     "status": "ok",
     "timestamp": 1568158104121,
     "user": {
      "displayName": "Ricardo José Ramírez Blauvelt",
      "photoUrl": "https://lh3.googleusercontent.com/a-/AAuE7mC7HsFZWgDyVaAB6Wza-nOVo2GcumlXSW3wkY9oVKc=s64",
      "userId": "15259993531050943844"
     },
     "user_tz": 300
    },
    "id": "Aa2c9aZFukWw",
    "outputId": "1970c64e-f5d5-47a2-e791-692fb47030cf"
   },
   "outputs": [
    {
     "name": "stdout",
     "output_type": "stream",
     "text": [
      "<Response [200]>\n"
     ]
    }
   ],
   "source": [
    "# Consultar un producto específico\n",
    "urlApiProducto = \"https://fvwzxk56cg.execute-api.us-east-1.amazonaws.com/mock/productos/1\"\n",
    "response = requests.get(urlApiProducto)\n",
    "if response.ok:\n",
    "  print(response)"
   ]
  },
  {
   "cell_type": "code",
   "execution_count": null,
   "metadata": {
    "colab": {},
    "colab_type": "code",
    "id": "Ul3tKb7N32Rr"
   },
   "outputs": [],
   "source": [
    "# Interpreta el JSON\n",
    "producto = json.loads(response.text)"
   ]
  },
  {
   "cell_type": "code",
   "execution_count": 71,
   "metadata": {
    "colab": {
     "base_uri": "https://localhost:8080/",
     "height": 170
    },
    "colab_type": "code",
    "executionInfo": {
     "elapsed": 486,
     "status": "ok",
     "timestamp": 1568158109872,
     "user": {
      "displayName": "Ricardo José Ramírez Blauvelt",
      "photoUrl": "https://lh3.googleusercontent.com/a-/AAuE7mC7HsFZWgDyVaAB6Wza-nOVo2GcumlXSW3wkY9oVKc=s64",
      "userId": "15259993531050943844"
     },
     "user_tz": 300
    },
    "id": "OlfGav6m3b8y",
    "outputId": "509acbfa-c784-4c66-8fe7-0bfdedbd8d6b"
   },
   "outputs": [
    {
     "name": "stdout",
     "output_type": "stream",
     "text": [
      "{\n",
      "    \"cantidadDisponible\": 10,\n",
      "    \"categoria\": \"celulares\",\n",
      "    \"descripcion\": \"Samsung Galaxy S9\",\n",
      "    \"idProducto\": 1,\n",
      "    \"imagen\": \"https://s3.amazonaws.com/techstorega-images/Celulares/SamsungGalaxys9_400.png\",\n",
      "    \"miniatura\": \"https://s3.amazonaws.com/techstorega-images/Celulares/SamsungGalaxys9_160.png\",\n",
      "    \"precio\": 3299890\n",
      "}\n"
     ]
    }
   ],
   "source": [
    "# Mostrarlo como JSON con formato\n",
    "print(json.dumps(producto, indent=4, sort_keys=True))"
   ]
  },
  {
   "cell_type": "code",
   "execution_count": null,
   "metadata": {
    "colab": {},
    "colab_type": "code",
    "id": "PZRoAOnZ4MMe"
   },
   "outputs": [],
   "source": [
    "# Mostrar la imagen asociada al producto\n",
    "from PIL import Image\n",
    "from io import BytesIO\n",
    "\n",
    "img = Image.open(BytesIO(requests.get(producto[\"imagen\"]).content))"
   ]
  },
  {
   "cell_type": "code",
   "execution_count": 73,
   "metadata": {
    "colab": {
     "base_uri": "https://localhost:8080/",
     "height": 286
    },
    "colab_type": "code",
    "executionInfo": {
     "elapsed": 623,
     "status": "ok",
     "timestamp": 1568158114282,
     "user": {
      "displayName": "Ricardo José Ramírez Blauvelt",
      "photoUrl": "https://lh3.googleusercontent.com/a-/AAuE7mC7HsFZWgDyVaAB6Wza-nOVo2GcumlXSW3wkY9oVKc=s64",
      "userId": "15259993531050943844"
     },
     "user_tz": 300
    },
    "id": "_F-Y2PCw6Fw6",
    "outputId": "5168d6fd-865a-46b7-a70a-13deef7ab02a"
   },
   "outputs": [
    {
     "data": {
      "text/plain": [
       "<matplotlib.image.AxesImage at 0x7f7f8a69ef60>"
      ]
     },
     "execution_count": 73,
     "metadata": {
      "tags": []
     },
     "output_type": "execute_result"
    },
    {
     "data": {
      "image/png": "[encoded data removed]",
      "text/plain": [
       "<Figure size 432x288 with 1 Axes>"
      ]
     },
     "metadata": {
      "tags": []
     },
     "output_type": "display_data"
    }
   ],
   "source": [
    "import matplotlib.pyplot as plt\n",
    "plt.imshow(img)"
   ]
  },
  {
   "cell_type": "code",
   "execution_count": 74,
   "metadata": {
    "colab": {
     "base_uri": "https://localhost:8080/",
     "height": 181
    },
    "colab_type": "code",
    "executionInfo": {
     "elapsed": 433,
     "status": "ok",
     "timestamp": 1568158117416,
     "user": {
      "displayName": "Ricardo José Ramírez Blauvelt",
      "photoUrl": "https://lh3.googleusercontent.com/a-/AAuE7mC7HsFZWgDyVaAB6Wza-nOVo2GcumlXSW3wkY9oVKc=s64",
      "userId": "15259993531050943844"
     },
     "user_tz": 300
    },
    "id": "zEbTrBzLzEE8",
    "outputId": "25402705-8179-4f22-c140-52edf757c397"
   },
   "outputs": [
    {
     "data": {
      "text/html": [
       "<img src=\"https://s3.amazonaws.com/techstorega-images/Celulares/SamsungGalaxys9_160.png\" />"
      ],
      "text/plain": [
       "<IPython.core.display.HTML object>"
      ]
     },
     "metadata": {
      "tags": []
     },
     "output_type": "display_data"
    }
   ],
   "source": [
    "# Alternativa con URL \"quemada\"\n",
    "%%html\n",
    "<img src=\"https://s3.amazonaws.com/techstorega-images/Celulares/SamsungGalaxys9_160.png\" />"
   ]
  },
  {
   "cell_type": "markdown",
   "metadata": {
    "colab_type": "text",
    "id": "jZ3c8aHy-2sL"
   },
   "source": [
    "### Hacer POST a una API\n"
   ]
  },
  {
   "cell_type": "code",
   "execution_count": 76,
   "metadata": {
    "colab": {
     "base_uri": "https://localhost:8080/",
     "height": 51
    },
    "colab_type": "code",
    "executionInfo": {
     "elapsed": 1292,
     "status": "ok",
     "timestamp": 1568158229939,
     "user": {
      "displayName": "Ricardo José Ramírez Blauvelt",
      "photoUrl": "https://lh3.googleusercontent.com/a-/AAuE7mC7HsFZWgDyVaAB6Wza-nOVo2GcumlXSW3wkY9oVKc=s64",
      "userId": "15259993531050943844"
     },
     "user_tz": 300
    },
    "id": "lMZwwxMe69df",
    "outputId": "bff6af7d-e4cb-4fa5-c979-1cc08dd2b6bc"
   },
   "outputs": [
    {
     "name": "stdout",
     "output_type": "stream",
     "text": [
      "El resultado de sumar 125 días hábiles en Colombia a la fecha 2019-08-28 es: \n",
      "2020-02-27 (jueves 27 de febrero de 2020)\n"
     ]
    }
   ],
   "source": [
    "# URL de la API\n",
    "url = \"https://8332nypvw4.execute-api.us-east-1.amazonaws.com/cf/sumardiashabiles\"\n",
    "\n",
    "# Payload\n",
    "datos = {\n",
    "    \"fechaInicial\": \"2019-08-28\",\n",
    "    \"diasHabilesSumar\": 125, \n",
    "    \"pais\": \"col\"\n",
    "}\n",
    "\n",
    "# Envía la solicitud a la API\n",
    "response = requests.post(url, json=datos)\n",
    "\n",
    "# Imprime la respuesta\n",
    "if response.ok:\n",
    "  print(response.json()[\"resultado\"])"
   ]
  },
  {
   "cell_type": "code",
   "execution_count": 77,
   "metadata": {
    "colab": {
     "base_uri": "https://localhost:8080/",
     "height": 51
    },
    "colab_type": "code",
    "executionInfo": {
     "elapsed": 1342,
     "status": "ok",
     "timestamp": 1568158232562,
     "user": {
      "displayName": "Ricardo José Ramírez Blauvelt",
      "photoUrl": "https://lh3.googleusercontent.com/a-/AAuE7mC7HsFZWgDyVaAB6Wza-nOVo2GcumlXSW3wkY9oVKc=s64",
      "userId": "15259993531050943844"
     },
     "user_tz": 300
    },
    "id": "l3Tb_wVD9l3I",
    "outputId": "ab9c6ad0-3b74-46ab-8e75-24732d751505"
   },
   "outputs": [
    {
     "name": "stdout",
     "output_type": "stream",
     "text": [
      "El resultado de sumar 125 días calendario a la fecha 2019-08-28 es: \n",
      "2019-12-31 (martes 31 de diciembre de 2019)\n"
     ]
    }
   ],
   "source": [
    "# URL de la API\n",
    "url = \"https://8332nypvw4.execute-api.us-east-1.amazonaws.com/cf/sumardiascalendario\"\n",
    "\n",
    "# Payload\n",
    "datos = {\n",
    "    \"fechaInicial\": \"2019-08-28\",\n",
    "    \"diasSumar\": 125\n",
    "}\n",
    "\n",
    "# Envía la solicitud a la API\n",
    "response = requests.post(url, data=json.dumps(datos), headers={\"Content-Type\": \"application/json\"})\n",
    "\n",
    "# Imprime la respuesta\n",
    "if response.ok:\n",
    "  print(response.json()[\"resultado\"])"
   ]
  },
  {
   "cell_type": "code",
   "execution_count": null,
   "metadata": {
    "colab": {},
    "colab_type": "code",
    "id": "TMj9oTqCCrI9"
   },
   "outputs": [],
   "source": []
  }
 ],
 "metadata": {
  "colab": {
   "collapsed_sections": [],
   "name": "Capacitación Python.ipynb",
   "provenance": [],
   "version": "0.3.2"
  },
  "kernelspec": {
   "display_name": "Python 3",
   "language": "python",
   "name": "python3"
  },
  "language_info": {
   "codemirror_mode": {
    "name": "ipython",
    "version": 3
   },
   "file_extension": ".py",
   "mimetype": "text/x-python",
   "name": "python",
   "nbconvert_exporter": "python",
   "pygments_lexer": "ipython3",
   "version": "3.7.3"
  }
 },
 "nbformat": 4,
 "nbformat_minor": 4
}
